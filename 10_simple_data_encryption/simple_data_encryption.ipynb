{
 "cells": [
  {
   "cell_type": "markdown",
   "metadata": {},
   "source": [
    "# Защита персональных данных клиентов"
   ]
  },
  {
   "cell_type": "markdown",
   "metadata": {},
   "source": [
    "Нам нужно защитить данные клиентов страховой компании «Хоть потоп». Разработаем такой метод преобразования данных, чтобы по ним было сложно восстановить персональную информацию, но при этом качество модели линейной регрессии не ухудшилось."
   ]
  },
  {
   "cell_type": "markdown",
   "metadata": {},
   "source": [
    "## Содержание<a name=\"Содержание\"></a>\n",
    "\n",
    "1. [Знакомство с данными](#1.-Знакомство-с-данными)\n",
    "2. [Теоретическое обоснование метода шифрования](#2.-Теоретическое-обоснование-метода-шифрования)\n",
    "\t1. [Задача линейной регрессии](#Задача-линейной-регрессии)\n",
    "\t2. [Умножение на обратимую матрицу](#Умножение-на-обратимую-матрицу)\n",
    "3. [Алгоритм преобразования](#3.-Алгоритм-преобразования)\n",
    "4. [Проверка алгоритма](#4.-Проверка-алгоритма)\n",
    "\t1. [Незакодированные данные: обучение и проверка модели](#Незакодированные-данные:-обучение-и-проверка-модели)\n",
    "\t2. [Матрица кодирования](#Матрица-кодирования)\n",
    "\t3. [Закодированные данные: обучение и проверка модели](#Закодированные-данные:-обучение-и-проверка-модели)\n",
    "5. [Вывод](#5.-Вывод)"
   ]
  },
  {
   "cell_type": "markdown",
   "metadata": {},
   "source": [
    "## 0. Импорт библиотек"
   ]
  },
  {
   "cell_type": "code",
   "execution_count": 1,
   "metadata": {},
   "outputs": [],
   "source": [
    "import pandas as pd\n",
    "\n",
    "import numpy as np\n",
    "\n",
    "from sklearn.model_selection import train_test_split\n",
    "from sklearn.linear_model import LinearRegression\n",
    "from sklearn.metrics import r2_score"
   ]
  },
  {
   "cell_type": "code",
   "execution_count": 2,
   "metadata": {},
   "outputs": [],
   "source": [
    "SEED = 42"
   ]
  },
  {
   "cell_type": "markdown",
   "metadata": {},
   "source": [
    "## 1. Знакомство с данными<a name=\"1.-Знакомство-с-данными\"></a>"
   ]
  },
  {
   "cell_type": "markdown",
   "metadata": {},
   "source": [
    "Сохраним датафрейм в переменную `insurance` и посмотрим на первые строки из него."
   ]
  },
  {
   "cell_type": "code",
   "execution_count": 3,
   "metadata": {},
   "outputs": [
    {
     "data": {
      "text/html": [
       "<div>\n",
       "<style scoped>\n",
       "    .dataframe tbody tr th:only-of-type {\n",
       "        vertical-align: middle;\n",
       "    }\n",
       "\n",
       "    .dataframe tbody tr th {\n",
       "        vertical-align: top;\n",
       "    }\n",
       "\n",
       "    .dataframe thead th {\n",
       "        text-align: right;\n",
       "    }\n",
       "</style>\n",
       "<table border=\"1\" class=\"dataframe\">\n",
       "  <thead>\n",
       "    <tr style=\"text-align: right;\">\n",
       "      <th></th>\n",
       "      <th>Пол</th>\n",
       "      <th>Возраст</th>\n",
       "      <th>Зарплата</th>\n",
       "      <th>Члены семьи</th>\n",
       "      <th>Страховые выплаты</th>\n",
       "    </tr>\n",
       "  </thead>\n",
       "  <tbody>\n",
       "    <tr>\n",
       "      <th>0</th>\n",
       "      <td>1</td>\n",
       "      <td>41.0</td>\n",
       "      <td>49600.0</td>\n",
       "      <td>1</td>\n",
       "      <td>0</td>\n",
       "    </tr>\n",
       "    <tr>\n",
       "      <th>1</th>\n",
       "      <td>0</td>\n",
       "      <td>46.0</td>\n",
       "      <td>38000.0</td>\n",
       "      <td>1</td>\n",
       "      <td>1</td>\n",
       "    </tr>\n",
       "    <tr>\n",
       "      <th>2</th>\n",
       "      <td>0</td>\n",
       "      <td>29.0</td>\n",
       "      <td>21000.0</td>\n",
       "      <td>0</td>\n",
       "      <td>0</td>\n",
       "    </tr>\n",
       "    <tr>\n",
       "      <th>3</th>\n",
       "      <td>0</td>\n",
       "      <td>21.0</td>\n",
       "      <td>41700.0</td>\n",
       "      <td>2</td>\n",
       "      <td>0</td>\n",
       "    </tr>\n",
       "    <tr>\n",
       "      <th>4</th>\n",
       "      <td>1</td>\n",
       "      <td>28.0</td>\n",
       "      <td>26100.0</td>\n",
       "      <td>0</td>\n",
       "      <td>0</td>\n",
       "    </tr>\n",
       "  </tbody>\n",
       "</table>\n",
       "</div>"
      ],
      "text/plain": [
       "   Пол  Возраст  Зарплата  Члены семьи  Страховые выплаты\n",
       "0    1     41.0   49600.0            1                  0\n",
       "1    0     46.0   38000.0            1                  1\n",
       "2    0     29.0   21000.0            0                  0\n",
       "3    0     21.0   41700.0            2                  0\n",
       "4    1     28.0   26100.0            0                  0"
      ]
     },
     "execution_count": 3,
     "metadata": {},
     "output_type": "execute_result"
    }
   ],
   "source": [
    "insurance = pd.read_csv('insurance.csv')\n",
    "insurance.head(5)"
   ]
  },
  {
   "cell_type": "markdown",
   "metadata": {},
   "source": [
    "Каждый объект в таблице содержит информацию об одном пользователе:\n",
    "- пол,\n",
    "- возраст,\n",
    "- размер зарплаты,\n",
    "- количество членов семьи,\n",
    "- число страховых выплат за последние пять лет.\n",
    "\n",
    "Последний признак — целевой.\n",
    "\n",
    "Посмотрим на общую информацию о данных."
   ]
  },
  {
   "cell_type": "code",
   "execution_count": 4,
   "metadata": {},
   "outputs": [
    {
     "name": "stdout",
     "output_type": "stream",
     "text": [
      "<class 'pandas.core.frame.DataFrame'>\n",
      "RangeIndex: 5000 entries, 0 to 4999\n",
      "Data columns (total 5 columns):\n",
      " #   Column             Non-Null Count  Dtype  \n",
      "---  ------             --------------  -----  \n",
      " 0   Пол                5000 non-null   int64  \n",
      " 1   Возраст            5000 non-null   float64\n",
      " 2   Зарплата           5000 non-null   float64\n",
      " 3   Члены семьи        5000 non-null   int64  \n",
      " 4   Страховые выплаты  5000 non-null   int64  \n",
      "dtypes: float64(2), int64(3)\n",
      "memory usage: 195.4 KB\n"
     ]
    }
   ],
   "source": [
    "insurance.info()"
   ]
  },
  {
   "cell_type": "markdown",
   "metadata": {},
   "source": [
    "Нам повезло, в данных нет пропусков. \n",
    "\n",
    "Для нашей задачи такого знакомства достаточно — не будем исправлять названия столбцов, искать выбросы и дупликаты, приводить признаки к нужным типам."
   ]
  },
  {
   "cell_type": "markdown",
   "metadata": {},
   "source": [
    "[К содержанию](#Содержание)"
   ]
  },
  {
   "cell_type": "markdown",
   "metadata": {},
   "source": [
    "## 2. Теоретическое обоснование метода шифрования<a name=\"2.-Теоретическое-обоснование-метода-шифрования\"></a>"
   ]
  },
  {
   "cell_type": "markdown",
   "metadata": {},
   "source": [
    "### Задача линейной регрессии<a name=\"Задача-линейной-регрессии\"></a>"
   ]
  },
  {
   "cell_type": "markdown",
   "metadata": {},
   "source": [
    "Обозначения:\n",
    "\n",
    "- $X$ — матрица признаков (нулевой столбец состоит из единиц)\n",
    "\n",
    "- $y$ — вектор целевого признака\n",
    "\n",
    "- $P$ — матрица, на которую умножаются признаки\n",
    "\n",
    "- $w$ — вектор весов линейной регрессии (нулевой элемент равен сдвигу)"
   ]
  },
  {
   "cell_type": "markdown",
   "metadata": {},
   "source": [
    "Предсказания:\n",
    "\n",
    "$$\n",
    "a = Xw\n",
    "$$\n",
    "\n",
    "Задача обучения:\n",
    "\n",
    "$$\n",
    "w = \\arg\\min_w MSE(Xw, y)\n",
    "$$\n",
    "\n",
    "Формула обучения:\n",
    "\n",
    "$$\n",
    "w = (X^T X)^{-1} X^T y\n",
    "$$"
   ]
  },
  {
   "cell_type": "markdown",
   "metadata": {},
   "source": [
    "### Умножение на обратимую матрицу<a name=\"Умножение-на-обратимую-матрицу\"></a>"
   ]
  },
  {
   "cell_type": "markdown",
   "metadata": {},
   "source": [
    "При умножении признаков на обратимую матрицу качество линейной регрессии **не изменится.**\n",
    "\n",
    "**Обоснование:** \n",
    "\n",
    "Обозначим новую матрицу признаков как $X'$:\n",
    "\n",
    "$$ X' = XP $$\n",
    "\n",
    "Тогда новый вектор весов $w'$ примет такой вид:\n",
    "\n",
    "$$ w' = ((XP)^T (XP))^{-1} (XP)^T y $$\n",
    "\n",
    "Найдем новые предсказания $a'$:\n",
    "\n",
    "$$ a' = X'w' = $$ \n",
    "$$ $$\n",
    "$$ = (XP)((XP)^T (XP))^{-1} (XP)^T y =$$\n",
    "$$ $$\n",
    "$$ = [по⠀свойству⠀транспонирования⠀произведения⠀матриц⠀(AB)^T=B^T A^T] $$\n",
    "$$ XP(P^T X^T XP)^{-1} P^T X^T y =$$ \n",
    "$$ $$\n",
    "$$ = [по⠀ассоциативности⠀и⠀свойству⠀обратной⠀матрицы⠀произведения⠀(AB)^{-1}=B^{-1}A^{-1}] $$\n",
    "$$ XP P^{-1} (X^T X)^{-1} (P^T)^{-1} P^T X^T y =$$\n",
    "$$ $$\n",
    "$$ = [по⠀определению⠀обратной⠀матрицы] $$\n",
    "$$ XE (X^T X)^{-1} E X^T y =$$\n",
    "$$ $$\n",
    "$$ = X (X^T X^{-1}) X^T y = Xw$$"
   ]
  },
  {
   "cell_type": "markdown",
   "metadata": {},
   "source": [
    "Новые предсказания равны старым, что и требовалось доказать."
   ]
  },
  {
   "cell_type": "markdown",
   "metadata": {},
   "source": [
    "[К содержанию](#Содержание)"
   ]
  },
  {
   "cell_type": "markdown",
   "metadata": {},
   "source": [
    "## 3. Алгоритм преобразования<a name=\"3.-Алгоритм-преобразования\"></a>"
   ]
  },
  {
   "cell_type": "markdown",
   "metadata": {},
   "source": [
    "1. С помощью `np.random.rand()` создадим квадратную матрицу A с размерностью равной числу признаков в исходных данных.\n",
    "\n",
    "2. Методом `np.linalg.inv()` проверим матрицу на обратимость. Если метод не вернул ошибку, то матрица обратимая, в противном случае — нет.\n",
    "\n",
    "3. Умножим матрицу признаков X на А. Результат и будет закодированными данными пользователей."
   ]
  },
  {
   "cell_type": "markdown",
   "metadata": {},
   "source": [
    "**Обоснование**\n",
    "\n",
    "Представленный алгоритм вернет зашифрованные данные пользователей. При этом он не повлияет на работу модели — мы доказали это в предыдущем пункте."
   ]
  },
  {
   "cell_type": "markdown",
   "metadata": {},
   "source": [
    "[К содержанию](#Содержание)"
   ]
  },
  {
   "cell_type": "markdown",
   "metadata": {},
   "source": [
    "## 4. Проверка алгоритма<a name=\"4.-Проверка-алгоритма\"></a>"
   ]
  },
  {
   "cell_type": "markdown",
   "metadata": {},
   "source": [
    "Выделим из датафрейма `insurance` признаки и целевой признак."
   ]
  },
  {
   "cell_type": "code",
   "execution_count": 5,
   "metadata": {},
   "outputs": [],
   "source": [
    "features = insurance.drop('Страховые выплаты', axis=1)\n",
    "target = insurance['Страховые выплаты']"
   ]
  },
  {
   "cell_type": "markdown",
   "metadata": {},
   "source": [
    "Разобьем данные на обучающую и тестовую выборки и проверим их размеры."
   ]
  },
  {
   "cell_type": "code",
   "execution_count": 6,
   "metadata": {},
   "outputs": [],
   "source": [
    "features_train, features_test, target_train, target_test = \\\n",
    "        train_test_split(features, target, test_size=0.25, random_state=SEED)"
   ]
  },
  {
   "cell_type": "code",
   "execution_count": 7,
   "metadata": {},
   "outputs": [
    {
     "name": "stdout",
     "output_type": "stream",
     "text": [
      "\u001b[1mРазмеры выборок\u001b[0m\n",
      "Обучающая: (3750, 4)\n",
      "Тестовая: (1250, 4)\n"
     ]
    }
   ],
   "source": [
    "print('\\033[1m' + 'Размеры выборок' + '\\033[0m')\n",
    "print('Обучающая:', features_train.shape)\n",
    "print('Тестовая:', features_test.shape)"
   ]
  },
  {
   "cell_type": "markdown",
   "metadata": {},
   "source": [
    "### Незакодированные данные: обучение и проверка модели<a name=\"Незакодированные-данные:-обучение-и-проверка-модели\"></a>"
   ]
  },
  {
   "cell_type": "markdown",
   "metadata": {},
   "source": [
    "Обучим модель на незакодированных данных, получим предсказания на тестовой выборке и посмотрим на их качество."
   ]
  },
  {
   "cell_type": "code",
   "execution_count": 8,
   "metadata": {},
   "outputs": [],
   "source": [
    "model = LinearRegression()\n",
    "model.fit(features_train, target_train)\n",
    "\n",
    "preds_initial = model.predict(features_test)"
   ]
  },
  {
   "cell_type": "markdown",
   "metadata": {},
   "source": [
    "Для проверки качества модели будем использовать коэффициент детерминации. Он показывает, насколько хорошо рассматриваемая модель объясняет дисперсию целевой переменной."
   ]
  },
  {
   "cell_type": "code",
   "execution_count": 9,
   "metadata": {},
   "outputs": [
    {
     "name": "stdout",
     "output_type": "stream",
     "text": [
      "Коэффициент детерминации модели, обученной на исходных данных: 0.4254778540696311\n"
     ]
    }
   ],
   "source": [
    "r2_initial = r2_score(target_test, preds_initial)\n",
    "\n",
    "print('Коэффициент детерминации модели, обученной на исходных данных:', r2_initial)"
   ]
  },
  {
   "cell_type": "markdown",
   "metadata": {},
   "source": [
    "Коэффициент получился ниже 50%, то есть модель плохо понимает данные 😬 Но сейчас мы не будем разбираться с этим."
   ]
  },
  {
   "cell_type": "markdown",
   "metadata": {},
   "source": [
    "### Матрица кодирования<a name=\"Матрица-кодирования\"></a>"
   ]
  },
  {
   "cell_type": "markdown",
   "metadata": {},
   "source": [
    "Теперь создадим матрицу, которой будем кодировать признаки, и проверим ее на вырожденность."
   ]
  },
  {
   "cell_type": "code",
   "execution_count": 10,
   "metadata": {},
   "outputs": [
    {
     "data": {
      "text/plain": [
       "array([[-0.32076901, -0.12766508,  0.06141427,  1.32518674],\n",
       "       [ 0.35151041, -1.88500014,  1.65560045, -1.0003883 ],\n",
       "       [ 1.14080312,  1.3467702 , -2.0407373 ,  0.70794071],\n",
       "       [-0.08202687,  1.42666425, -0.17238177, -0.10600441]])"
      ]
     },
     "execution_count": 10,
     "metadata": {},
     "output_type": "execute_result"
    }
   ],
   "source": [
    "np.random.seed(SEED)\n",
    "A = np.random.rand(4,4)\n",
    "np.linalg.inv(A)"
   ]
  },
  {
   "cell_type": "markdown",
   "metadata": {},
   "source": [
    "Обратная матрица создалась, значит, A не вырождена. Домножим на нее матрицу признаков, а затем создадим новые, состоящие из закодированных признаков обучающую и тестовую выборки."
   ]
  },
  {
   "cell_type": "code",
   "execution_count": 11,
   "metadata": {},
   "outputs": [],
   "source": [
    "features_enc = features.values @ A\n",
    "\n",
    "features_enc_train, features_enc_test, target_enc_train, target_enc_test = \\\n",
    "        train_test_split(features_enc, target, test_size=0.25, random_state=42)"
   ]
  },
  {
   "cell_type": "code",
   "execution_count": 12,
   "metadata": {},
   "outputs": [
    {
     "name": "stdout",
     "output_type": "stream",
     "text": [
      "\u001b[1mРазмеры выборок\u001b[0m\n",
      "Обучающая: (3750, 4)\n",
      "Тестовая: (1250, 4)\n"
     ]
    }
   ],
   "source": [
    "print('\\033[1m' + 'Размеры выборок' + '\\033[0m')\n",
    "print('Обучающая:', features_enc_train.shape)\n",
    "print('Тестовая:', features_enc_test.shape)"
   ]
  },
  {
   "cell_type": "markdown",
   "metadata": {},
   "source": [
    "### Закодированные данные: обучение и проверка модели<a name=\"Закодированные-данные:-обучение-и-проверка-модели\"></a>"
   ]
  },
  {
   "cell_type": "markdown",
   "metadata": {},
   "source": [
    "Переобучим модель на закодированных данных и посмотрим на качество новых предсказаний."
   ]
  },
  {
   "cell_type": "code",
   "execution_count": 13,
   "metadata": {},
   "outputs": [
    {
     "name": "stdout",
     "output_type": "stream",
     "text": [
      "R2-метрика модели, обученной на закодированных данных: 0.42547785406900973\n"
     ]
    }
   ],
   "source": [
    "model.fit(features_enc_train, target_enc_train)\n",
    "\n",
    "preds_enc = model.predict(features_enc_test)\n",
    "r2_enc = r2_score(target_enc_test, preds_enc)\n",
    "\n",
    "print('R2-метрика модели, обученной на закодированных данных:', r2_enc)"
   ]
  },
  {
   "cell_type": "markdown",
   "metadata": {},
   "source": [
    "Вспомним результат модели на необработанных данных."
   ]
  },
  {
   "cell_type": "code",
   "execution_count": 14,
   "metadata": {},
   "outputs": [
    {
     "name": "stdout",
     "output_type": "stream",
     "text": [
      "R2-метрика модели, обученной на исходных данных: 0.4254778540696311\n"
     ]
    }
   ],
   "source": [
    "print('R2-метрика модели, обученной на исходных данных:', r2_initial)"
   ]
  },
  {
   "cell_type": "markdown",
   "metadata": {},
   "source": [
    "Метрики различаются после десятого знака за запятой. Спишем это небольшое различие на особенности хранения данных в Питоне."
   ]
  },
  {
   "cell_type": "markdown",
   "metadata": {},
   "source": [
    "[К содержанию](#Содержание)"
   ]
  },
  {
   "cell_type": "markdown",
   "metadata": {},
   "source": [
    "## 5. Вывод <a name=\"5.-Вывод\"></a>\n",
    "\n",
    "Главная задача проекта — разработать метод кодирования данных, который не повлияет на качество моделей машинного обучения. Мы справились с ней! \n",
    "\n",
    "Для решения задачи мы теоретически доказали, что предсказания линейной регрессии не изменятся, если подаваемые ей признаки будут умножены на обратимую матрицу. На основе этого свойства мы создали алгоритм кодирования данных. Затем мы проверили его на реальных данных и получили подтверждающий теорию результат."
   ]
  },
  {
   "cell_type": "markdown",
   "metadata": {},
   "source": [
    "[К содержанию](#Содержание)"
   ]
  }
 ],
 "metadata": {
  "kernelspec": {
   "display_name": "Python 3 (ipykernel)",
   "language": "python",
   "name": "python3"
  },
  "language_info": {
   "codemirror_mode": {
    "name": "ipython",
    "version": 3
   },
   "file_extension": ".py",
   "mimetype": "text/x-python",
   "name": "python",
   "nbconvert_exporter": "python",
   "pygments_lexer": "ipython3",
   "version": "3.9.7"
  },
  "toc": {
   "base_numbering": 1,
   "nav_menu": {},
   "number_sections": false,
   "sideBar": true,
   "skip_h1_title": true,
   "title_cell": "Содержание",
   "title_sidebar": "Contents",
   "toc_cell": false,
   "toc_position": {
    "height": "calc(100% - 180px)",
    "left": "10px",
    "top": "150px",
    "width": "239px"
   },
   "toc_section_display": true,
   "toc_window_display": true
  }
 },
 "nbformat": 4,
 "nbformat_minor": 2
}
