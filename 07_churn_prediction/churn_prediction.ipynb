{
 "cells": [
  {
   "cell_type": "markdown",
   "metadata": {},
   "source": [
    "# Предсказание оттока клиентов в банке"
   ]
  },
  {
   "cell_type": "markdown",
   "metadata": {},
   "source": [
    "Из «Бета-Банка» стали уходить клиенты. Каждый месяц. Немного, но заметно. Банковские маркетологи посчитали: сохранять текущих клиентов дешевле, чем привлекать новых.\n",
    "\n",
    "Нужно спрогнозировать, уйдёт клиент из банка в ближайшее время или нет. Нам предоставлены исторические данные о поведении клиентов и расторжении договоров с банком.\n",
    "\n",
    "У итоговой модели F1-мера должна быть не ниже 0.59."
   ]
  },
  {
   "cell_type": "markdown",
   "metadata": {},
   "source": [
    "## Содержание<a name=\"Содержание\"></a>\n",
    "\n",
    "1. [Знакомство с данными](#1.-Знакомство-с-данными)\n",
    "2. [Подготовка данных](#2.-Подготовка-данных)\n",
    "\t3. [Обработка пропусков](#Обработка-пропусков)\n",
    "\t4. [Прямое кодирование](#Прямое-кодирование)\n",
    "\t5. [Разбиение данных на выборки](#Разбиение-данных-на-выборки)\n",
    "\t6. [Масштабирование признаков](#Масштабирование-признаков)\n",
    "3. [Исследование задачи](#3.-Исследование-задачи)\n",
    "\t1. [Исследование баланса классов](#Исследование-баланса-классов)\n",
    "\t2. [Таблица исследования](#Таблица-исследования)\n",
    "\t3. [Функции, используемые в исследовании](#Функции,-используемые-в-исследовании)\n",
    "4. [Несбалансированные классы](#4.-Несбалансированные-классы)\n",
    "\t1. [Подготовка данных для GridSearch](#Подготовка-данных-для-GridSearch)\n",
    "\t2. [Дерево решений](#Дерево-решений-дисбаланс)\n",
    "\t3. [Случайный лес](#Случайный-лес)\n",
    "\t4. [Логистическая регрессия](#Логистическая-регрессия)\n",
    "\t5. [Вывод](#Вывод)\n",
    "5. [Борьба с дисбалансом](#5.-Борьба-с-дисбалансом)\n",
    "\t1. [Upsampling](#Upsampling)\n",
    "\t2. [Уравновешивание классов](#Уравновешивание-классов)\n",
    "\t3. [Изменение порога классификации](#Изменение-порога-классификации)\n",
    "\t4. [Сравнение способов борьбы с дисбалансом](#Сравнение-способов-борьбы-с-дисбалансом)\n",
    "6. [Тестирование лучшей модели](#6.-Тестирование-лучшей-модели)"
   ]
  },
  {
   "cell_type": "markdown",
   "metadata": {},
   "source": [
    "## 0. Импорт библиотек"
   ]
  },
  {
   "cell_type": "code",
   "execution_count": 1,
   "metadata": {},
   "outputs": [],
   "source": [
    "import pandas as pd\n",
    "import numpy as np\n",
    "\n",
    "import matplotlib.pyplot as plt\n",
    "import seaborn as sns\n",
    "\n",
    "from sklearn.utils import shuffle\n",
    "\n",
    "from sklearn.model_selection import train_test_split\n",
    "from sklearn.preprocessing import StandardScaler\n",
    "\n",
    "from sklearn.model_selection import PredefinedSplit\n",
    "from sklearn.model_selection import GridSearchCV\n",
    "\n",
    "from sklearn.tree import DecisionTreeClassifier\n",
    "from sklearn.ensemble import RandomForestClassifier\n",
    "from sklearn.linear_model import LogisticRegression\n",
    "\n",
    "from sklearn.metrics import f1_score, precision_score, recall_score\n",
    "from sklearn.metrics import roc_auc_score, plot_roc_curve"
   ]
  },
  {
   "cell_type": "code",
   "execution_count": 2,
   "metadata": {},
   "outputs": [],
   "source": [
    "sns.set_style('darkgrid')\n",
    "pd.set_option('mode.chained_assignment', None)"
   ]
  },
  {
   "cell_type": "code",
   "execution_count": 3,
   "metadata": {},
   "outputs": [],
   "source": [
    "SEED = 42"
   ]
  },
  {
   "cell_type": "markdown",
   "metadata": {},
   "source": [
    "## 1. Знакомство с данными<a name=\"1.-Знакомство-с-данными\"></a>"
   ]
  },
  {
   "cell_type": "markdown",
   "metadata": {},
   "source": [
    "Сохраним датасет в переменную `df` и посмотрим на первые 10 строчек."
   ]
  },
  {
   "cell_type": "code",
   "execution_count": 4,
   "metadata": {},
   "outputs": [
    {
     "data": {
      "text/html": [
       "<div>\n",
       "<style scoped>\n",
       "    .dataframe tbody tr th:only-of-type {\n",
       "        vertical-align: middle;\n",
       "    }\n",
       "\n",
       "    .dataframe tbody tr th {\n",
       "        vertical-align: top;\n",
       "    }\n",
       "\n",
       "    .dataframe thead th {\n",
       "        text-align: right;\n",
       "    }\n",
       "</style>\n",
       "<table border=\"1\" class=\"dataframe\">\n",
       "  <thead>\n",
       "    <tr style=\"text-align: right;\">\n",
       "      <th></th>\n",
       "      <th>RowNumber</th>\n",
       "      <th>CustomerId</th>\n",
       "      <th>Surname</th>\n",
       "      <th>CreditScore</th>\n",
       "      <th>Geography</th>\n",
       "      <th>Gender</th>\n",
       "      <th>Age</th>\n",
       "      <th>Tenure</th>\n",
       "      <th>Balance</th>\n",
       "      <th>NumOfProducts</th>\n",
       "      <th>HasCrCard</th>\n",
       "      <th>IsActiveMember</th>\n",
       "      <th>EstimatedSalary</th>\n",
       "      <th>Exited</th>\n",
       "    </tr>\n",
       "  </thead>\n",
       "  <tbody>\n",
       "    <tr>\n",
       "      <th>0</th>\n",
       "      <td>1</td>\n",
       "      <td>15634602</td>\n",
       "      <td>Hargrave</td>\n",
       "      <td>619</td>\n",
       "      <td>France</td>\n",
       "      <td>Female</td>\n",
       "      <td>42</td>\n",
       "      <td>2.0</td>\n",
       "      <td>0.00</td>\n",
       "      <td>1</td>\n",
       "      <td>1</td>\n",
       "      <td>1</td>\n",
       "      <td>101348.88</td>\n",
       "      <td>1</td>\n",
       "    </tr>\n",
       "    <tr>\n",
       "      <th>1</th>\n",
       "      <td>2</td>\n",
       "      <td>15647311</td>\n",
       "      <td>Hill</td>\n",
       "      <td>608</td>\n",
       "      <td>Spain</td>\n",
       "      <td>Female</td>\n",
       "      <td>41</td>\n",
       "      <td>1.0</td>\n",
       "      <td>83807.86</td>\n",
       "      <td>1</td>\n",
       "      <td>0</td>\n",
       "      <td>1</td>\n",
       "      <td>112542.58</td>\n",
       "      <td>0</td>\n",
       "    </tr>\n",
       "    <tr>\n",
       "      <th>2</th>\n",
       "      <td>3</td>\n",
       "      <td>15619304</td>\n",
       "      <td>Onio</td>\n",
       "      <td>502</td>\n",
       "      <td>France</td>\n",
       "      <td>Female</td>\n",
       "      <td>42</td>\n",
       "      <td>8.0</td>\n",
       "      <td>159660.80</td>\n",
       "      <td>3</td>\n",
       "      <td>1</td>\n",
       "      <td>0</td>\n",
       "      <td>113931.57</td>\n",
       "      <td>1</td>\n",
       "    </tr>\n",
       "    <tr>\n",
       "      <th>3</th>\n",
       "      <td>4</td>\n",
       "      <td>15701354</td>\n",
       "      <td>Boni</td>\n",
       "      <td>699</td>\n",
       "      <td>France</td>\n",
       "      <td>Female</td>\n",
       "      <td>39</td>\n",
       "      <td>1.0</td>\n",
       "      <td>0.00</td>\n",
       "      <td>2</td>\n",
       "      <td>0</td>\n",
       "      <td>0</td>\n",
       "      <td>93826.63</td>\n",
       "      <td>0</td>\n",
       "    </tr>\n",
       "    <tr>\n",
       "      <th>4</th>\n",
       "      <td>5</td>\n",
       "      <td>15737888</td>\n",
       "      <td>Mitchell</td>\n",
       "      <td>850</td>\n",
       "      <td>Spain</td>\n",
       "      <td>Female</td>\n",
       "      <td>43</td>\n",
       "      <td>2.0</td>\n",
       "      <td>125510.82</td>\n",
       "      <td>1</td>\n",
       "      <td>1</td>\n",
       "      <td>1</td>\n",
       "      <td>79084.10</td>\n",
       "      <td>0</td>\n",
       "    </tr>\n",
       "    <tr>\n",
       "      <th>5</th>\n",
       "      <td>6</td>\n",
       "      <td>15574012</td>\n",
       "      <td>Chu</td>\n",
       "      <td>645</td>\n",
       "      <td>Spain</td>\n",
       "      <td>Male</td>\n",
       "      <td>44</td>\n",
       "      <td>8.0</td>\n",
       "      <td>113755.78</td>\n",
       "      <td>2</td>\n",
       "      <td>1</td>\n",
       "      <td>0</td>\n",
       "      <td>149756.71</td>\n",
       "      <td>1</td>\n",
       "    </tr>\n",
       "    <tr>\n",
       "      <th>6</th>\n",
       "      <td>7</td>\n",
       "      <td>15592531</td>\n",
       "      <td>Bartlett</td>\n",
       "      <td>822</td>\n",
       "      <td>France</td>\n",
       "      <td>Male</td>\n",
       "      <td>50</td>\n",
       "      <td>7.0</td>\n",
       "      <td>0.00</td>\n",
       "      <td>2</td>\n",
       "      <td>1</td>\n",
       "      <td>1</td>\n",
       "      <td>10062.80</td>\n",
       "      <td>0</td>\n",
       "    </tr>\n",
       "    <tr>\n",
       "      <th>7</th>\n",
       "      <td>8</td>\n",
       "      <td>15656148</td>\n",
       "      <td>Obinna</td>\n",
       "      <td>376</td>\n",
       "      <td>Germany</td>\n",
       "      <td>Female</td>\n",
       "      <td>29</td>\n",
       "      <td>4.0</td>\n",
       "      <td>115046.74</td>\n",
       "      <td>4</td>\n",
       "      <td>1</td>\n",
       "      <td>0</td>\n",
       "      <td>119346.88</td>\n",
       "      <td>1</td>\n",
       "    </tr>\n",
       "    <tr>\n",
       "      <th>8</th>\n",
       "      <td>9</td>\n",
       "      <td>15792365</td>\n",
       "      <td>He</td>\n",
       "      <td>501</td>\n",
       "      <td>France</td>\n",
       "      <td>Male</td>\n",
       "      <td>44</td>\n",
       "      <td>4.0</td>\n",
       "      <td>142051.07</td>\n",
       "      <td>2</td>\n",
       "      <td>0</td>\n",
       "      <td>1</td>\n",
       "      <td>74940.50</td>\n",
       "      <td>0</td>\n",
       "    </tr>\n",
       "    <tr>\n",
       "      <th>9</th>\n",
       "      <td>10</td>\n",
       "      <td>15592389</td>\n",
       "      <td>H?</td>\n",
       "      <td>684</td>\n",
       "      <td>France</td>\n",
       "      <td>Male</td>\n",
       "      <td>27</td>\n",
       "      <td>2.0</td>\n",
       "      <td>134603.88</td>\n",
       "      <td>1</td>\n",
       "      <td>1</td>\n",
       "      <td>1</td>\n",
       "      <td>71725.73</td>\n",
       "      <td>0</td>\n",
       "    </tr>\n",
       "  </tbody>\n",
       "</table>\n",
       "</div>"
      ],
      "text/plain": [
       "   RowNumber  CustomerId   Surname  CreditScore Geography  Gender  Age  \\\n",
       "0          1    15634602  Hargrave          619    France  Female   42   \n",
       "1          2    15647311      Hill          608     Spain  Female   41   \n",
       "2          3    15619304      Onio          502    France  Female   42   \n",
       "3          4    15701354      Boni          699    France  Female   39   \n",
       "4          5    15737888  Mitchell          850     Spain  Female   43   \n",
       "5          6    15574012       Chu          645     Spain    Male   44   \n",
       "6          7    15592531  Bartlett          822    France    Male   50   \n",
       "7          8    15656148    Obinna          376   Germany  Female   29   \n",
       "8          9    15792365        He          501    France    Male   44   \n",
       "9         10    15592389        H?          684    France    Male   27   \n",
       "\n",
       "   Tenure    Balance  NumOfProducts  HasCrCard  IsActiveMember  \\\n",
       "0     2.0       0.00              1          1               1   \n",
       "1     1.0   83807.86              1          0               1   \n",
       "2     8.0  159660.80              3          1               0   \n",
       "3     1.0       0.00              2          0               0   \n",
       "4     2.0  125510.82              1          1               1   \n",
       "5     8.0  113755.78              2          1               0   \n",
       "6     7.0       0.00              2          1               1   \n",
       "7     4.0  115046.74              4          1               0   \n",
       "8     4.0  142051.07              2          0               1   \n",
       "9     2.0  134603.88              1          1               1   \n",
       "\n",
       "   EstimatedSalary  Exited  \n",
       "0        101348.88       1  \n",
       "1        112542.58       0  \n",
       "2        113931.57       1  \n",
       "3         93826.63       0  \n",
       "4         79084.10       0  \n",
       "5        149756.71       1  \n",
       "6         10062.80       0  \n",
       "7        119346.88       1  \n",
       "8         74940.50       0  \n",
       "9         71725.73       0  "
      ]
     },
     "execution_count": 4,
     "metadata": {},
     "output_type": "execute_result"
    }
   ],
   "source": [
    "df = pd.read_csv('Churn.csv')\n",
    "df.head(10)"
   ]
  },
  {
   "cell_type": "markdown",
   "metadata": {},
   "source": [
    "Каждый объект в наборе данных — это информация о поведении одного пользователя. Известно:\n",
    "\n",
    "* RowNumber — индекс строки в данных\n",
    "* CustomerId — уникальный идентификатор клиента\n",
    "* Surname — фамилия\n",
    "* CreditScore — кредитный рейтинг\n",
    "* Geography — страна проживания\n",
    "* Gender — пол\n",
    "* Age — возраст\n",
    "* Tenure — количество недвижимости у клиента\n",
    "* Balance — баланс на счёте\n",
    "* NumOfProducts — количество продуктов банка, используемых клиентом\n",
    "* HasCrCard — наличие кредитной карты\n",
    "* IsActiveMember — активность клиента\n",
    "* EstimatedSalary — предполагаемая зарплата\n",
    "* Exited — факт ухода клиента\n",
    "\n",
    "Exited — целевой признак.\n",
    "\n",
    "Также посмотрим на общую информацию о датасете."
   ]
  },
  {
   "cell_type": "code",
   "execution_count": 5,
   "metadata": {},
   "outputs": [
    {
     "name": "stdout",
     "output_type": "stream",
     "text": [
      "<class 'pandas.core.frame.DataFrame'>\n",
      "RangeIndex: 10000 entries, 0 to 9999\n",
      "Data columns (total 14 columns):\n",
      " #   Column           Non-Null Count  Dtype  \n",
      "---  ------           --------------  -----  \n",
      " 0   RowNumber        10000 non-null  int64  \n",
      " 1   CustomerId       10000 non-null  int64  \n",
      " 2   Surname          10000 non-null  object \n",
      " 3   CreditScore      10000 non-null  int64  \n",
      " 4   Geography        10000 non-null  object \n",
      " 5   Gender           10000 non-null  object \n",
      " 6   Age              10000 non-null  int64  \n",
      " 7   Tenure           9091 non-null   float64\n",
      " 8   Balance          10000 non-null  float64\n",
      " 9   NumOfProducts    10000 non-null  int64  \n",
      " 10  HasCrCard        10000 non-null  int64  \n",
      " 11  IsActiveMember   10000 non-null  int64  \n",
      " 12  EstimatedSalary  10000 non-null  float64\n",
      " 13  Exited           10000 non-null  int64  \n",
      "dtypes: float64(3), int64(8), object(3)\n",
      "memory usage: 1.1+ MB\n"
     ]
    }
   ],
   "source": [
    "df.info()"
   ]
  },
  {
   "cell_type": "markdown",
   "metadata": {},
   "source": [
    "Что мы обнаружили:\n",
    "1. `RowNumber`, `CustomerID` и `Surname` — незначимые переменные, от которых целевой признак не зависит. Избавимся от них.\n",
    "2. В таблице есть два категориальных признака, которые надо перевести в численные: `Geography` и `Gender`.\n",
    "3. Еть пропуски в `Tenure`. Строчки с ними нельзя удалить, так как их слишком много, больше 9%. Поэтому заполним их.\n",
    "4. Названия столбцов начинаются с заглавных букв. Приведем их к нижнему регистру."
   ]
  },
  {
   "cell_type": "markdown",
   "metadata": {},
   "source": [
    "[К содержанию](#Содержание)"
   ]
  },
  {
   "cell_type": "markdown",
   "metadata": {},
   "source": [
    "## 2. Подготовка данных<a name=\"2.-Подготовка-данных\"></a>"
   ]
  },
  {
   "cell_type": "markdown",
   "metadata": {},
   "source": [
    "### Переименование признаков"
   ]
  },
  {
   "cell_type": "markdown",
   "metadata": {},
   "source": [
    "Начнем с имен столбцов. Заменим заглавные буквы на строчные и выведем результат."
   ]
  },
  {
   "cell_type": "code",
   "execution_count": 6,
   "metadata": {},
   "outputs": [
    {
     "data": {
      "text/plain": [
       "Index(['rownumber', 'customerid', 'surname', 'creditscore', 'geography',\n",
       "       'gender', 'age', 'tenure', 'balance', 'numofproducts', 'hascrcard',\n",
       "       'isactivemember', 'estimatedsalary', 'exited'],\n",
       "      dtype='object')"
      ]
     },
     "execution_count": 6,
     "metadata": {},
     "output_type": "execute_result"
    }
   ],
   "source": [
    "df.columns = df.columns.str.lower()\n",
    "df.columns"
   ]
  },
  {
   "cell_type": "markdown",
   "metadata": {},
   "source": [
    "Теперь названия сложно разобрать, потому что слова слиплись. Добавим нижние подчеркивания и посмотрим, что получилось."
   ]
  },
  {
   "cell_type": "code",
   "execution_count": 7,
   "metadata": {},
   "outputs": [
    {
     "data": {
      "text/plain": [
       "Index(['row_number', 'customer_id', 'surname', 'credit_score', 'geography',\n",
       "       'gender', 'age', 'tenure', 'balance', 'num_of_products', 'has_cr_card',\n",
       "       'is_active_member', 'estimated_salary', 'exited'],\n",
       "      dtype='object')"
      ]
     },
     "execution_count": 7,
     "metadata": {},
     "output_type": "execute_result"
    }
   ],
   "source": [
    "df.columns = ['row_number', 'customer_id', 'surname', 'credit_score', 'geography',\n",
    "       'gender', 'age', 'tenure', 'balance', 'num_of_products', 'has_cr_card',\n",
    "       'is_active_member', 'estimated_salary', 'exited']\n",
    "df.columns"
   ]
  },
  {
   "cell_type": "markdown",
   "metadata": {},
   "source": [
    "Красота!"
   ]
  },
  {
   "cell_type": "markdown",
   "metadata": {},
   "source": [
    "### Удаление ненужных столбцов"
   ]
  },
  {
   "cell_type": "markdown",
   "metadata": {},
   "source": [
    "Целевой признак не связан со столбцами `row_number`, `customer_id` и `surname`, поэтому удалим их из датафрейма. Посмотрим на результат."
   ]
  },
  {
   "cell_type": "code",
   "execution_count": 8,
   "metadata": {},
   "outputs": [
    {
     "data": {
      "text/html": [
       "<div>\n",
       "<style scoped>\n",
       "    .dataframe tbody tr th:only-of-type {\n",
       "        vertical-align: middle;\n",
       "    }\n",
       "\n",
       "    .dataframe tbody tr th {\n",
       "        vertical-align: top;\n",
       "    }\n",
       "\n",
       "    .dataframe thead th {\n",
       "        text-align: right;\n",
       "    }\n",
       "</style>\n",
       "<table border=\"1\" class=\"dataframe\">\n",
       "  <thead>\n",
       "    <tr style=\"text-align: right;\">\n",
       "      <th></th>\n",
       "      <th>credit_score</th>\n",
       "      <th>geography</th>\n",
       "      <th>gender</th>\n",
       "      <th>age</th>\n",
       "      <th>tenure</th>\n",
       "      <th>balance</th>\n",
       "      <th>num_of_products</th>\n",
       "      <th>has_cr_card</th>\n",
       "      <th>is_active_member</th>\n",
       "      <th>estimated_salary</th>\n",
       "      <th>exited</th>\n",
       "    </tr>\n",
       "  </thead>\n",
       "  <tbody>\n",
       "    <tr>\n",
       "      <th>0</th>\n",
       "      <td>619</td>\n",
       "      <td>France</td>\n",
       "      <td>Female</td>\n",
       "      <td>42</td>\n",
       "      <td>2.0</td>\n",
       "      <td>0.00</td>\n",
       "      <td>1</td>\n",
       "      <td>1</td>\n",
       "      <td>1</td>\n",
       "      <td>101348.88</td>\n",
       "      <td>1</td>\n",
       "    </tr>\n",
       "    <tr>\n",
       "      <th>1</th>\n",
       "      <td>608</td>\n",
       "      <td>Spain</td>\n",
       "      <td>Female</td>\n",
       "      <td>41</td>\n",
       "      <td>1.0</td>\n",
       "      <td>83807.86</td>\n",
       "      <td>1</td>\n",
       "      <td>0</td>\n",
       "      <td>1</td>\n",
       "      <td>112542.58</td>\n",
       "      <td>0</td>\n",
       "    </tr>\n",
       "    <tr>\n",
       "      <th>2</th>\n",
       "      <td>502</td>\n",
       "      <td>France</td>\n",
       "      <td>Female</td>\n",
       "      <td>42</td>\n",
       "      <td>8.0</td>\n",
       "      <td>159660.80</td>\n",
       "      <td>3</td>\n",
       "      <td>1</td>\n",
       "      <td>0</td>\n",
       "      <td>113931.57</td>\n",
       "      <td>1</td>\n",
       "    </tr>\n",
       "    <tr>\n",
       "      <th>3</th>\n",
       "      <td>699</td>\n",
       "      <td>France</td>\n",
       "      <td>Female</td>\n",
       "      <td>39</td>\n",
       "      <td>1.0</td>\n",
       "      <td>0.00</td>\n",
       "      <td>2</td>\n",
       "      <td>0</td>\n",
       "      <td>0</td>\n",
       "      <td>93826.63</td>\n",
       "      <td>0</td>\n",
       "    </tr>\n",
       "    <tr>\n",
       "      <th>4</th>\n",
       "      <td>850</td>\n",
       "      <td>Spain</td>\n",
       "      <td>Female</td>\n",
       "      <td>43</td>\n",
       "      <td>2.0</td>\n",
       "      <td>125510.82</td>\n",
       "      <td>1</td>\n",
       "      <td>1</td>\n",
       "      <td>1</td>\n",
       "      <td>79084.10</td>\n",
       "      <td>0</td>\n",
       "    </tr>\n",
       "    <tr>\n",
       "      <th>...</th>\n",
       "      <td>...</td>\n",
       "      <td>...</td>\n",
       "      <td>...</td>\n",
       "      <td>...</td>\n",
       "      <td>...</td>\n",
       "      <td>...</td>\n",
       "      <td>...</td>\n",
       "      <td>...</td>\n",
       "      <td>...</td>\n",
       "      <td>...</td>\n",
       "      <td>...</td>\n",
       "    </tr>\n",
       "    <tr>\n",
       "      <th>9995</th>\n",
       "      <td>771</td>\n",
       "      <td>France</td>\n",
       "      <td>Male</td>\n",
       "      <td>39</td>\n",
       "      <td>5.0</td>\n",
       "      <td>0.00</td>\n",
       "      <td>2</td>\n",
       "      <td>1</td>\n",
       "      <td>0</td>\n",
       "      <td>96270.64</td>\n",
       "      <td>0</td>\n",
       "    </tr>\n",
       "    <tr>\n",
       "      <th>9996</th>\n",
       "      <td>516</td>\n",
       "      <td>France</td>\n",
       "      <td>Male</td>\n",
       "      <td>35</td>\n",
       "      <td>10.0</td>\n",
       "      <td>57369.61</td>\n",
       "      <td>1</td>\n",
       "      <td>1</td>\n",
       "      <td>1</td>\n",
       "      <td>101699.77</td>\n",
       "      <td>0</td>\n",
       "    </tr>\n",
       "    <tr>\n",
       "      <th>9997</th>\n",
       "      <td>709</td>\n",
       "      <td>France</td>\n",
       "      <td>Female</td>\n",
       "      <td>36</td>\n",
       "      <td>7.0</td>\n",
       "      <td>0.00</td>\n",
       "      <td>1</td>\n",
       "      <td>0</td>\n",
       "      <td>1</td>\n",
       "      <td>42085.58</td>\n",
       "      <td>1</td>\n",
       "    </tr>\n",
       "    <tr>\n",
       "      <th>9998</th>\n",
       "      <td>772</td>\n",
       "      <td>Germany</td>\n",
       "      <td>Male</td>\n",
       "      <td>42</td>\n",
       "      <td>3.0</td>\n",
       "      <td>75075.31</td>\n",
       "      <td>2</td>\n",
       "      <td>1</td>\n",
       "      <td>0</td>\n",
       "      <td>92888.52</td>\n",
       "      <td>1</td>\n",
       "    </tr>\n",
       "    <tr>\n",
       "      <th>9999</th>\n",
       "      <td>792</td>\n",
       "      <td>France</td>\n",
       "      <td>Female</td>\n",
       "      <td>28</td>\n",
       "      <td>NaN</td>\n",
       "      <td>130142.79</td>\n",
       "      <td>1</td>\n",
       "      <td>1</td>\n",
       "      <td>0</td>\n",
       "      <td>38190.78</td>\n",
       "      <td>0</td>\n",
       "    </tr>\n",
       "  </tbody>\n",
       "</table>\n",
       "<p>10000 rows × 11 columns</p>\n",
       "</div>"
      ],
      "text/plain": [
       "      credit_score geography  gender  age  tenure    balance  num_of_products  \\\n",
       "0              619    France  Female   42     2.0       0.00                1   \n",
       "1              608     Spain  Female   41     1.0   83807.86                1   \n",
       "2              502    France  Female   42     8.0  159660.80                3   \n",
       "3              699    France  Female   39     1.0       0.00                2   \n",
       "4              850     Spain  Female   43     2.0  125510.82                1   \n",
       "...            ...       ...     ...  ...     ...        ...              ...   \n",
       "9995           771    France    Male   39     5.0       0.00                2   \n",
       "9996           516    France    Male   35    10.0   57369.61                1   \n",
       "9997           709    France  Female   36     7.0       0.00                1   \n",
       "9998           772   Germany    Male   42     3.0   75075.31                2   \n",
       "9999           792    France  Female   28     NaN  130142.79                1   \n",
       "\n",
       "      has_cr_card  is_active_member  estimated_salary  exited  \n",
       "0               1                 1         101348.88       1  \n",
       "1               0                 1         112542.58       0  \n",
       "2               1                 0         113931.57       1  \n",
       "3               0                 0          93826.63       0  \n",
       "4               1                 1          79084.10       0  \n",
       "...           ...               ...               ...     ...  \n",
       "9995            1                 0          96270.64       0  \n",
       "9996            1                 1         101699.77       0  \n",
       "9997            0                 1          42085.58       1  \n",
       "9998            1                 0          92888.52       1  \n",
       "9999            1                 0          38190.78       0  \n",
       "\n",
       "[10000 rows x 11 columns]"
      ]
     },
     "execution_count": 8,
     "metadata": {},
     "output_type": "execute_result"
    }
   ],
   "source": [
    "df = df.drop(['row_number', 'customer_id', 'surname'], axis=1)\n",
    "df"
   ]
  },
  {
   "cell_type": "markdown",
   "metadata": {},
   "source": [
    "### Обработка пропусков<a name=\"Обработка-пропусков\"></a>"
   ]
  },
  {
   "cell_type": "markdown",
   "metadata": {},
   "source": [
    "При знакомстве с данными мы обнаружили пропуски в столбце с количеством недвижимости у клиента. Так как их слишком много, больше 9%, строчки с ними нельзя удалить.\n",
    "\n",
    "Если заполнять пропуски каким-то одним значением, исказиться распределение объектов по этому параметру. Поэтому заполним пропуски случайными значениями из этого столбца."
   ]
  },
  {
   "cell_type": "code",
   "execution_count": 9,
   "metadata": {},
   "outputs": [],
   "source": [
    "tenure_unique_values = df['tenure'].dropna().unique()\n",
    "\n",
    "np.random.seed(SEED)\n",
    "df['tenure'] = df['tenure'].fillna(pd.Series(np.random.choice(tenure_unique_values, size=len(df.index))))"
   ]
  },
  {
   "cell_type": "code",
   "execution_count": 10,
   "metadata": {},
   "outputs": [
    {
     "name": "stdout",
     "output_type": "stream",
     "text": [
      "Количество пропусков в tenure: 0\n"
     ]
    }
   ],
   "source": [
    "print('Количество пропусков в tenure:', df['tenure'].isna().sum())"
   ]
  },
  {
   "cell_type": "markdown",
   "metadata": {},
   "source": [
    "### Прямое кодирование<a name=\"Прямое-кодирование\"></a>"
   ]
  },
  {
   "cell_type": "markdown",
   "metadata": {},
   "source": [
    "Переведем `geography` и `gender` в численные признаки. Для этого воспользуемся техникой One-Hot Encoding c параметром `drop_first=True`, чтобы избежать дамми-ловушки. Сохраним новый датафрейм в переменную `df_ohe` и посмотрим на него."
   ]
  },
  {
   "cell_type": "code",
   "execution_count": 11,
   "metadata": {},
   "outputs": [
    {
     "data": {
      "text/html": [
       "<div>\n",
       "<style scoped>\n",
       "    .dataframe tbody tr th:only-of-type {\n",
       "        vertical-align: middle;\n",
       "    }\n",
       "\n",
       "    .dataframe tbody tr th {\n",
       "        vertical-align: top;\n",
       "    }\n",
       "\n",
       "    .dataframe thead th {\n",
       "        text-align: right;\n",
       "    }\n",
       "</style>\n",
       "<table border=\"1\" class=\"dataframe\">\n",
       "  <thead>\n",
       "    <tr style=\"text-align: right;\">\n",
       "      <th></th>\n",
       "      <th>credit_score</th>\n",
       "      <th>age</th>\n",
       "      <th>tenure</th>\n",
       "      <th>balance</th>\n",
       "      <th>num_of_products</th>\n",
       "      <th>has_cr_card</th>\n",
       "      <th>is_active_member</th>\n",
       "      <th>estimated_salary</th>\n",
       "      <th>exited</th>\n",
       "      <th>geography_Germany</th>\n",
       "      <th>geography_Spain</th>\n",
       "      <th>gender_Male</th>\n",
       "    </tr>\n",
       "  </thead>\n",
       "  <tbody>\n",
       "    <tr>\n",
       "      <th>0</th>\n",
       "      <td>619</td>\n",
       "      <td>42</td>\n",
       "      <td>2.0</td>\n",
       "      <td>0.00</td>\n",
       "      <td>1</td>\n",
       "      <td>1</td>\n",
       "      <td>1</td>\n",
       "      <td>101348.88</td>\n",
       "      <td>1</td>\n",
       "      <td>0</td>\n",
       "      <td>0</td>\n",
       "      <td>0</td>\n",
       "    </tr>\n",
       "    <tr>\n",
       "      <th>1</th>\n",
       "      <td>608</td>\n",
       "      <td>41</td>\n",
       "      <td>1.0</td>\n",
       "      <td>83807.86</td>\n",
       "      <td>1</td>\n",
       "      <td>0</td>\n",
       "      <td>1</td>\n",
       "      <td>112542.58</td>\n",
       "      <td>0</td>\n",
       "      <td>0</td>\n",
       "      <td>1</td>\n",
       "      <td>0</td>\n",
       "    </tr>\n",
       "    <tr>\n",
       "      <th>2</th>\n",
       "      <td>502</td>\n",
       "      <td>42</td>\n",
       "      <td>8.0</td>\n",
       "      <td>159660.80</td>\n",
       "      <td>3</td>\n",
       "      <td>1</td>\n",
       "      <td>0</td>\n",
       "      <td>113931.57</td>\n",
       "      <td>1</td>\n",
       "      <td>0</td>\n",
       "      <td>0</td>\n",
       "      <td>0</td>\n",
       "    </tr>\n",
       "    <tr>\n",
       "      <th>3</th>\n",
       "      <td>699</td>\n",
       "      <td>39</td>\n",
       "      <td>1.0</td>\n",
       "      <td>0.00</td>\n",
       "      <td>2</td>\n",
       "      <td>0</td>\n",
       "      <td>0</td>\n",
       "      <td>93826.63</td>\n",
       "      <td>0</td>\n",
       "      <td>0</td>\n",
       "      <td>0</td>\n",
       "      <td>0</td>\n",
       "    </tr>\n",
       "    <tr>\n",
       "      <th>4</th>\n",
       "      <td>850</td>\n",
       "      <td>43</td>\n",
       "      <td>2.0</td>\n",
       "      <td>125510.82</td>\n",
       "      <td>1</td>\n",
       "      <td>1</td>\n",
       "      <td>1</td>\n",
       "      <td>79084.10</td>\n",
       "      <td>0</td>\n",
       "      <td>0</td>\n",
       "      <td>1</td>\n",
       "      <td>0</td>\n",
       "    </tr>\n",
       "    <tr>\n",
       "      <th>...</th>\n",
       "      <td>...</td>\n",
       "      <td>...</td>\n",
       "      <td>...</td>\n",
       "      <td>...</td>\n",
       "      <td>...</td>\n",
       "      <td>...</td>\n",
       "      <td>...</td>\n",
       "      <td>...</td>\n",
       "      <td>...</td>\n",
       "      <td>...</td>\n",
       "      <td>...</td>\n",
       "      <td>...</td>\n",
       "    </tr>\n",
       "    <tr>\n",
       "      <th>9995</th>\n",
       "      <td>771</td>\n",
       "      <td>39</td>\n",
       "      <td>5.0</td>\n",
       "      <td>0.00</td>\n",
       "      <td>2</td>\n",
       "      <td>1</td>\n",
       "      <td>0</td>\n",
       "      <td>96270.64</td>\n",
       "      <td>0</td>\n",
       "      <td>0</td>\n",
       "      <td>0</td>\n",
       "      <td>1</td>\n",
       "    </tr>\n",
       "    <tr>\n",
       "      <th>9996</th>\n",
       "      <td>516</td>\n",
       "      <td>35</td>\n",
       "      <td>10.0</td>\n",
       "      <td>57369.61</td>\n",
       "      <td>1</td>\n",
       "      <td>1</td>\n",
       "      <td>1</td>\n",
       "      <td>101699.77</td>\n",
       "      <td>0</td>\n",
       "      <td>0</td>\n",
       "      <td>0</td>\n",
       "      <td>1</td>\n",
       "    </tr>\n",
       "    <tr>\n",
       "      <th>9997</th>\n",
       "      <td>709</td>\n",
       "      <td>36</td>\n",
       "      <td>7.0</td>\n",
       "      <td>0.00</td>\n",
       "      <td>1</td>\n",
       "      <td>0</td>\n",
       "      <td>1</td>\n",
       "      <td>42085.58</td>\n",
       "      <td>1</td>\n",
       "      <td>0</td>\n",
       "      <td>0</td>\n",
       "      <td>0</td>\n",
       "    </tr>\n",
       "    <tr>\n",
       "      <th>9998</th>\n",
       "      <td>772</td>\n",
       "      <td>42</td>\n",
       "      <td>3.0</td>\n",
       "      <td>75075.31</td>\n",
       "      <td>2</td>\n",
       "      <td>1</td>\n",
       "      <td>0</td>\n",
       "      <td>92888.52</td>\n",
       "      <td>1</td>\n",
       "      <td>1</td>\n",
       "      <td>0</td>\n",
       "      <td>1</td>\n",
       "    </tr>\n",
       "    <tr>\n",
       "      <th>9999</th>\n",
       "      <td>792</td>\n",
       "      <td>28</td>\n",
       "      <td>1.0</td>\n",
       "      <td>130142.79</td>\n",
       "      <td>1</td>\n",
       "      <td>1</td>\n",
       "      <td>0</td>\n",
       "      <td>38190.78</td>\n",
       "      <td>0</td>\n",
       "      <td>0</td>\n",
       "      <td>0</td>\n",
       "      <td>0</td>\n",
       "    </tr>\n",
       "  </tbody>\n",
       "</table>\n",
       "<p>10000 rows × 12 columns</p>\n",
       "</div>"
      ],
      "text/plain": [
       "      credit_score  age  tenure    balance  num_of_products  has_cr_card  \\\n",
       "0              619   42     2.0       0.00                1            1   \n",
       "1              608   41     1.0   83807.86                1            0   \n",
       "2              502   42     8.0  159660.80                3            1   \n",
       "3              699   39     1.0       0.00                2            0   \n",
       "4              850   43     2.0  125510.82                1            1   \n",
       "...            ...  ...     ...        ...              ...          ...   \n",
       "9995           771   39     5.0       0.00                2            1   \n",
       "9996           516   35    10.0   57369.61                1            1   \n",
       "9997           709   36     7.0       0.00                1            0   \n",
       "9998           772   42     3.0   75075.31                2            1   \n",
       "9999           792   28     1.0  130142.79                1            1   \n",
       "\n",
       "      is_active_member  estimated_salary  exited  geography_Germany  \\\n",
       "0                    1         101348.88       1                  0   \n",
       "1                    1         112542.58       0                  0   \n",
       "2                    0         113931.57       1                  0   \n",
       "3                    0          93826.63       0                  0   \n",
       "4                    1          79084.10       0                  0   \n",
       "...                ...               ...     ...                ...   \n",
       "9995                 0          96270.64       0                  0   \n",
       "9996                 1         101699.77       0                  0   \n",
       "9997                 1          42085.58       1                  0   \n",
       "9998                 0          92888.52       1                  1   \n",
       "9999                 0          38190.78       0                  0   \n",
       "\n",
       "      geography_Spain  gender_Male  \n",
       "0                   0            0  \n",
       "1                   1            0  \n",
       "2                   0            0  \n",
       "3                   0            0  \n",
       "4                   1            0  \n",
       "...               ...          ...  \n",
       "9995                0            1  \n",
       "9996                0            1  \n",
       "9997                0            0  \n",
       "9998                0            1  \n",
       "9999                0            0  \n",
       "\n",
       "[10000 rows x 12 columns]"
      ]
     },
     "execution_count": 11,
     "metadata": {},
     "output_type": "execute_result"
    }
   ],
   "source": [
    "df_ohe = pd.get_dummies(df, drop_first=True)\n",
    "df_ohe"
   ]
  },
  {
   "cell_type": "markdown",
   "metadata": {},
   "source": [
    "### Разбиение данных на выборки<a name=\"Разбиение-данных-на-выборки\"></a>"
   ]
  },
  {
   "cell_type": "markdown",
   "metadata": {},
   "source": [
    "Сначала поделим датафрейм на признаки и целевой признак. Затем новые датафреймы разобьем на две выборки: обучающую и тестовую. \n",
    "\n",
    "Пусть валидационные и тестовая выборка будут равны по размеру и составляют 20% от данных. Тестовую выборку выделим сразу, а валидационные не будем, так как для обучения моделей воспользуемся `GridSearchCV`. В нем реализована кросс-валидация на обучающей выборке.\n",
    "\n",
    "При разбиении будем стратифицровать выборки по целевому признаку, чтобы во всех выборках была одинаковая пропорция ушедших клиентов."
   ]
  },
  {
   "cell_type": "code",
   "execution_count": 12,
   "metadata": {},
   "outputs": [],
   "source": [
    "X = df_ohe.drop(['exited'], axis=1)\n",
    "y = df_ohe['exited']"
   ]
  },
  {
   "cell_type": "code",
   "execution_count": 13,
   "metadata": {},
   "outputs": [],
   "source": [
    "X_train, X_test, y_train, y_test = \\\n",
    "    train_test_split(X, y,\n",
    "                     test_size=0.2,\n",
    "                     stratify=y,\n",
    "                     random_state=SEED)"
   ]
  },
  {
   "cell_type": "code",
   "execution_count": 14,
   "metadata": {},
   "outputs": [],
   "source": [
    "X_train, X_val, y_train, y_val = \\\n",
    "    train_test_split(X_train, y_train,\n",
    "                     test_size=0.25,\n",
    "                     stratify=y_train,\n",
    "                     random_state=SEED)"
   ]
  },
  {
   "cell_type": "markdown",
   "metadata": {},
   "source": [
    "Посмотрим на размеры получившихся выборок."
   ]
  },
  {
   "cell_type": "code",
   "execution_count": 15,
   "metadata": {},
   "outputs": [],
   "source": [
    "def check_split(features, target, n_total=-1):\n",
    "    class_balance = pd.concat([target.value_counts(),\n",
    "                               target.value_counts(normalize=True)],\n",
    "                              axis='columns')\n",
    "    class_balance.columns = ['absolute', 'share_of_sample']\n",
    "    \n",
    "    print(f'Размер выборки: {len(features)}')\n",
    "    \n",
    "    if n_total != -1:\n",
    "        print(f'Доля от всех данных: {len(features)/n_total:.2%}')\n",
    "        \n",
    "    display(class_balance)"
   ]
  },
  {
   "cell_type": "code",
   "execution_count": 16,
   "metadata": {},
   "outputs": [
    {
     "name": "stdout",
     "output_type": "stream",
     "text": [
      "Размер выборки: 6000\n",
      "Доля от всех данных: 60.00%\n"
     ]
    },
    {
     "data": {
      "text/html": [
       "<div>\n",
       "<style scoped>\n",
       "    .dataframe tbody tr th:only-of-type {\n",
       "        vertical-align: middle;\n",
       "    }\n",
       "\n",
       "    .dataframe tbody tr th {\n",
       "        vertical-align: top;\n",
       "    }\n",
       "\n",
       "    .dataframe thead th {\n",
       "        text-align: right;\n",
       "    }\n",
       "</style>\n",
       "<table border=\"1\" class=\"dataframe\">\n",
       "  <thead>\n",
       "    <tr style=\"text-align: right;\">\n",
       "      <th></th>\n",
       "      <th>absolute</th>\n",
       "      <th>share_of_sample</th>\n",
       "    </tr>\n",
       "  </thead>\n",
       "  <tbody>\n",
       "    <tr>\n",
       "      <th>0</th>\n",
       "      <td>4777</td>\n",
       "      <td>0.796167</td>\n",
       "    </tr>\n",
       "    <tr>\n",
       "      <th>1</th>\n",
       "      <td>1223</td>\n",
       "      <td>0.203833</td>\n",
       "    </tr>\n",
       "  </tbody>\n",
       "</table>\n",
       "</div>"
      ],
      "text/plain": [
       "   absolute  share_of_sample\n",
       "0      4777         0.796167\n",
       "1      1223         0.203833"
      ]
     },
     "metadata": {},
     "output_type": "display_data"
    }
   ],
   "source": [
    "check_split(X_train, y_train, len(df))"
   ]
  },
  {
   "cell_type": "code",
   "execution_count": 17,
   "metadata": {},
   "outputs": [
    {
     "name": "stdout",
     "output_type": "stream",
     "text": [
      "Размер выборки: 2000\n",
      "Доля от всех данных: 20.00%\n"
     ]
    },
    {
     "data": {
      "text/html": [
       "<div>\n",
       "<style scoped>\n",
       "    .dataframe tbody tr th:only-of-type {\n",
       "        vertical-align: middle;\n",
       "    }\n",
       "\n",
       "    .dataframe tbody tr th {\n",
       "        vertical-align: top;\n",
       "    }\n",
       "\n",
       "    .dataframe thead th {\n",
       "        text-align: right;\n",
       "    }\n",
       "</style>\n",
       "<table border=\"1\" class=\"dataframe\">\n",
       "  <thead>\n",
       "    <tr style=\"text-align: right;\">\n",
       "      <th></th>\n",
       "      <th>absolute</th>\n",
       "      <th>share_of_sample</th>\n",
       "    </tr>\n",
       "  </thead>\n",
       "  <tbody>\n",
       "    <tr>\n",
       "      <th>0</th>\n",
       "      <td>1593</td>\n",
       "      <td>0.7965</td>\n",
       "    </tr>\n",
       "    <tr>\n",
       "      <th>1</th>\n",
       "      <td>407</td>\n",
       "      <td>0.2035</td>\n",
       "    </tr>\n",
       "  </tbody>\n",
       "</table>\n",
       "</div>"
      ],
      "text/plain": [
       "   absolute  share_of_sample\n",
       "0      1593           0.7965\n",
       "1       407           0.2035"
      ]
     },
     "metadata": {},
     "output_type": "display_data"
    }
   ],
   "source": [
    "check_split(X_val, y_val, len(df))"
   ]
  },
  {
   "cell_type": "code",
   "execution_count": 18,
   "metadata": {},
   "outputs": [
    {
     "name": "stdout",
     "output_type": "stream",
     "text": [
      "Размер выборки: 2000\n",
      "Доля от всех данных: 20.00%\n"
     ]
    },
    {
     "data": {
      "text/html": [
       "<div>\n",
       "<style scoped>\n",
       "    .dataframe tbody tr th:only-of-type {\n",
       "        vertical-align: middle;\n",
       "    }\n",
       "\n",
       "    .dataframe tbody tr th {\n",
       "        vertical-align: top;\n",
       "    }\n",
       "\n",
       "    .dataframe thead th {\n",
       "        text-align: right;\n",
       "    }\n",
       "</style>\n",
       "<table border=\"1\" class=\"dataframe\">\n",
       "  <thead>\n",
       "    <tr style=\"text-align: right;\">\n",
       "      <th></th>\n",
       "      <th>absolute</th>\n",
       "      <th>share_of_sample</th>\n",
       "    </tr>\n",
       "  </thead>\n",
       "  <tbody>\n",
       "    <tr>\n",
       "      <th>0</th>\n",
       "      <td>1593</td>\n",
       "      <td>0.7965</td>\n",
       "    </tr>\n",
       "    <tr>\n",
       "      <th>1</th>\n",
       "      <td>407</td>\n",
       "      <td>0.2035</td>\n",
       "    </tr>\n",
       "  </tbody>\n",
       "</table>\n",
       "</div>"
      ],
      "text/plain": [
       "   absolute  share_of_sample\n",
       "0      1593           0.7965\n",
       "1       407           0.2035"
      ]
     },
     "metadata": {},
     "output_type": "display_data"
    }
   ],
   "source": [
    "check_split(X_test, y_test, len(df))"
   ]
  },
  {
   "cell_type": "markdown",
   "metadata": {},
   "source": [
    "### Масштабирование признаков<a name=\"Масштабирование-признаков\"></a>"
   ]
  },
  {
   "cell_type": "markdown",
   "metadata": {},
   "source": [
    "Теперь масштабируем численные признаки чтобы абсолютный разброс признака не влиял на его значимость. Нам поможет `StandardScaler`. Настроим его на обучающей выборке, а затем прогоним через него и тестовую."
   ]
  },
  {
   "cell_type": "code",
   "execution_count": 19,
   "metadata": {},
   "outputs": [],
   "source": [
    "numeric = ['credit_score', 'age', 'tenure',\n",
    "           'balance', 'num_of_products', 'estimated_salary']"
   ]
  },
  {
   "cell_type": "code",
   "execution_count": 20,
   "metadata": {},
   "outputs": [
    {
     "data": {
      "text/plain": [
       "StandardScaler()"
      ]
     },
     "execution_count": 20,
     "metadata": {},
     "output_type": "execute_result"
    }
   ],
   "source": [
    "scaler = StandardScaler()\n",
    "scaler.fit(X_train.loc[:, numeric])"
   ]
  },
  {
   "cell_type": "code",
   "execution_count": 21,
   "metadata": {},
   "outputs": [],
   "source": [
    "X_train.loc[:, numeric] = scaler.transform(X_train.loc[:, numeric])\n",
    "X_val.loc[:, numeric] = scaler.transform(X_val.loc[:, numeric])\n",
    "X_test.loc[:, numeric] = scaler.transform(X_test.loc[:, numeric])"
   ]
  },
  {
   "cell_type": "code",
   "execution_count": 22,
   "metadata": {},
   "outputs": [
    {
     "data": {
      "text/html": [
       "<div>\n",
       "<style scoped>\n",
       "    .dataframe tbody tr th:only-of-type {\n",
       "        vertical-align: middle;\n",
       "    }\n",
       "\n",
       "    .dataframe tbody tr th {\n",
       "        vertical-align: top;\n",
       "    }\n",
       "\n",
       "    .dataframe thead th {\n",
       "        text-align: right;\n",
       "    }\n",
       "</style>\n",
       "<table border=\"1\" class=\"dataframe\">\n",
       "  <thead>\n",
       "    <tr style=\"text-align: right;\">\n",
       "      <th></th>\n",
       "      <th>credit_score</th>\n",
       "      <th>age</th>\n",
       "      <th>tenure</th>\n",
       "      <th>balance</th>\n",
       "      <th>num_of_products</th>\n",
       "      <th>has_cr_card</th>\n",
       "      <th>is_active_member</th>\n",
       "      <th>estimated_salary</th>\n",
       "      <th>geography_Germany</th>\n",
       "      <th>geography_Spain</th>\n",
       "      <th>gender_Male</th>\n",
       "    </tr>\n",
       "  </thead>\n",
       "  <tbody>\n",
       "    <tr>\n",
       "      <th>1995</th>\n",
       "      <td>-0.694374</td>\n",
       "      <td>0.480890</td>\n",
       "      <td>-0.005105</td>\n",
       "      <td>0.295612</td>\n",
       "      <td>0.797297</td>\n",
       "      <td>1</td>\n",
       "      <td>1</td>\n",
       "      <td>0.124178</td>\n",
       "      <td>0</td>\n",
       "      <td>0</td>\n",
       "      <td>0</td>\n",
       "    </tr>\n",
       "    <tr>\n",
       "      <th>2724</th>\n",
       "      <td>-2.049957</td>\n",
       "      <td>-0.091560</td>\n",
       "      <td>-1.366344</td>\n",
       "      <td>0.696248</td>\n",
       "      <td>-0.913029</td>\n",
       "      <td>1</td>\n",
       "      <td>0</td>\n",
       "      <td>0.528050</td>\n",
       "      <td>1</td>\n",
       "      <td>0</td>\n",
       "      <td>0</td>\n",
       "    </tr>\n",
       "    <tr>\n",
       "      <th>5224</th>\n",
       "      <td>1.571829</td>\n",
       "      <td>0.385481</td>\n",
       "      <td>-0.685724</td>\n",
       "      <td>-1.240550</td>\n",
       "      <td>-0.913029</td>\n",
       "      <td>1</td>\n",
       "      <td>0</td>\n",
       "      <td>-0.478379</td>\n",
       "      <td>0</td>\n",
       "      <td>1</td>\n",
       "      <td>1</td>\n",
       "    </tr>\n",
       "    <tr>\n",
       "      <th>7697</th>\n",
       "      <td>-0.518459</td>\n",
       "      <td>0.194665</td>\n",
       "      <td>-0.685724</td>\n",
       "      <td>-1.240550</td>\n",
       "      <td>0.797297</td>\n",
       "      <td>1</td>\n",
       "      <td>0</td>\n",
       "      <td>-0.787547</td>\n",
       "      <td>0</td>\n",
       "      <td>1</td>\n",
       "      <td>0</td>\n",
       "    </tr>\n",
       "    <tr>\n",
       "      <th>1226</th>\n",
       "      <td>-1.242816</td>\n",
       "      <td>0.290073</td>\n",
       "      <td>0.335205</td>\n",
       "      <td>0.177637</td>\n",
       "      <td>0.797297</td>\n",
       "      <td>1</td>\n",
       "      <td>0</td>\n",
       "      <td>-0.422558</td>\n",
       "      <td>1</td>\n",
       "      <td>0</td>\n",
       "      <td>0</td>\n",
       "    </tr>\n",
       "  </tbody>\n",
       "</table>\n",
       "</div>"
      ],
      "text/plain": [
       "      credit_score       age    tenure   balance  num_of_products  \\\n",
       "1995     -0.694374  0.480890 -0.005105  0.295612         0.797297   \n",
       "2724     -2.049957 -0.091560 -1.366344  0.696248        -0.913029   \n",
       "5224      1.571829  0.385481 -0.685724 -1.240550        -0.913029   \n",
       "7697     -0.518459  0.194665 -0.685724 -1.240550         0.797297   \n",
       "1226     -1.242816  0.290073  0.335205  0.177637         0.797297   \n",
       "\n",
       "      has_cr_card  is_active_member  estimated_salary  geography_Germany  \\\n",
       "1995            1                 1          0.124178                  0   \n",
       "2724            1                 0          0.528050                  1   \n",
       "5224            1                 0         -0.478379                  0   \n",
       "7697            1                 0         -0.787547                  0   \n",
       "1226            1                 0         -0.422558                  1   \n",
       "\n",
       "      geography_Spain  gender_Male  \n",
       "1995                0            0  \n",
       "2724                0            0  \n",
       "5224                1            1  \n",
       "7697                1            0  \n",
       "1226                0            0  "
      ]
     },
     "execution_count": 22,
     "metadata": {},
     "output_type": "execute_result"
    }
   ],
   "source": [
    "X_train.head()"
   ]
  },
  {
   "cell_type": "markdown",
   "metadata": {},
   "source": [
    "[К содержанию](#Содержание)"
   ]
  },
  {
   "cell_type": "markdown",
   "metadata": {},
   "source": [
    "## 3. Исследование задачи<a name=\"3.-Исследование-задачи\"></a>"
   ]
  },
  {
   "cell_type": "markdown",
   "metadata": {},
   "source": [
    "### Исследование баланса классов<a name=\"Исследование-баланса-классов\"></a>"
   ]
  },
  {
   "cell_type": "markdown",
   "metadata": {},
   "source": [
    "Посмотрим на баланс классов в обучающей выборке. Выведем абсолютные и относительные значения."
   ]
  },
  {
   "cell_type": "code",
   "execution_count": 23,
   "metadata": {},
   "outputs": [
    {
     "name": "stdout",
     "output_type": "stream",
     "text": [
      "Размер выборки: 6000\n",
      "Доля от всех данных: 60.00%\n"
     ]
    },
    {
     "data": {
      "text/html": [
       "<div>\n",
       "<style scoped>\n",
       "    .dataframe tbody tr th:only-of-type {\n",
       "        vertical-align: middle;\n",
       "    }\n",
       "\n",
       "    .dataframe tbody tr th {\n",
       "        vertical-align: top;\n",
       "    }\n",
       "\n",
       "    .dataframe thead th {\n",
       "        text-align: right;\n",
       "    }\n",
       "</style>\n",
       "<table border=\"1\" class=\"dataframe\">\n",
       "  <thead>\n",
       "    <tr style=\"text-align: right;\">\n",
       "      <th></th>\n",
       "      <th>absolute</th>\n",
       "      <th>share_of_sample</th>\n",
       "    </tr>\n",
       "  </thead>\n",
       "  <tbody>\n",
       "    <tr>\n",
       "      <th>0</th>\n",
       "      <td>4777</td>\n",
       "      <td>0.796167</td>\n",
       "    </tr>\n",
       "    <tr>\n",
       "      <th>1</th>\n",
       "      <td>1223</td>\n",
       "      <td>0.203833</td>\n",
       "    </tr>\n",
       "  </tbody>\n",
       "</table>\n",
       "</div>"
      ],
      "text/plain": [
       "   absolute  share_of_sample\n",
       "0      4777         0.796167\n",
       "1      1223         0.203833"
      ]
     },
     "metadata": {},
     "output_type": "display_data"
    }
   ],
   "source": [
    "check_split(X_train, y_train, len(df))"
   ]
  },
  {
   "cell_type": "code",
   "execution_count": 24,
   "metadata": {},
   "outputs": [
    {
     "name": "stdout",
     "output_type": "stream",
     "text": [
      "Размер выборки: 2000\n",
      "Доля от всех данных: 20.00%\n"
     ]
    },
    {
     "data": {
      "text/html": [
       "<div>\n",
       "<style scoped>\n",
       "    .dataframe tbody tr th:only-of-type {\n",
       "        vertical-align: middle;\n",
       "    }\n",
       "\n",
       "    .dataframe tbody tr th {\n",
       "        vertical-align: top;\n",
       "    }\n",
       "\n",
       "    .dataframe thead th {\n",
       "        text-align: right;\n",
       "    }\n",
       "</style>\n",
       "<table border=\"1\" class=\"dataframe\">\n",
       "  <thead>\n",
       "    <tr style=\"text-align: right;\">\n",
       "      <th></th>\n",
       "      <th>absolute</th>\n",
       "      <th>share_of_sample</th>\n",
       "    </tr>\n",
       "  </thead>\n",
       "  <tbody>\n",
       "    <tr>\n",
       "      <th>0</th>\n",
       "      <td>1593</td>\n",
       "      <td>0.7965</td>\n",
       "    </tr>\n",
       "    <tr>\n",
       "      <th>1</th>\n",
       "      <td>407</td>\n",
       "      <td>0.2035</td>\n",
       "    </tr>\n",
       "  </tbody>\n",
       "</table>\n",
       "</div>"
      ],
      "text/plain": [
       "   absolute  share_of_sample\n",
       "0      1593           0.7965\n",
       "1       407           0.2035"
      ]
     },
     "metadata": {},
     "output_type": "display_data"
    }
   ],
   "source": [
    "check_split(X_val, y_val, len(df))"
   ]
  },
  {
   "cell_type": "code",
   "execution_count": 25,
   "metadata": {},
   "outputs": [
    {
     "name": "stdout",
     "output_type": "stream",
     "text": [
      "Размер выборки: 2000\n",
      "Доля от всех данных: 20.00%\n"
     ]
    },
    {
     "data": {
      "text/html": [
       "<div>\n",
       "<style scoped>\n",
       "    .dataframe tbody tr th:only-of-type {\n",
       "        vertical-align: middle;\n",
       "    }\n",
       "\n",
       "    .dataframe tbody tr th {\n",
       "        vertical-align: top;\n",
       "    }\n",
       "\n",
       "    .dataframe thead th {\n",
       "        text-align: right;\n",
       "    }\n",
       "</style>\n",
       "<table border=\"1\" class=\"dataframe\">\n",
       "  <thead>\n",
       "    <tr style=\"text-align: right;\">\n",
       "      <th></th>\n",
       "      <th>absolute</th>\n",
       "      <th>share_of_sample</th>\n",
       "    </tr>\n",
       "  </thead>\n",
       "  <tbody>\n",
       "    <tr>\n",
       "      <th>0</th>\n",
       "      <td>1593</td>\n",
       "      <td>0.7965</td>\n",
       "    </tr>\n",
       "    <tr>\n",
       "      <th>1</th>\n",
       "      <td>407</td>\n",
       "      <td>0.2035</td>\n",
       "    </tr>\n",
       "  </tbody>\n",
       "</table>\n",
       "</div>"
      ],
      "text/plain": [
       "   absolute  share_of_sample\n",
       "0      1593           0.7965\n",
       "1       407           0.2035"
      ]
     },
     "metadata": {},
     "output_type": "display_data"
    }
   ],
   "source": [
    "check_split(X_test, y_test, len(df))"
   ]
  },
  {
   "cell_type": "markdown",
   "metadata": {},
   "source": [
    "Виден дисбаланас классов: из всех клиентов 80% остаются с банком, и только 20% уходят. Пока не будем исправлять его и обучим модели на несбалансированных данных. Так мы сможем оценить эффект от инструментов борьбы с дисбалансом."
   ]
  },
  {
   "cell_type": "markdown",
   "metadata": {},
   "source": [
    "### Таблица исследования<a name=\"Таблица-исследования\"></a>"
   ]
  },
  {
   "cell_type": "markdown",
   "metadata": {},
   "source": [
    "Создадим таблицу, в которую будем записывать результаты экспериментов."
   ]
  },
  {
   "cell_type": "code",
   "execution_count": 26,
   "metadata": {},
   "outputs": [
    {
     "data": {
      "text/html": [
       "<div>\n",
       "<style scoped>\n",
       "    .dataframe tbody tr th:only-of-type {\n",
       "        vertical-align: middle;\n",
       "    }\n",
       "\n",
       "    .dataframe tbody tr th {\n",
       "        vertical-align: top;\n",
       "    }\n",
       "\n",
       "    .dataframe thead th {\n",
       "        text-align: right;\n",
       "    }\n",
       "</style>\n",
       "<table border=\"1\" class=\"dataframe\">\n",
       "  <thead>\n",
       "    <tr style=\"text-align: right;\">\n",
       "      <th></th>\n",
       "      <th>Модель</th>\n",
       "      <th>Способ борьбы с дисбалансом</th>\n",
       "      <th>F1</th>\n",
       "      <th>Recall</th>\n",
       "      <th>Precision</th>\n",
       "      <th>ROC AUC</th>\n",
       "    </tr>\n",
       "  </thead>\n",
       "  <tbody>\n",
       "  </tbody>\n",
       "</table>\n",
       "</div>"
      ],
      "text/plain": [
       "Empty DataFrame\n",
       "Columns: [Модель, Способ борьбы с дисбалансом, F1, Recall, Precision, ROC AUC]\n",
       "Index: []"
      ]
     },
     "execution_count": 26,
     "metadata": {},
     "output_type": "execute_result"
    }
   ],
   "source": [
    "research_result = pd.DataFrame(\n",
    "    columns=['Модель', 'Способ борьбы с дисбалансом', 'F1',\n",
    "             'Recall', 'Precision', 'ROC AUC'])\n",
    "\n",
    "research_result"
   ]
  },
  {
   "cell_type": "markdown",
   "metadata": {},
   "source": [
    "### Функции, используемые в исследовании<a name=\"Функции,-используемые-в-исследовании\"></a>"
   ]
  },
  {
   "cell_type": "markdown",
   "metadata": {},
   "source": [
    "В этом разделе собраны все самописные функции, которые мы будем использовать в ходе исследования."
   ]
  },
  {
   "cell_type": "markdown",
   "metadata": {},
   "source": [
    "#### Расчет метрик качества модели"
   ]
  },
  {
   "cell_type": "code",
   "execution_count": 27,
   "metadata": {},
   "outputs": [],
   "source": [
    "def get_metrics(model, X=X_val, y=y_val, title=''):\n",
    "    \"\"\"\n",
    "    Функция выводит метрики качества модели.\n",
    "    Расчет проиходит на переданных в функцию данных.\n",
    "    \"\"\"\n",
    "    preds = model.predict(X)\n",
    "    probs = model.predict_proba(X)\n",
    "    probs_one_val = probs[:, 1]\n",
    "    \n",
    "    metrics = {\n",
    "        'F1': round(f1_score(y, preds), 3),\n",
    "        'Recall': round(recall_score(y, preds), 3),\n",
    "        'Precision': round(precision_score(y, preds), 3),\n",
    "        'ROC AUC': round(roc_auc_score(y, probs_one_val), 3)\n",
    "    }\n",
    "    \n",
    "    return metrics"
   ]
  },
  {
   "cell_type": "markdown",
   "metadata": {},
   "source": [
    "#### Построение кривой ошибок"
   ]
  },
  {
   "cell_type": "code",
   "execution_count": 28,
   "metadata": {},
   "outputs": [],
   "source": [
    "def compare_roc_curves(models, title='', X=X_val, y=y_val):\n",
    "    \"\"\"\n",
    "    Функция строит графики ошибок для моделей.\n",
    "    Расчет проиходит на переданных в функцию данных.\n",
    "    \"\"\"\n",
    "    fig = plot_roc_curve(models[0], X, y)\n",
    "    for model in models[1:]:\n",
    "        fig = plot_roc_curve(model, X, y, ax=fig.ax_)\n",
    "    fig.figure_.suptitle(title, fontsize=15, y=0.94)\n",
    "    fig.figure_.set_size_inches(9, 6)\n",
    "    graph = plt.gcf()\n",
    "    plt.close() \n",
    "    return graph"
   ]
  },
  {
   "cell_type": "markdown",
   "metadata": {},
   "source": [
    "#### График значимости признаков"
   ]
  },
  {
   "cell_type": "code",
   "execution_count": 29,
   "metadata": {},
   "outputs": [],
   "source": [
    "def plot_feature_importances_graph(model):\n",
    "    \"\"\"Функция для построения графика значимости признаков переданной модели.\"\"\"\n",
    "    if type(model) == type(LogisticRegression()):\n",
    "        feat_importances = pd.Series(model.coef_[0], index=X.columns)\n",
    "    else:    \n",
    "        feat_importances = pd.Series(model.feature_importances_, index=X.columns)\n",
    "        \n",
    "    fig = plt.figure(figsize=(8, 6))\n",
    "    \n",
    "    feat_importances.sort_values().plot(kind='barh', title='Значимость признаков', grid=True)\n",
    "    graph = plt.gcf()\n",
    "    \n",
    "    plt.close()\n",
    "    \n",
    "    return graph"
   ]
  },
  {
   "cell_type": "markdown",
   "metadata": {},
   "source": [
    "#### Добавление новых результатов в таблицу"
   ]
  },
  {
   "cell_type": "code",
   "execution_count": 30,
   "metadata": {},
   "outputs": [],
   "source": [
    "def make_new_row(model, method, metrics):\n",
    "    \"\"\"Функция для создания строчки с результатами эксперимента\"\"\"\n",
    "    row = pd.DataFrame(\n",
    "        columns = ['Модель', 'Способ борьбы с дисбалансом', 'F1',\n",
    "                   'Recall', 'Precision', 'ROC AUC'],\n",
    "        data = [[model, method,\n",
    "                 metrics['F1'], metrics['Recall'],\n",
    "                 metrics['Precision'], metrics['ROC AUC']]])\n",
    "    return row"
   ]
  },
  {
   "cell_type": "markdown",
   "metadata": {},
   "source": [
    "#### Выделение результатов эксперимента"
   ]
  },
  {
   "cell_type": "code",
   "execution_count": 31,
   "metadata": {},
   "outputs": [],
   "source": [
    "def highlight_exp(row, exp=''):\n",
    "    \"\"\"\n",
    "    Функция для удобного сравнения результатов экспериментов:\n",
    "    нужный эксперимент подсвечивается зеленым цветом, \n",
    "    [нулевой] эксперимент без обработки дисбаланса — желтым.\n",
    "    \"\"\"\n",
    "    if row['Способ борьбы с дисбалансом']==exp:\n",
    "        return ['background-color: lightgreen']*6\n",
    "    elif row['Способ борьбы с дисбалансом']=='Нет (данные несбалансированы)':\n",
    "        return ['background-color: lightyellow']*6\n",
    "    else:\n",
    "        return ['background-color: white']*6"
   ]
  },
  {
   "cell_type": "markdown",
   "metadata": {},
   "source": [
    "[К содержанию](#Содержание)"
   ]
  },
  {
   "cell_type": "markdown",
   "metadata": {},
   "source": [
    "## 4. Несбалансированные классы<a name=\"4.-Несбалансированные-классы\"></a>"
   ]
  },
  {
   "cell_type": "markdown",
   "metadata": {},
   "source": [
    "Исследование баланса классов показало, что данные несбалансированы. Изучим качество моделей, которые обучались на таких «плохих» данных, чтобы было с чем сравнивать результаты будущих улучшений."
   ]
  },
  {
   "cell_type": "markdown",
   "metadata": {},
   "source": [
    "### Подготовка данных для GridSearch<a name=\"Подготовка-данных-для-GridSearch\"></a>"
   ]
  },
  {
   "cell_type": "markdown",
   "metadata": {},
   "source": [
    "Подбирать лучшие гиперпараметры для моделей мы будем с помощью GridSearch. Подготовим данные для него."
   ]
  },
  {
   "cell_type": "markdown",
   "metadata": {},
   "source": [
    "Для GridSearch тренировочный и валидационный датасеты должны быть объединены в один."
   ]
  },
  {
   "cell_type": "code",
   "execution_count": 32,
   "metadata": {},
   "outputs": [],
   "source": [
    "X_gs = np.concatenate((X_train, X_val), axis=0)\n",
    "y_gs = np.concatenate((y_train, y_val), axis=0)"
   ]
  },
  {
   "cell_type": "markdown",
   "metadata": {},
   "source": [
    "Укажем для GridSearch индексы строк, на которых надо обучать и валидировать модели."
   ]
  },
  {
   "cell_type": "code",
   "execution_count": 33,
   "metadata": {},
   "outputs": [],
   "source": [
    "split_index = [-1]*len(X_train) + [0]*len(X_val)\n",
    "pds = PredefinedSplit(test_fold=split_index)"
   ]
  },
  {
   "cell_type": "markdown",
   "metadata": {},
   "source": [
    "### Дерево решений<a name=\"Дерево-решений-дисбаланс\"></a>"
   ]
  },
  {
   "cell_type": "markdown",
   "metadata": {},
   "source": [
    "Первая модель, которую мы будем исследовать — дерево решений.\n",
    "\n",
    "Для ускорения поиска будем перебирать только наиболее значимый параметр — высоту дерева. В качестве метрики, по которой будем определять лучшую модель, назначим F1-меру. Эта метрика интересует нас больше всего в этом исследовании. "
   ]
  },
  {
   "cell_type": "markdown",
   "metadata": {},
   "source": [
    "Установим `refit=False`, чтобы после определения гиперпараметров GridSearch не переобучил лучшую модель на всех данных. Иначе модель, которую нам отдаст GridSearch, увидит валидационную выборку. Мы этого не хотим, потому что на ней мы будем оценивать качество модели."
   ]
  },
  {
   "cell_type": "code",
   "execution_count": 34,
   "metadata": {},
   "outputs": [
    {
     "data": {
      "text/plain": [
       "GridSearchCV(cv=PredefinedSplit(test_fold=array([-1, -1, ...,  0,  0])),\n",
       "             estimator=DecisionTreeClassifier(random_state=42),\n",
       "             param_grid={'max_depth': range(1, 26)}, refit=False, scoring='f1')"
      ]
     },
     "execution_count": 34,
     "metadata": {},
     "output_type": "execute_result"
    }
   ],
   "source": [
    "decision_tree = DecisionTreeClassifier(random_state=SEED)\n",
    "\n",
    "tree_params = {'max_depth': range(1, 26)}\n",
    "\n",
    "tree_gs_unbal = GridSearchCV(\n",
    "    estimator=decision_tree,\n",
    "    param_grid=tree_params,\n",
    "    scoring='f1',\n",
    "    cv=pds,\n",
    "    refit=False)\n",
    "\n",
    "tree_gs_unbal.fit(X_gs, y_gs)"
   ]
  },
  {
   "cell_type": "markdown",
   "metadata": {},
   "source": [
    "Получим словарь с лучшими гиперпараметрами."
   ]
  },
  {
   "cell_type": "code",
   "execution_count": 35,
   "metadata": {},
   "outputs": [
    {
     "data": {
      "text/plain": [
       "{'max_depth': 7}"
      ]
     },
     "execution_count": 35,
     "metadata": {},
     "output_type": "execute_result"
    }
   ],
   "source": [
    "tree_gs_unbal.best_params_"
   ]
  },
  {
   "cell_type": "markdown",
   "metadata": {},
   "source": [
    "Инициализируем модель лучшими гиперпараметрами и обучим ее на тренировочной выборке."
   ]
  },
  {
   "cell_type": "code",
   "execution_count": 36,
   "metadata": {},
   "outputs": [
    {
     "data": {
      "text/plain": [
       "DecisionTreeClassifier(max_depth=7, random_state=42)"
      ]
     },
     "execution_count": 36,
     "metadata": {},
     "output_type": "execute_result"
    }
   ],
   "source": [
    "tree_unbal_best = DecisionTreeClassifier(max_depth=7,\n",
    "                                         random_state=SEED)\n",
    "\n",
    "tree_unbal_best.fit(X_train, y_train)"
   ]
  },
  {
   "cell_type": "markdown",
   "metadata": {},
   "source": [
    "Расчитаем метрики качества модели и запишем результат проведенного теста."
   ]
  },
  {
   "cell_type": "code",
   "execution_count": 37,
   "metadata": {},
   "outputs": [
    {
     "data": {
      "text/plain": [
       "{'F1': 0.565, 'Recall': 0.45, 'Precision': 0.759, 'ROC AUC': 0.835}"
      ]
     },
     "execution_count": 37,
     "metadata": {},
     "output_type": "execute_result"
    }
   ],
   "source": [
    "get_metrics(tree_unbal_best)"
   ]
  },
  {
   "cell_type": "code",
   "execution_count": 38,
   "metadata": {},
   "outputs": [
    {
     "data": {
      "text/html": [
       "<div>\n",
       "<style scoped>\n",
       "    .dataframe tbody tr th:only-of-type {\n",
       "        vertical-align: middle;\n",
       "    }\n",
       "\n",
       "    .dataframe tbody tr th {\n",
       "        vertical-align: top;\n",
       "    }\n",
       "\n",
       "    .dataframe thead th {\n",
       "        text-align: right;\n",
       "    }\n",
       "</style>\n",
       "<table border=\"1\" class=\"dataframe\">\n",
       "  <thead>\n",
       "    <tr style=\"text-align: right;\">\n",
       "      <th></th>\n",
       "      <th>Модель</th>\n",
       "      <th>Способ борьбы с дисбалансом</th>\n",
       "      <th>F1</th>\n",
       "      <th>Recall</th>\n",
       "      <th>Precision</th>\n",
       "      <th>ROC AUC</th>\n",
       "    </tr>\n",
       "  </thead>\n",
       "  <tbody>\n",
       "    <tr>\n",
       "      <th>0</th>\n",
       "      <td>Дерево решений</td>\n",
       "      <td>Нет (данные несбалансированы)</td>\n",
       "      <td>0.565</td>\n",
       "      <td>0.45</td>\n",
       "      <td>0.759</td>\n",
       "      <td>0.835</td>\n",
       "    </tr>\n",
       "  </tbody>\n",
       "</table>\n",
       "</div>"
      ],
      "text/plain": [
       "           Модель    Способ борьбы с дисбалансом     F1  Recall  Precision  \\\n",
       "0  Дерево решений  Нет (данные несбалансированы)  0.565    0.45      0.759   \n",
       "\n",
       "   ROC AUC  \n",
       "0    0.835  "
      ]
     },
     "execution_count": 38,
     "metadata": {},
     "output_type": "execute_result"
    }
   ],
   "source": [
    "research_result = research_result.append(\n",
    "    make_new_row(model='Дерево решений',\n",
    "                 method='Нет (данные несбалансированы)',\n",
    "                 metrics=get_metrics(tree_unbal_best)),\n",
    "    ignore_index=True)\n",
    "\n",
    "research_result.tail(1)"
   ]
  },
  {
   "cell_type": "markdown",
   "metadata": {},
   "source": [
    "### Случайный лес<a name=\"Случайный-лес\"></a>"
   ]
  },
  {
   "cell_type": "markdown",
   "metadata": {},
   "source": [
    "Здесь и далее мы будем использовать алгоритм, аналогичный описанному в предыдущем пункте. Чтобы сэкономить время, не будем дублировать описания шагов. "
   ]
  },
  {
   "cell_type": "markdown",
   "metadata": {},
   "source": [
    "Для случайного леса будем подбирать не только высоту деревьев, но и их количество."
   ]
  },
  {
   "cell_type": "code",
   "execution_count": 39,
   "metadata": {},
   "outputs": [
    {
     "data": {
      "text/plain": [
       "GridSearchCV(cv=PredefinedSplit(test_fold=array([-1, -1, ...,  0,  0])),\n",
       "             estimator=RandomForestClassifier(random_state=42),\n",
       "             param_grid={'max_depth': range(2, 31, 2),\n",
       "                         'n_estimators': range(10, 101, 10)},\n",
       "             refit=False, scoring='f1')"
      ]
     },
     "execution_count": 39,
     "metadata": {},
     "output_type": "execute_result"
    }
   ],
   "source": [
    "random_forest = RandomForestClassifier(random_state=SEED)\n",
    "\n",
    "forest_params = {'n_estimators': range(10, 101, 10),\n",
    "                 'max_depth': range(2, 31, 2)}\n",
    "\n",
    "forest_gs_unbal = GridSearchCV(\n",
    "    estimator=random_forest,\n",
    "    param_grid=forest_params,\n",
    "    scoring='f1',\n",
    "    cv=pds,\n",
    "    refit=False)\n",
    "\n",
    "forest_gs_unbal.fit(X_gs, y_gs)"
   ]
  },
  {
   "cell_type": "code",
   "execution_count": 40,
   "metadata": {},
   "outputs": [
    {
     "data": {
      "text/plain": [
       "{'max_depth': 16, 'n_estimators': 50}"
      ]
     },
     "execution_count": 40,
     "metadata": {},
     "output_type": "execute_result"
    }
   ],
   "source": [
    "forest_gs_unbal.best_params_"
   ]
  },
  {
   "cell_type": "code",
   "execution_count": 41,
   "metadata": {},
   "outputs": [
    {
     "data": {
      "text/plain": [
       "RandomForestClassifier(max_depth=16, n_estimators=50, random_state=42)"
      ]
     },
     "execution_count": 41,
     "metadata": {},
     "output_type": "execute_result"
    }
   ],
   "source": [
    "forest_unbal_best = RandomForestClassifier(max_depth=16,\n",
    "                                           n_estimators=50,\n",
    "                                           random_state=SEED)\n",
    "\n",
    "forest_unbal_best.fit(X_train, y_train)"
   ]
  },
  {
   "cell_type": "code",
   "execution_count": 42,
   "metadata": {},
   "outputs": [
    {
     "data": {
      "text/plain": [
       "{'F1': 0.579, 'Recall': 0.459, 'Precision': 0.782, 'ROC AUC': 0.853}"
      ]
     },
     "execution_count": 42,
     "metadata": {},
     "output_type": "execute_result"
    }
   ],
   "source": [
    "get_metrics(forest_unbal_best)"
   ]
  },
  {
   "cell_type": "code",
   "execution_count": 43,
   "metadata": {},
   "outputs": [
    {
     "data": {
      "text/html": [
       "<div>\n",
       "<style scoped>\n",
       "    .dataframe tbody tr th:only-of-type {\n",
       "        vertical-align: middle;\n",
       "    }\n",
       "\n",
       "    .dataframe tbody tr th {\n",
       "        vertical-align: top;\n",
       "    }\n",
       "\n",
       "    .dataframe thead th {\n",
       "        text-align: right;\n",
       "    }\n",
       "</style>\n",
       "<table border=\"1\" class=\"dataframe\">\n",
       "  <thead>\n",
       "    <tr style=\"text-align: right;\">\n",
       "      <th></th>\n",
       "      <th>Модель</th>\n",
       "      <th>Способ борьбы с дисбалансом</th>\n",
       "      <th>F1</th>\n",
       "      <th>Recall</th>\n",
       "      <th>Precision</th>\n",
       "      <th>ROC AUC</th>\n",
       "    </tr>\n",
       "  </thead>\n",
       "  <tbody>\n",
       "    <tr>\n",
       "      <th>1</th>\n",
       "      <td>Случайный лес</td>\n",
       "      <td>Нет (данные несбалансированы)</td>\n",
       "      <td>0.579</td>\n",
       "      <td>0.459</td>\n",
       "      <td>0.782</td>\n",
       "      <td>0.853</td>\n",
       "    </tr>\n",
       "  </tbody>\n",
       "</table>\n",
       "</div>"
      ],
      "text/plain": [
       "          Модель    Способ борьбы с дисбалансом     F1  Recall  Precision  \\\n",
       "1  Случайный лес  Нет (данные несбалансированы)  0.579   0.459      0.782   \n",
       "\n",
       "   ROC AUC  \n",
       "1    0.853  "
      ]
     },
     "execution_count": 43,
     "metadata": {},
     "output_type": "execute_result"
    }
   ],
   "source": [
    "research_result = research_result.append(\n",
    "    make_new_row(model='Случайный лес',\n",
    "                 method='Нет (данные несбалансированы)',\n",
    "                 metrics=get_metrics(forest_unbal_best)),\n",
    "    ignore_index=True)\n",
    "\n",
    "research_result.tail(1)"
   ]
  },
  {
   "cell_type": "markdown",
   "metadata": {},
   "source": [
    "### Логистическая регрессия<a name=\"Логистическая-регрессия\"></a>"
   ]
  },
  {
   "cell_type": "markdown",
   "metadata": {},
   "source": [
    "Для логистической регресси будем выбирать метод регуляризации."
   ]
  },
  {
   "cell_type": "markdown",
   "metadata": {},
   "source": [
    "В этом пункте мы проходим пайплайн, подробно описанный [здесь](#Дерево-решений-дисбаланс). Мы опустили комментарии в этом шаге для экономии времени."
   ]
  },
  {
   "cell_type": "code",
   "execution_count": 44,
   "metadata": {},
   "outputs": [
    {
     "data": {
      "text/plain": [
       "GridSearchCV(cv=PredefinedSplit(test_fold=array([-1, -1, ...,  0,  0])),\n",
       "             estimator=LogisticRegression(random_state=42, solver='liblinear'),\n",
       "             param_grid={'penalty': ['l2', 'l1']}, refit=False, scoring='f1')"
      ]
     },
     "execution_count": 44,
     "metadata": {},
     "output_type": "execute_result"
    }
   ],
   "source": [
    "logreg = LogisticRegression(solver='liblinear',\n",
    "                            random_state=SEED)\n",
    "\n",
    "logreg_params = {'penalty': ['l2', 'l1']}\n",
    "\n",
    "logreg_gs_unbal = GridSearchCV(\n",
    "    estimator=logreg,\n",
    "    param_grid=logreg_params,\n",
    "    scoring='f1',\n",
    "    cv=pds,\n",
    "    refit=False)\n",
    "\n",
    "logreg_gs_unbal.fit(X_gs, y_gs)"
   ]
  },
  {
   "cell_type": "code",
   "execution_count": 45,
   "metadata": {},
   "outputs": [
    {
     "data": {
      "text/plain": [
       "{'penalty': 'l2'}"
      ]
     },
     "execution_count": 45,
     "metadata": {},
     "output_type": "execute_result"
    }
   ],
   "source": [
    "logreg_gs_unbal.best_params_"
   ]
  },
  {
   "cell_type": "code",
   "execution_count": 46,
   "metadata": {},
   "outputs": [
    {
     "data": {
      "text/plain": [
       "LogisticRegression(random_state=42, solver='liblinear')"
      ]
     },
     "execution_count": 46,
     "metadata": {},
     "output_type": "execute_result"
    }
   ],
   "source": [
    "logreg_unbal_best = LogisticRegression(penalty='l2',\n",
    "                                       solver='liblinear',\n",
    "                                       random_state=SEED)\n",
    "\n",
    "logreg_unbal_best.fit(X_train, y_train)"
   ]
  },
  {
   "cell_type": "code",
   "execution_count": 47,
   "metadata": {},
   "outputs": [
    {
     "data": {
      "text/plain": [
       "{'F1': 0.316, 'Recall': 0.216, 'Precision': 0.587, 'ROC AUC': 0.756}"
      ]
     },
     "execution_count": 47,
     "metadata": {},
     "output_type": "execute_result"
    }
   ],
   "source": [
    "get_metrics(logreg_unbal_best)"
   ]
  },
  {
   "cell_type": "code",
   "execution_count": 48,
   "metadata": {},
   "outputs": [
    {
     "data": {
      "text/html": [
       "<div>\n",
       "<style scoped>\n",
       "    .dataframe tbody tr th:only-of-type {\n",
       "        vertical-align: middle;\n",
       "    }\n",
       "\n",
       "    .dataframe tbody tr th {\n",
       "        vertical-align: top;\n",
       "    }\n",
       "\n",
       "    .dataframe thead th {\n",
       "        text-align: right;\n",
       "    }\n",
       "</style>\n",
       "<table border=\"1\" class=\"dataframe\">\n",
       "  <thead>\n",
       "    <tr style=\"text-align: right;\">\n",
       "      <th></th>\n",
       "      <th>Модель</th>\n",
       "      <th>Способ борьбы с дисбалансом</th>\n",
       "      <th>F1</th>\n",
       "      <th>Recall</th>\n",
       "      <th>Precision</th>\n",
       "      <th>ROC AUC</th>\n",
       "    </tr>\n",
       "  </thead>\n",
       "  <tbody>\n",
       "    <tr>\n",
       "      <th>2</th>\n",
       "      <td>Логистическая регрессия</td>\n",
       "      <td>Нет (данные несбалансированы)</td>\n",
       "      <td>0.316</td>\n",
       "      <td>0.216</td>\n",
       "      <td>0.587</td>\n",
       "      <td>0.756</td>\n",
       "    </tr>\n",
       "  </tbody>\n",
       "</table>\n",
       "</div>"
      ],
      "text/plain": [
       "                    Модель    Способ борьбы с дисбалансом     F1  Recall  \\\n",
       "2  Логистическая регрессия  Нет (данные несбалансированы)  0.316   0.216   \n",
       "\n",
       "   Precision  ROC AUC  \n",
       "2      0.587    0.756  "
      ]
     },
     "execution_count": 48,
     "metadata": {},
     "output_type": "execute_result"
    }
   ],
   "source": [
    "research_result = research_result.append(\n",
    "    make_new_row(model='Логистическая регрессия',\n",
    "                 method='Нет (данные несбалансированы)',\n",
    "                 metrics=get_metrics(logreg_unbal_best)),\n",
    "    ignore_index=True)\n",
    "\n",
    "research_result.tail(1)"
   ]
  },
  {
   "cell_type": "markdown",
   "metadata": {},
   "source": [
    "### Вывод<a name=\"Вывод\"></a>"
   ]
  },
  {
   "cell_type": "markdown",
   "metadata": {},
   "source": [
    "Выведем результаты экспериментов, проведенных в этом разделе."
   ]
  },
  {
   "cell_type": "code",
   "execution_count": 49,
   "metadata": {},
   "outputs": [
    {
     "data": {
      "text/html": [
       "<div>\n",
       "<style scoped>\n",
       "    .dataframe tbody tr th:only-of-type {\n",
       "        vertical-align: middle;\n",
       "    }\n",
       "\n",
       "    .dataframe tbody tr th {\n",
       "        vertical-align: top;\n",
       "    }\n",
       "\n",
       "    .dataframe thead th {\n",
       "        text-align: right;\n",
       "    }\n",
       "</style>\n",
       "<table border=\"1\" class=\"dataframe\">\n",
       "  <thead>\n",
       "    <tr style=\"text-align: right;\">\n",
       "      <th></th>\n",
       "      <th>Модель</th>\n",
       "      <th>Способ борьбы с дисбалансом</th>\n",
       "      <th>F1</th>\n",
       "      <th>Recall</th>\n",
       "      <th>Precision</th>\n",
       "      <th>ROC AUC</th>\n",
       "    </tr>\n",
       "  </thead>\n",
       "  <tbody>\n",
       "    <tr>\n",
       "      <th>0</th>\n",
       "      <td>Дерево решений</td>\n",
       "      <td>Нет (данные несбалансированы)</td>\n",
       "      <td>0.565</td>\n",
       "      <td>0.450</td>\n",
       "      <td>0.759</td>\n",
       "      <td>0.835</td>\n",
       "    </tr>\n",
       "    <tr>\n",
       "      <th>1</th>\n",
       "      <td>Случайный лес</td>\n",
       "      <td>Нет (данные несбалансированы)</td>\n",
       "      <td>0.579</td>\n",
       "      <td>0.459</td>\n",
       "      <td>0.782</td>\n",
       "      <td>0.853</td>\n",
       "    </tr>\n",
       "    <tr>\n",
       "      <th>2</th>\n",
       "      <td>Логистическая регрессия</td>\n",
       "      <td>Нет (данные несбалансированы)</td>\n",
       "      <td>0.316</td>\n",
       "      <td>0.216</td>\n",
       "      <td>0.587</td>\n",
       "      <td>0.756</td>\n",
       "    </tr>\n",
       "  </tbody>\n",
       "</table>\n",
       "</div>"
      ],
      "text/plain": [
       "                    Модель    Способ борьбы с дисбалансом     F1  Recall  \\\n",
       "0           Дерево решений  Нет (данные несбалансированы)  0.565   0.450   \n",
       "1            Случайный лес  Нет (данные несбалансированы)  0.579   0.459   \n",
       "2  Логистическая регрессия  Нет (данные несбалансированы)  0.316   0.216   \n",
       "\n",
       "   Precision  ROC AUC  \n",
       "0      0.759    0.835  \n",
       "1      0.782    0.853  \n",
       "2      0.587    0.756  "
      ]
     },
     "execution_count": 49,
     "metadata": {},
     "output_type": "execute_result"
    }
   ],
   "source": [
    "research_result"
   ]
  },
  {
   "cell_type": "markdown",
   "metadata": {},
   "source": [
    "Мы обнаружили, что в обучающей выборке классы несбалансированы. Чтобы оценить эффект от инструментов борьбы с дисбалансом, мы пока не стали исправлять его и обучили модели на «грязных» данных."
   ]
  },
  {
   "cell_type": "markdown",
   "metadata": {},
   "source": [
    "Лучше всех себя показал случайный лес. Его F1-мера равна 0,58 — это почти требуемое качество. На втором месте по F1-мере — дерево решений, оно несильно уступает по F1-мере.\n",
    "\n",
    "Однако у обеих моделей precision значительно перевешивает recall: 0,76–0,78 против 0,45. Это значит, что если модели определили клиента как уходящего, то он действительно окажется таким с вероятностью 0,76–0,78. Однако из всех действительно уходящих клиентов модели могут распознать всего 45%. Это не очень хорошо."
   ]
  },
  {
   "cell_type": "markdown",
   "metadata": {},
   "source": [
    "Хуже остальных с предсказаним справилась логистическая регрессия: F1-мера оказалась почти в два раза меньше необходимого минимума, recall — всего 0.2."
   ]
  },
  {
   "cell_type": "markdown",
   "metadata": {},
   "source": [
    " Теперь посмотрим на графики ошибок моделей."
   ]
  },
  {
   "cell_type": "code",
   "execution_count": 50,
   "metadata": {},
   "outputs": [
    {
     "data": {
      "image/png": "[encoded data removed]",
      "text/plain": [
       "<Figure size 648x432 with 1 Axes>"
      ]
     },
     "execution_count": 50,
     "metadata": {},
     "output_type": "execute_result"
    }
   ],
   "source": [
    "compare_roc_curves([tree_unbal_best, forest_unbal_best, logreg_unbal_best],\n",
    "                   'Кривые ошибок для моделей, обученных на несбалансированных данных')"
   ]
  },
  {
   "cell_type": "markdown",
   "metadata": {},
   "source": [
    "[К содержанию](#Содержание)"
   ]
  },
  {
   "cell_type": "markdown",
   "metadata": {},
   "source": [
    "## 5. Борьба с дисбалансом<a name=\"5.-Борьба-с-дисбалансом\"></a>"
   ]
  },
  {
   "cell_type": "markdown",
   "metadata": {},
   "source": [
    "Для борьбы с дисбалансом протестируем три техники:\n",
    "1. upsampling обучающей выборки,\n",
    "2. уравновешивание классов,\n",
    "3. изменение порога классификации."
   ]
  },
  {
   "cell_type": "markdown",
   "metadata": {},
   "source": [
    "### Upsampling<a name=\"Upsampling\"></a>"
   ]
  },
  {
   "cell_type": "markdown",
   "metadata": {},
   "source": [
    "Преобразуем обучающую выборку следующим образом:\n",
    "1. разделим ее на отрицательные и положительные объекты;\n",
    "2. скопируем 3 раза положительные объекты;\n",
    "3. с учетом полученных данных создадим новую обучающую выборку;\n",
    "4. перемешать данные.\n",
    "\n",
    "После этого обучим все обучающие модели и посмотрим на их метрики. Для этого также создадим функцию, чтобы не писать одинаковые код несколько раз.\n",
    "\n",
    "Начнем с апсэмплинга. Напишем для него функцию и посмотрим на баланс классов в новой выборке."
   ]
  },
  {
   "cell_type": "code",
   "execution_count": 51,
   "metadata": {},
   "outputs": [],
   "source": [
    "def upsample(X, y, repeat):\n",
    "    X_zeros = X[y == 0]\n",
    "    X_ones = X[y == 1]\n",
    "    y_zeros = y[y == 0]\n",
    "    y_ones = y[y == 1]\n",
    "\n",
    "    X_upsampled = pd.concat([X_zeros] + [X_ones] * repeat)\n",
    "    y_upsampled = pd.concat([y_zeros] + [y_ones] * repeat)\n",
    "    \n",
    "    X_upsampled, y_upsampled = shuffle(X_upsampled, y_upsampled, random_state=SEED)\n",
    "    \n",
    "    return X_upsampled, y_upsampled"
   ]
  },
  {
   "cell_type": "code",
   "execution_count": 52,
   "metadata": {},
   "outputs": [
    {
     "name": "stdout",
     "output_type": "stream",
     "text": [
      "Размер выборки: 8446\n"
     ]
    },
    {
     "data": {
      "text/html": [
       "<div>\n",
       "<style scoped>\n",
       "    .dataframe tbody tr th:only-of-type {\n",
       "        vertical-align: middle;\n",
       "    }\n",
       "\n",
       "    .dataframe tbody tr th {\n",
       "        vertical-align: top;\n",
       "    }\n",
       "\n",
       "    .dataframe thead th {\n",
       "        text-align: right;\n",
       "    }\n",
       "</style>\n",
       "<table border=\"1\" class=\"dataframe\">\n",
       "  <thead>\n",
       "    <tr style=\"text-align: right;\">\n",
       "      <th></th>\n",
       "      <th>absolute</th>\n",
       "      <th>share_of_sample</th>\n",
       "    </tr>\n",
       "  </thead>\n",
       "  <tbody>\n",
       "    <tr>\n",
       "      <th>0</th>\n",
       "      <td>4777</td>\n",
       "      <td>0.565593</td>\n",
       "    </tr>\n",
       "    <tr>\n",
       "      <th>1</th>\n",
       "      <td>3669</td>\n",
       "      <td>0.434407</td>\n",
       "    </tr>\n",
       "  </tbody>\n",
       "</table>\n",
       "</div>"
      ],
      "text/plain": [
       "   absolute  share_of_sample\n",
       "0      4777         0.565593\n",
       "1      3669         0.434407"
      ]
     },
     "metadata": {},
     "output_type": "display_data"
    }
   ],
   "source": [
    "X_train_upsamp, y_train_upsamp = upsample(X_train, y_train, 3)\n",
    "check_split(X_train_upsamp, y_train_upsamp)"
   ]
  },
  {
   "cell_type": "markdown",
   "metadata": {},
   "source": [
    "Апсэмплинг проведен, теперь посмотрим как изменились метрики моделей."
   ]
  },
  {
   "cell_type": "markdown",
   "metadata": {},
   "source": [
    "#### Подготовка данных для GridSearch"
   ]
  },
  {
   "cell_type": "markdown",
   "metadata": {},
   "source": [
    "Для GridSearch тренировочный и валидационный датасеты должны быть объединены в один."
   ]
  },
  {
   "cell_type": "code",
   "execution_count": 53,
   "metadata": {},
   "outputs": [],
   "source": [
    "X_gs_upsamp = np.concatenate((X_train_upsamp, X_val), axis=0)\n",
    "y_gs_upsamp = np.concatenate((y_train_upsamp, y_val), axis=0)"
   ]
  },
  {
   "cell_type": "markdown",
   "metadata": {},
   "source": [
    "Укажем для GridSearch индексы строк, на которых надо обучать и валидировать модели."
   ]
  },
  {
   "cell_type": "code",
   "execution_count": 54,
   "metadata": {},
   "outputs": [],
   "source": [
    "split_index_upsamp = [-1]*len(X_train_upsamp) + [0]*len(X_val)\n",
    "pds_upsamp = PredefinedSplit(test_fold=split_index_upsamp)"
   ]
  },
  {
   "cell_type": "markdown",
   "metadata": {},
   "source": [
    "#### Дерево решений"
   ]
  },
  {
   "cell_type": "markdown",
   "metadata": {},
   "source": [
    "В этом пункте мы проходим пайплайн, подробно описанный [здесь](#Дерево-решений-дисбаланс). Мы опустили комментарии в этом шаге для экономии времени."
   ]
  },
  {
   "cell_type": "code",
   "execution_count": 55,
   "metadata": {},
   "outputs": [
    {
     "data": {
      "text/plain": [
       "GridSearchCV(cv=PredefinedSplit(test_fold=array([-1, -1, ...,  0,  0])),\n",
       "             estimator=DecisionTreeClassifier(random_state=42),\n",
       "             param_grid={'max_depth': range(1, 26)}, refit=False, scoring='f1')"
      ]
     },
     "execution_count": 55,
     "metadata": {},
     "output_type": "execute_result"
    }
   ],
   "source": [
    "decision_tree = DecisionTreeClassifier(random_state=SEED)\n",
    "\n",
    "tree_params = {'max_depth': range(1, 26)}\n",
    "\n",
    "tree_gs_upsamp = GridSearchCV(\n",
    "    estimator=decision_tree,\n",
    "    param_grid=tree_params,\n",
    "    scoring='f1',\n",
    "    cv=pds_upsamp,\n",
    "    refit=False)\n",
    "\n",
    "tree_gs_upsamp.fit(X_gs_upsamp, y_gs_upsamp)"
   ]
  },
  {
   "cell_type": "code",
   "execution_count": 56,
   "metadata": {},
   "outputs": [
    {
     "data": {
      "text/plain": [
       "{'max_depth': 7}"
      ]
     },
     "execution_count": 56,
     "metadata": {},
     "output_type": "execute_result"
    }
   ],
   "source": [
    "tree_gs_upsamp.best_params_"
   ]
  },
  {
   "cell_type": "code",
   "execution_count": 57,
   "metadata": {},
   "outputs": [
    {
     "data": {
      "text/plain": [
       "DecisionTreeClassifier(max_depth=7, random_state=42)"
      ]
     },
     "execution_count": 57,
     "metadata": {},
     "output_type": "execute_result"
    }
   ],
   "source": [
    "tree_upsamp_best = DecisionTreeClassifier(max_depth=7,\n",
    "                                          random_state=SEED)\n",
    "\n",
    "tree_upsamp_best.fit(X_train_upsamp, y_train_upsamp)"
   ]
  },
  {
   "cell_type": "code",
   "execution_count": 58,
   "metadata": {},
   "outputs": [
    {
     "data": {
      "text/plain": [
       "{'F1': 0.597, 'Recall': 0.671, 'Precision': 0.538, 'ROC AUC': 0.827}"
      ]
     },
     "execution_count": 58,
     "metadata": {},
     "output_type": "execute_result"
    }
   ],
   "source": [
    "get_metrics(tree_upsamp_best)"
   ]
  },
  {
   "cell_type": "code",
   "execution_count": 59,
   "metadata": {},
   "outputs": [
    {
     "data": {
      "text/html": [
       "<div>\n",
       "<style scoped>\n",
       "    .dataframe tbody tr th:only-of-type {\n",
       "        vertical-align: middle;\n",
       "    }\n",
       "\n",
       "    .dataframe tbody tr th {\n",
       "        vertical-align: top;\n",
       "    }\n",
       "\n",
       "    .dataframe thead th {\n",
       "        text-align: right;\n",
       "    }\n",
       "</style>\n",
       "<table border=\"1\" class=\"dataframe\">\n",
       "  <thead>\n",
       "    <tr style=\"text-align: right;\">\n",
       "      <th></th>\n",
       "      <th>Модель</th>\n",
       "      <th>Способ борьбы с дисбалансом</th>\n",
       "      <th>F1</th>\n",
       "      <th>Recall</th>\n",
       "      <th>Precision</th>\n",
       "      <th>ROC AUC</th>\n",
       "    </tr>\n",
       "  </thead>\n",
       "  <tbody>\n",
       "    <tr>\n",
       "      <th>3</th>\n",
       "      <td>Дерево решений</td>\n",
       "      <td>Upsampling</td>\n",
       "      <td>0.597</td>\n",
       "      <td>0.671</td>\n",
       "      <td>0.538</td>\n",
       "      <td>0.827</td>\n",
       "    </tr>\n",
       "  </tbody>\n",
       "</table>\n",
       "</div>"
      ],
      "text/plain": [
       "           Модель Способ борьбы с дисбалансом     F1  Recall  Precision  \\\n",
       "3  Дерево решений                  Upsampling  0.597   0.671      0.538   \n",
       "\n",
       "   ROC AUC  \n",
       "3    0.827  "
      ]
     },
     "execution_count": 59,
     "metadata": {},
     "output_type": "execute_result"
    }
   ],
   "source": [
    "research_result = research_result.append(\n",
    "    make_new_row(model='Дерево решений',\n",
    "                 method='Upsampling',\n",
    "                 metrics=get_metrics(tree_upsamp_best)),\n",
    "    ignore_index=True)\n",
    "\n",
    "research_result.tail(1)"
   ]
  },
  {
   "cell_type": "markdown",
   "metadata": {},
   "source": [
    "#### Случайный лес"
   ]
  },
  {
   "cell_type": "markdown",
   "metadata": {},
   "source": [
    "В этом пункте мы проходим пайплайн, подробно описанный [здесь](#Дерево-решений-дисбаланс). Мы опустили комментарии в этом шаге для экономии времени."
   ]
  },
  {
   "cell_type": "code",
   "execution_count": 60,
   "metadata": {},
   "outputs": [
    {
     "data": {
      "text/plain": [
       "GridSearchCV(cv=PredefinedSplit(test_fold=array([-1, -1, ...,  0,  0])),\n",
       "             estimator=RandomForestClassifier(random_state=42),\n",
       "             param_grid={'max_depth': range(2, 31, 2),\n",
       "                         'n_estimators': range(10, 101, 10)},\n",
       "             refit=False, scoring='f1')"
      ]
     },
     "execution_count": 60,
     "metadata": {},
     "output_type": "execute_result"
    }
   ],
   "source": [
    "random_forest = RandomForestClassifier(random_state=SEED)\n",
    "\n",
    "forest_params = {'n_estimators': range(10, 101, 10),\n",
    "                 'max_depth': range(2, 31, 2)}\n",
    "\n",
    "forest_gs_upsamp = GridSearchCV(\n",
    "    estimator=random_forest,\n",
    "    param_grid=forest_params,\n",
    "    scoring='f1',\n",
    "    cv=pds_upsamp,\n",
    "    refit=False)\n",
    "\n",
    "forest_gs_upsamp.fit(X_gs_upsamp, y_gs_upsamp)"
   ]
  },
  {
   "cell_type": "code",
   "execution_count": 61,
   "metadata": {},
   "outputs": [
    {
     "data": {
      "text/plain": [
       "{'max_depth': 12, 'n_estimators': 80}"
      ]
     },
     "execution_count": 61,
     "metadata": {},
     "output_type": "execute_result"
    }
   ],
   "source": [
    "forest_gs_upsamp.best_params_"
   ]
  },
  {
   "cell_type": "code",
   "execution_count": 62,
   "metadata": {},
   "outputs": [
    {
     "data": {
      "text/plain": [
       "RandomForestClassifier(max_depth=12, n_estimators=80, random_state=42)"
      ]
     },
     "execution_count": 62,
     "metadata": {},
     "output_type": "execute_result"
    }
   ],
   "source": [
    "forest_upsamp_best = RandomForestClassifier(max_depth=12,\n",
    "                                            n_estimators=80,\n",
    "                                            random_state=SEED)\n",
    "\n",
    "forest_upsamp_best.fit(X_train_upsamp, y_train_upsamp)"
   ]
  },
  {
   "cell_type": "code",
   "execution_count": 63,
   "metadata": {},
   "outputs": [
    {
     "data": {
      "text/plain": [
       "{'F1': 0.645, 'Recall': 0.634, 'Precision': 0.656, 'ROC AUC': 0.857}"
      ]
     },
     "execution_count": 63,
     "metadata": {},
     "output_type": "execute_result"
    }
   ],
   "source": [
    "get_metrics(forest_upsamp_best)"
   ]
  },
  {
   "cell_type": "code",
   "execution_count": 64,
   "metadata": {},
   "outputs": [
    {
     "data": {
      "text/html": [
       "<div>\n",
       "<style scoped>\n",
       "    .dataframe tbody tr th:only-of-type {\n",
       "        vertical-align: middle;\n",
       "    }\n",
       "\n",
       "    .dataframe tbody tr th {\n",
       "        vertical-align: top;\n",
       "    }\n",
       "\n",
       "    .dataframe thead th {\n",
       "        text-align: right;\n",
       "    }\n",
       "</style>\n",
       "<table border=\"1\" class=\"dataframe\">\n",
       "  <thead>\n",
       "    <tr style=\"text-align: right;\">\n",
       "      <th></th>\n",
       "      <th>Модель</th>\n",
       "      <th>Способ борьбы с дисбалансом</th>\n",
       "      <th>F1</th>\n",
       "      <th>Recall</th>\n",
       "      <th>Precision</th>\n",
       "      <th>ROC AUC</th>\n",
       "    </tr>\n",
       "  </thead>\n",
       "  <tbody>\n",
       "    <tr>\n",
       "      <th>4</th>\n",
       "      <td>Случайный лес</td>\n",
       "      <td>Upsampling</td>\n",
       "      <td>0.645</td>\n",
       "      <td>0.634</td>\n",
       "      <td>0.656</td>\n",
       "      <td>0.857</td>\n",
       "    </tr>\n",
       "  </tbody>\n",
       "</table>\n",
       "</div>"
      ],
      "text/plain": [
       "          Модель Способ борьбы с дисбалансом     F1  Recall  Precision  \\\n",
       "4  Случайный лес                  Upsampling  0.645   0.634      0.656   \n",
       "\n",
       "   ROC AUC  \n",
       "4    0.857  "
      ]
     },
     "execution_count": 64,
     "metadata": {},
     "output_type": "execute_result"
    }
   ],
   "source": [
    "research_result = research_result.append(\n",
    "    make_new_row(model='Случайный лес',\n",
    "                 method='Upsampling',\n",
    "                 metrics=get_metrics(forest_upsamp_best)),\n",
    "    ignore_index=True)\n",
    "\n",
    "research_result.tail(1)"
   ]
  },
  {
   "cell_type": "markdown",
   "metadata": {},
   "source": [
    "#### Логистическая регрессия"
   ]
  },
  {
   "cell_type": "markdown",
   "metadata": {},
   "source": [
    "В этом пункте мы проходим пайплайн, подробно описанный [здесь](#Дерево-решений-дисбаланс). Мы опустили комментарии в этом шаге для экономии времени."
   ]
  },
  {
   "cell_type": "code",
   "execution_count": 65,
   "metadata": {},
   "outputs": [
    {
     "data": {
      "text/plain": [
       "GridSearchCV(cv=PredefinedSplit(test_fold=array([-1, -1, ...,  0,  0])),\n",
       "             estimator=LogisticRegression(random_state=42, solver='liblinear'),\n",
       "             param_grid={'penalty': ['l2', 'l1']}, refit=False, scoring='f1')"
      ]
     },
     "execution_count": 65,
     "metadata": {},
     "output_type": "execute_result"
    }
   ],
   "source": [
    "logreg = LogisticRegression(solver='liblinear',\n",
    "                            random_state=SEED)\n",
    "\n",
    "logreg_params = {'penalty': ['l2', 'l1']}\n",
    "\n",
    "logreg_gs_upsamp = GridSearchCV(\n",
    "    estimator=logreg,\n",
    "    param_grid=logreg_params,\n",
    "    scoring='f1',\n",
    "    cv=pds_upsamp,\n",
    "    refit=False)\n",
    "\n",
    "logreg_gs_upsamp.fit(X_gs_upsamp, y_gs_upsamp)"
   ]
  },
  {
   "cell_type": "code",
   "execution_count": 66,
   "metadata": {},
   "outputs": [
    {
     "data": {
      "text/plain": [
       "{'penalty': 'l2'}"
      ]
     },
     "execution_count": 66,
     "metadata": {},
     "output_type": "execute_result"
    }
   ],
   "source": [
    "logreg_gs_upsamp.best_params_"
   ]
  },
  {
   "cell_type": "code",
   "execution_count": 67,
   "metadata": {},
   "outputs": [
    {
     "data": {
      "text/plain": [
       "LogisticRegression(random_state=42, solver='liblinear')"
      ]
     },
     "execution_count": 67,
     "metadata": {},
     "output_type": "execute_result"
    }
   ],
   "source": [
    "logreg_upsamp_best = LogisticRegression(penalty='l2',\n",
    "                                        solver='liblinear',\n",
    "                                        random_state=SEED)\n",
    "\n",
    "logreg_upsamp_best.fit(X_train_upsamp, y_train_upsamp)"
   ]
  },
  {
   "cell_type": "code",
   "execution_count": 68,
   "metadata": {},
   "outputs": [
    {
     "data": {
      "text/plain": [
       "{'F1': 0.481, 'Recall': 0.565, 'Precision': 0.419, 'ROC AUC': 0.76}"
      ]
     },
     "execution_count": 68,
     "metadata": {},
     "output_type": "execute_result"
    }
   ],
   "source": [
    "get_metrics(logreg_upsamp_best)"
   ]
  },
  {
   "cell_type": "code",
   "execution_count": 69,
   "metadata": {},
   "outputs": [
    {
     "data": {
      "text/html": [
       "<div>\n",
       "<style scoped>\n",
       "    .dataframe tbody tr th:only-of-type {\n",
       "        vertical-align: middle;\n",
       "    }\n",
       "\n",
       "    .dataframe tbody tr th {\n",
       "        vertical-align: top;\n",
       "    }\n",
       "\n",
       "    .dataframe thead th {\n",
       "        text-align: right;\n",
       "    }\n",
       "</style>\n",
       "<table border=\"1\" class=\"dataframe\">\n",
       "  <thead>\n",
       "    <tr style=\"text-align: right;\">\n",
       "      <th></th>\n",
       "      <th>Модель</th>\n",
       "      <th>Способ борьбы с дисбалансом</th>\n",
       "      <th>F1</th>\n",
       "      <th>Recall</th>\n",
       "      <th>Precision</th>\n",
       "      <th>ROC AUC</th>\n",
       "    </tr>\n",
       "  </thead>\n",
       "  <tbody>\n",
       "    <tr>\n",
       "      <th>5</th>\n",
       "      <td>Логистическая регрессия</td>\n",
       "      <td>Upsampling</td>\n",
       "      <td>0.481</td>\n",
       "      <td>0.565</td>\n",
       "      <td>0.419</td>\n",
       "      <td>0.76</td>\n",
       "    </tr>\n",
       "  </tbody>\n",
       "</table>\n",
       "</div>"
      ],
      "text/plain": [
       "                    Модель Способ борьбы с дисбалансом     F1  Recall  \\\n",
       "5  Логистическая регрессия                  Upsampling  0.481   0.565   \n",
       "\n",
       "   Precision  ROC AUC  \n",
       "5      0.419     0.76  "
      ]
     },
     "execution_count": 69,
     "metadata": {},
     "output_type": "execute_result"
    }
   ],
   "source": [
    "research_result = research_result.append(\n",
    "    make_new_row(model='Логистическая регрессия',\n",
    "                 method='Upsampling',\n",
    "                 metrics=get_metrics(logreg_upsamp_best)),\n",
    "    ignore_index=True)\n",
    "\n",
    "research_result.tail(1)"
   ]
  },
  {
   "cell_type": "markdown",
   "metadata": {},
   "source": [
    "#### Сравнение с моделями, обученными на несбалансированных данных"
   ]
  },
  {
   "cell_type": "markdown",
   "metadata": {},
   "source": [
    "Посмотрим, как обучение моделей на данных с увеличенным размером первого класса сказалось на их качестве."
   ]
  },
  {
   "cell_type": "code",
   "execution_count": 70,
   "metadata": {},
   "outputs": [
    {
     "data": {
      "text/html": [
       "<div>\n",
       "<style scoped>\n",
       "    .dataframe tbody tr th:only-of-type {\n",
       "        vertical-align: middle;\n",
       "    }\n",
       "\n",
       "    .dataframe tbody tr th {\n",
       "        vertical-align: top;\n",
       "    }\n",
       "\n",
       "    .dataframe thead th {\n",
       "        text-align: right;\n",
       "    }\n",
       "</style>\n",
       "<table border=\"1\" class=\"dataframe\">\n",
       "  <thead>\n",
       "    <tr style=\"text-align: right;\">\n",
       "      <th></th>\n",
       "      <th>Модель</th>\n",
       "      <th>Способ борьбы с дисбалансом</th>\n",
       "      <th>F1</th>\n",
       "      <th>Recall</th>\n",
       "      <th>Precision</th>\n",
       "      <th>ROC AUC</th>\n",
       "    </tr>\n",
       "  </thead>\n",
       "  <tbody>\n",
       "    <tr>\n",
       "      <th>0</th>\n",
       "      <td>Дерево решений</td>\n",
       "      <td>Нет (данные несбалансированы)</td>\n",
       "      <td>0.565</td>\n",
       "      <td>0.450</td>\n",
       "      <td>0.759</td>\n",
       "      <td>0.835</td>\n",
       "    </tr>\n",
       "    <tr>\n",
       "      <th>1</th>\n",
       "      <td>Случайный лес</td>\n",
       "      <td>Нет (данные несбалансированы)</td>\n",
       "      <td>0.579</td>\n",
       "      <td>0.459</td>\n",
       "      <td>0.782</td>\n",
       "      <td>0.853</td>\n",
       "    </tr>\n",
       "    <tr>\n",
       "      <th>2</th>\n",
       "      <td>Логистическая регрессия</td>\n",
       "      <td>Нет (данные несбалансированы)</td>\n",
       "      <td>0.316</td>\n",
       "      <td>0.216</td>\n",
       "      <td>0.587</td>\n",
       "      <td>0.756</td>\n",
       "    </tr>\n",
       "    <tr>\n",
       "      <th>3</th>\n",
       "      <td>Дерево решений</td>\n",
       "      <td>Upsampling</td>\n",
       "      <td>0.597</td>\n",
       "      <td>0.671</td>\n",
       "      <td>0.538</td>\n",
       "      <td>0.827</td>\n",
       "    </tr>\n",
       "    <tr>\n",
       "      <th>4</th>\n",
       "      <td>Случайный лес</td>\n",
       "      <td>Upsampling</td>\n",
       "      <td>0.645</td>\n",
       "      <td>0.634</td>\n",
       "      <td>0.656</td>\n",
       "      <td>0.857</td>\n",
       "    </tr>\n",
       "    <tr>\n",
       "      <th>5</th>\n",
       "      <td>Логистическая регрессия</td>\n",
       "      <td>Upsampling</td>\n",
       "      <td>0.481</td>\n",
       "      <td>0.565</td>\n",
       "      <td>0.419</td>\n",
       "      <td>0.760</td>\n",
       "    </tr>\n",
       "  </tbody>\n",
       "</table>\n",
       "</div>"
      ],
      "text/plain": [
       "                    Модель    Способ борьбы с дисбалансом     F1  Recall  \\\n",
       "0           Дерево решений  Нет (данные несбалансированы)  0.565   0.450   \n",
       "1            Случайный лес  Нет (данные несбалансированы)  0.579   0.459   \n",
       "2  Логистическая регрессия  Нет (данные несбалансированы)  0.316   0.216   \n",
       "3           Дерево решений                     Upsampling  0.597   0.671   \n",
       "4            Случайный лес                     Upsampling  0.645   0.634   \n",
       "5  Логистическая регрессия                     Upsampling  0.481   0.565   \n",
       "\n",
       "   Precision  ROC AUC  \n",
       "0      0.759    0.835  \n",
       "1      0.782    0.853  \n",
       "2      0.587    0.756  \n",
       "3      0.538    0.827  \n",
       "4      0.656    0.857  \n",
       "5      0.419    0.760  "
      ]
     },
     "execution_count": 70,
     "metadata": {},
     "output_type": "execute_result"
    }
   ],
   "source": [
    "research_result"
   ]
  },
  {
   "cell_type": "markdown",
   "metadata": {},
   "source": [
    "По столбцу Recall видно, что все модели стали находить гораздо больше «уходящих» клиентов. Вместе с этим однако упал их precision: модели стали чаще записывать в отток клиентов, которые не собирались уходить. Больше всего precision упал у дерева решений, то есть оно сильнее всех переобучилось под уходящих клиентов.\n",
    "\n",
    "По F1-мере наибольший прирост получила линейная регрессия. Видимо, из-за вырасшего в 2,5 recall'а. "
   ]
  },
  {
   "cell_type": "code",
   "execution_count": 71,
   "metadata": {
    "scrolled": false
   },
   "outputs": [
    {
     "data": {
      "image/png": "[encoded data removed]",
      "text/plain": [
       "<Figure size 648x432 with 1 Axes>"
      ]
     },
     "execution_count": 71,
     "metadata": {},
     "output_type": "execute_result"
    }
   ],
   "source": [
    "compare_roc_curves([tree_upsamp_best, forest_upsamp_best, logreg_upsamp_best],\n",
    "                   'Кривые ошибок для моделей, обученных на данных \\nc увеличенным в три раза числом объектов первого класса')"
   ]
  },
  {
   "cell_type": "markdown",
   "metadata": {},
   "source": [
    "Графики ошибок и площади под ними почти не изменились."
   ]
  },
  {
   "cell_type": "markdown",
   "metadata": {},
   "source": [
    "[К содержанию](#Содержание)"
   ]
  },
  {
   "cell_type": "markdown",
   "metadata": {},
   "source": [
    "### Уравновешивание классов<a name=\"Уравновешивание-классов\"></a>"
   ]
  },
  {
   "cell_type": "markdown",
   "metadata": {},
   "source": [
    "Для уравновешивания классов инициализации каждой модели укажем `class_weight='balanced'`. Модели сами посчитают, во сколько раз нулевой класс встречается чаще первого, и дадут ошибкам на меньшем классе больший вес."
   ]
  },
  {
   "cell_type": "markdown",
   "metadata": {},
   "source": [
    "#### Дерево решений"
   ]
  },
  {
   "cell_type": "markdown",
   "metadata": {},
   "source": [
    "В этом пункте мы проходим пайплайн, подробно описанный [здесь](#Дерево-решений-дисбаланс). Мы опустили комментарии в этом шаге для экономии времени."
   ]
  },
  {
   "cell_type": "code",
   "execution_count": 72,
   "metadata": {},
   "outputs": [
    {
     "data": {
      "text/plain": [
       "GridSearchCV(cv=PredefinedSplit(test_fold=array([-1, -1, ...,  0,  0])),\n",
       "             estimator=DecisionTreeClassifier(class_weight='balanced',\n",
       "                                              random_state=42),\n",
       "             param_grid={'max_depth': range(1, 26)}, refit=False, scoring='f1')"
      ]
     },
     "execution_count": 72,
     "metadata": {},
     "output_type": "execute_result"
    }
   ],
   "source": [
    "decision_tree = DecisionTreeClassifier(class_weight='balanced',\n",
    "                                       random_state=SEED)\n",
    "\n",
    "tree_params = {'max_depth': range(1, 26)}\n",
    "\n",
    "tree_gs_bal = GridSearchCV(\n",
    "    estimator=decision_tree,\n",
    "    param_grid=tree_params,\n",
    "    scoring='f1',\n",
    "    cv=pds,\n",
    "    refit=False)\n",
    "\n",
    "tree_gs_bal.fit(X_gs, y_gs)"
   ]
  },
  {
   "cell_type": "code",
   "execution_count": 73,
   "metadata": {},
   "outputs": [
    {
     "data": {
      "text/plain": [
       "{'max_depth': 6}"
      ]
     },
     "execution_count": 73,
     "metadata": {},
     "output_type": "execute_result"
    }
   ],
   "source": [
    "tree_gs_bal.best_params_"
   ]
  },
  {
   "cell_type": "code",
   "execution_count": 74,
   "metadata": {},
   "outputs": [
    {
     "data": {
      "text/plain": [
       "DecisionTreeClassifier(class_weight='balanced', max_depth=6, random_state=42)"
      ]
     },
     "execution_count": 74,
     "metadata": {},
     "output_type": "execute_result"
    }
   ],
   "source": [
    "tree_bal_best = DecisionTreeClassifier(max_depth=6,\n",
    "                                       class_weight='balanced',\n",
    "                                       random_state=SEED)\n",
    "\n",
    "tree_bal_best.fit(X_train, y_train)"
   ]
  },
  {
   "cell_type": "code",
   "execution_count": 75,
   "metadata": {},
   "outputs": [
    {
     "data": {
      "text/plain": [
       "{'F1': 0.59, 'Recall': 0.759, 'Precision': 0.482, 'ROC AUC': 0.831}"
      ]
     },
     "execution_count": 75,
     "metadata": {},
     "output_type": "execute_result"
    }
   ],
   "source": [
    "get_metrics(tree_bal_best)"
   ]
  },
  {
   "cell_type": "code",
   "execution_count": 76,
   "metadata": {},
   "outputs": [
    {
     "data": {
      "text/html": [
       "<div>\n",
       "<style scoped>\n",
       "    .dataframe tbody tr th:only-of-type {\n",
       "        vertical-align: middle;\n",
       "    }\n",
       "\n",
       "    .dataframe tbody tr th {\n",
       "        vertical-align: top;\n",
       "    }\n",
       "\n",
       "    .dataframe thead th {\n",
       "        text-align: right;\n",
       "    }\n",
       "</style>\n",
       "<table border=\"1\" class=\"dataframe\">\n",
       "  <thead>\n",
       "    <tr style=\"text-align: right;\">\n",
       "      <th></th>\n",
       "      <th>Модель</th>\n",
       "      <th>Способ борьбы с дисбалансом</th>\n",
       "      <th>F1</th>\n",
       "      <th>Recall</th>\n",
       "      <th>Precision</th>\n",
       "      <th>ROC AUC</th>\n",
       "    </tr>\n",
       "  </thead>\n",
       "  <tbody>\n",
       "    <tr>\n",
       "      <th>6</th>\n",
       "      <td>Дерево решений</td>\n",
       "      <td>Уравновешивание классов</td>\n",
       "      <td>0.59</td>\n",
       "      <td>0.759</td>\n",
       "      <td>0.482</td>\n",
       "      <td>0.831</td>\n",
       "    </tr>\n",
       "  </tbody>\n",
       "</table>\n",
       "</div>"
      ],
      "text/plain": [
       "           Модель Способ борьбы с дисбалансом    F1  Recall  Precision  \\\n",
       "6  Дерево решений     Уравновешивание классов  0.59   0.759      0.482   \n",
       "\n",
       "   ROC AUC  \n",
       "6    0.831  "
      ]
     },
     "execution_count": 76,
     "metadata": {},
     "output_type": "execute_result"
    }
   ],
   "source": [
    "research_result = research_result.append(\n",
    "    make_new_row(model='Дерево решений',\n",
    "                 method='Уравновешивание классов',\n",
    "                 metrics=get_metrics(tree_bal_best)),\n",
    "    ignore_index=True)\n",
    "\n",
    "research_result.tail(1)"
   ]
  },
  {
   "cell_type": "markdown",
   "metadata": {},
   "source": [
    "#### Случайный лес"
   ]
  },
  {
   "cell_type": "markdown",
   "metadata": {},
   "source": [
    "В этом пункте мы проходим пайплайн, подробно описанный [здесь](#Дерево-решений-дисбаланс). Мы опустили комментарии в этом шаге для экономии времени."
   ]
  },
  {
   "cell_type": "code",
   "execution_count": 77,
   "metadata": {},
   "outputs": [
    {
     "data": {
      "text/plain": [
       "GridSearchCV(cv=PredefinedSplit(test_fold=array([-1, -1, ...,  0,  0])),\n",
       "             estimator=RandomForestClassifier(class_weight='balanced',\n",
       "                                              random_state=42),\n",
       "             param_grid={'max_depth': range(2, 31, 2),\n",
       "                         'n_estimators': range(10, 101, 10)},\n",
       "             refit=False, scoring='f1')"
      ]
     },
     "execution_count": 77,
     "metadata": {},
     "output_type": "execute_result"
    }
   ],
   "source": [
    "random_forest = RandomForestClassifier(class_weight='balanced',\n",
    "                                       random_state=SEED)\n",
    "\n",
    "forest_params = {'n_estimators': range(10, 101, 10),\n",
    "                 'max_depth': range(2, 31, 2)}\n",
    "\n",
    "forest_gs_bal = GridSearchCV(\n",
    "    estimator=random_forest,\n",
    "    param_grid=forest_params,\n",
    "    scoring='f1',\n",
    "    cv=pds,\n",
    "    refit=False)\n",
    "\n",
    "forest_gs_bal.fit(X_gs, y_gs)"
   ]
  },
  {
   "cell_type": "code",
   "execution_count": 78,
   "metadata": {},
   "outputs": [
    {
     "data": {
      "text/plain": [
       "{'max_depth': 10, 'n_estimators': 80}"
      ]
     },
     "execution_count": 78,
     "metadata": {},
     "output_type": "execute_result"
    }
   ],
   "source": [
    "forest_gs_bal.best_params_"
   ]
  },
  {
   "cell_type": "code",
   "execution_count": 79,
   "metadata": {},
   "outputs": [
    {
     "data": {
      "text/plain": [
       "RandomForestClassifier(class_weight='balanced', max_depth=10, n_estimators=80,\n",
       "                       random_state=42)"
      ]
     },
     "execution_count": 79,
     "metadata": {},
     "output_type": "execute_result"
    }
   ],
   "source": [
    "forest_bal_best = RandomForestClassifier(max_depth=10,\n",
    "                                         n_estimators=80,\n",
    "                                         class_weight='balanced',\n",
    "                                         random_state=SEED)\n",
    "\n",
    "forest_bal_best.fit(X_train, y_train)"
   ]
  },
  {
   "cell_type": "code",
   "execution_count": 80,
   "metadata": {},
   "outputs": [
    {
     "data": {
      "text/plain": [
       "{'F1': 0.635, 'Recall': 0.636, 'Precision': 0.633, 'ROC AUC': 0.858}"
      ]
     },
     "execution_count": 80,
     "metadata": {},
     "output_type": "execute_result"
    }
   ],
   "source": [
    "get_metrics(forest_bal_best)"
   ]
  },
  {
   "cell_type": "code",
   "execution_count": 81,
   "metadata": {},
   "outputs": [
    {
     "data": {
      "text/html": [
       "<div>\n",
       "<style scoped>\n",
       "    .dataframe tbody tr th:only-of-type {\n",
       "        vertical-align: middle;\n",
       "    }\n",
       "\n",
       "    .dataframe tbody tr th {\n",
       "        vertical-align: top;\n",
       "    }\n",
       "\n",
       "    .dataframe thead th {\n",
       "        text-align: right;\n",
       "    }\n",
       "</style>\n",
       "<table border=\"1\" class=\"dataframe\">\n",
       "  <thead>\n",
       "    <tr style=\"text-align: right;\">\n",
       "      <th></th>\n",
       "      <th>Модель</th>\n",
       "      <th>Способ борьбы с дисбалансом</th>\n",
       "      <th>F1</th>\n",
       "      <th>Recall</th>\n",
       "      <th>Precision</th>\n",
       "      <th>ROC AUC</th>\n",
       "    </tr>\n",
       "  </thead>\n",
       "  <tbody>\n",
       "    <tr>\n",
       "      <th>7</th>\n",
       "      <td>Случайный лес</td>\n",
       "      <td>Уравновешивание классов</td>\n",
       "      <td>0.635</td>\n",
       "      <td>0.636</td>\n",
       "      <td>0.633</td>\n",
       "      <td>0.858</td>\n",
       "    </tr>\n",
       "  </tbody>\n",
       "</table>\n",
       "</div>"
      ],
      "text/plain": [
       "          Модель Способ борьбы с дисбалансом     F1  Recall  Precision  \\\n",
       "7  Случайный лес     Уравновешивание классов  0.635   0.636      0.633   \n",
       "\n",
       "   ROC AUC  \n",
       "7    0.858  "
      ]
     },
     "execution_count": 81,
     "metadata": {},
     "output_type": "execute_result"
    }
   ],
   "source": [
    "research_result = research_result.append(\n",
    "    make_new_row(model='Случайный лес',\n",
    "                 method='Уравновешивание классов',\n",
    "                 metrics=get_metrics(forest_bal_best)),\n",
    "    ignore_index=True)\n",
    "\n",
    "research_result.tail(1)"
   ]
  },
  {
   "cell_type": "markdown",
   "metadata": {},
   "source": [
    "#### Логистическая регрессия"
   ]
  },
  {
   "cell_type": "markdown",
   "metadata": {},
   "source": [
    "В этом пункте мы проходим пайплайн, подробно описанный [здесь](#Дерево-решений-дисбаланс). Мы опустили комментарии в этом шаге для экономии времени."
   ]
  },
  {
   "cell_type": "code",
   "execution_count": 82,
   "metadata": {},
   "outputs": [
    {
     "data": {
      "text/plain": [
       "GridSearchCV(cv=PredefinedSplit(test_fold=array([-1, -1, ...,  0,  0])),\n",
       "             estimator=LogisticRegression(class_weight='balanced',\n",
       "                                          random_state=42, solver='liblinear'),\n",
       "             param_grid={'penalty': ['l2', 'l1']}, refit=False, scoring='f1')"
      ]
     },
     "execution_count": 82,
     "metadata": {},
     "output_type": "execute_result"
    }
   ],
   "source": [
    "logreg = LogisticRegression(class_weight='balanced',\n",
    "                            solver='liblinear',\n",
    "                            random_state=SEED)\n",
    "\n",
    "logreg_params = {'penalty': ['l2', 'l1']}\n",
    "\n",
    "logreg_gs_bal = GridSearchCV(\n",
    "    estimator=logreg,\n",
    "    param_grid=logreg_params,\n",
    "    scoring='f1',\n",
    "    cv=pds,\n",
    "    refit=False)\n",
    "\n",
    "logreg_gs_bal.fit(X_gs, y_gs)"
   ]
  },
  {
   "cell_type": "code",
   "execution_count": 83,
   "metadata": {},
   "outputs": [
    {
     "data": {
      "text/plain": [
       "{'penalty': 'l2'}"
      ]
     },
     "execution_count": 83,
     "metadata": {},
     "output_type": "execute_result"
    }
   ],
   "source": [
    "logreg_gs_bal.best_params_"
   ]
  },
  {
   "cell_type": "code",
   "execution_count": 84,
   "metadata": {},
   "outputs": [
    {
     "data": {
      "text/plain": [
       "LogisticRegression(class_weight='balanced', random_state=42, solver='liblinear')"
      ]
     },
     "execution_count": 84,
     "metadata": {},
     "output_type": "execute_result"
    }
   ],
   "source": [
    "logreg_bal_best = LogisticRegression(penalty='l2',\n",
    "                                     class_weight='balanced',\n",
    "                                     solver='liblinear',\n",
    "                                     random_state=SEED)\n",
    "\n",
    "logreg_bal_best.fit(X_train, y_train)"
   ]
  },
  {
   "cell_type": "code",
   "execution_count": 85,
   "metadata": {},
   "outputs": [
    {
     "data": {
      "text/plain": [
       "{'F1': 0.477, 'Recall': 0.661, 'Precision': 0.374, 'ROC AUC': 0.761}"
      ]
     },
     "execution_count": 85,
     "metadata": {},
     "output_type": "execute_result"
    }
   ],
   "source": [
    "get_metrics(logreg_bal_best)"
   ]
  },
  {
   "cell_type": "code",
   "execution_count": 86,
   "metadata": {},
   "outputs": [
    {
     "data": {
      "text/html": [
       "<div>\n",
       "<style scoped>\n",
       "    .dataframe tbody tr th:only-of-type {\n",
       "        vertical-align: middle;\n",
       "    }\n",
       "\n",
       "    .dataframe tbody tr th {\n",
       "        vertical-align: top;\n",
       "    }\n",
       "\n",
       "    .dataframe thead th {\n",
       "        text-align: right;\n",
       "    }\n",
       "</style>\n",
       "<table border=\"1\" class=\"dataframe\">\n",
       "  <thead>\n",
       "    <tr style=\"text-align: right;\">\n",
       "      <th></th>\n",
       "      <th>Модель</th>\n",
       "      <th>Способ борьбы с дисбалансом</th>\n",
       "      <th>F1</th>\n",
       "      <th>Recall</th>\n",
       "      <th>Precision</th>\n",
       "      <th>ROC AUC</th>\n",
       "    </tr>\n",
       "  </thead>\n",
       "  <tbody>\n",
       "    <tr>\n",
       "      <th>8</th>\n",
       "      <td>Логистическая регрессия</td>\n",
       "      <td>Уравновешивание классов</td>\n",
       "      <td>0.477</td>\n",
       "      <td>0.661</td>\n",
       "      <td>0.374</td>\n",
       "      <td>0.761</td>\n",
       "    </tr>\n",
       "  </tbody>\n",
       "</table>\n",
       "</div>"
      ],
      "text/plain": [
       "                    Модель Способ борьбы с дисбалансом     F1  Recall  \\\n",
       "8  Логистическая регрессия     Уравновешивание классов  0.477   0.661   \n",
       "\n",
       "   Precision  ROC AUC  \n",
       "8      0.374    0.761  "
      ]
     },
     "execution_count": 86,
     "metadata": {},
     "output_type": "execute_result"
    }
   ],
   "source": [
    "research_result = research_result.append(\n",
    "    make_new_row(model='Логистическая регрессия',\n",
    "                 method='Уравновешивание классов',\n",
    "                 metrics=get_metrics(logreg_bal_best)),\n",
    "    ignore_index=True)\n",
    "\n",
    "research_result.tail(1)"
   ]
  },
  {
   "cell_type": "markdown",
   "metadata": {},
   "source": [
    "#### Сравнение с моделями, обученными на несбалансированных данных"
   ]
  },
  {
   "cell_type": "code",
   "execution_count": 87,
   "metadata": {},
   "outputs": [
    {
     "data": {
      "text/html": [
       "<style type=\"text/css\">\n",
       "#T_42968_row0_col0, #T_42968_row0_col1, #T_42968_row0_col2, #T_42968_row0_col3, #T_42968_row0_col4, #T_42968_row0_col5, #T_42968_row1_col0, #T_42968_row1_col1, #T_42968_row1_col2, #T_42968_row1_col3, #T_42968_row1_col4, #T_42968_row1_col5, #T_42968_row2_col0, #T_42968_row2_col1, #T_42968_row2_col2, #T_42968_row2_col3, #T_42968_row2_col4, #T_42968_row2_col5 {\n",
       "  background-color: lightyellow;\n",
       "}\n",
       "#T_42968_row3_col0, #T_42968_row3_col1, #T_42968_row3_col2, #T_42968_row3_col3, #T_42968_row3_col4, #T_42968_row3_col5, #T_42968_row4_col0, #T_42968_row4_col1, #T_42968_row4_col2, #T_42968_row4_col3, #T_42968_row4_col4, #T_42968_row4_col5, #T_42968_row5_col0, #T_42968_row5_col1, #T_42968_row5_col2, #T_42968_row5_col3, #T_42968_row5_col4, #T_42968_row5_col5 {\n",
       "  background-color: white;\n",
       "}\n",
       "#T_42968_row6_col0, #T_42968_row6_col1, #T_42968_row6_col2, #T_42968_row6_col3, #T_42968_row6_col4, #T_42968_row6_col5, #T_42968_row7_col0, #T_42968_row7_col1, #T_42968_row7_col2, #T_42968_row7_col3, #T_42968_row7_col4, #T_42968_row7_col5, #T_42968_row8_col0, #T_42968_row8_col1, #T_42968_row8_col2, #T_42968_row8_col3, #T_42968_row8_col4, #T_42968_row8_col5 {\n",
       "  background-color: lightgreen;\n",
       "}\n",
       "</style>\n",
       "<table id=\"T_42968_\">\n",
       "  <thead>\n",
       "    <tr>\n",
       "      <th class=\"blank level0\" >&nbsp;</th>\n",
       "      <th class=\"col_heading level0 col0\" >Модель</th>\n",
       "      <th class=\"col_heading level0 col1\" >Способ борьбы с дисбалансом</th>\n",
       "      <th class=\"col_heading level0 col2\" >F1</th>\n",
       "      <th class=\"col_heading level0 col3\" >Recall</th>\n",
       "      <th class=\"col_heading level0 col4\" >Precision</th>\n",
       "      <th class=\"col_heading level0 col5\" >ROC AUC</th>\n",
       "    </tr>\n",
       "  </thead>\n",
       "  <tbody>\n",
       "    <tr>\n",
       "      <th id=\"T_42968_level0_row0\" class=\"row_heading level0 row0\" >0</th>\n",
       "      <td id=\"T_42968_row0_col0\" class=\"data row0 col0\" >Дерево решений</td>\n",
       "      <td id=\"T_42968_row0_col1\" class=\"data row0 col1\" >Нет (данные несбалансированы)</td>\n",
       "      <td id=\"T_42968_row0_col2\" class=\"data row0 col2\" >0.565000</td>\n",
       "      <td id=\"T_42968_row0_col3\" class=\"data row0 col3\" >0.450000</td>\n",
       "      <td id=\"T_42968_row0_col4\" class=\"data row0 col4\" >0.759000</td>\n",
       "      <td id=\"T_42968_row0_col5\" class=\"data row0 col5\" >0.835000</td>\n",
       "    </tr>\n",
       "    <tr>\n",
       "      <th id=\"T_42968_level0_row1\" class=\"row_heading level0 row1\" >1</th>\n",
       "      <td id=\"T_42968_row1_col0\" class=\"data row1 col0\" >Случайный лес</td>\n",
       "      <td id=\"T_42968_row1_col1\" class=\"data row1 col1\" >Нет (данные несбалансированы)</td>\n",
       "      <td id=\"T_42968_row1_col2\" class=\"data row1 col2\" >0.579000</td>\n",
       "      <td id=\"T_42968_row1_col3\" class=\"data row1 col3\" >0.459000</td>\n",
       "      <td id=\"T_42968_row1_col4\" class=\"data row1 col4\" >0.782000</td>\n",
       "      <td id=\"T_42968_row1_col5\" class=\"data row1 col5\" >0.853000</td>\n",
       "    </tr>\n",
       "    <tr>\n",
       "      <th id=\"T_42968_level0_row2\" class=\"row_heading level0 row2\" >2</th>\n",
       "      <td id=\"T_42968_row2_col0\" class=\"data row2 col0\" >Логистическая регрессия</td>\n",
       "      <td id=\"T_42968_row2_col1\" class=\"data row2 col1\" >Нет (данные несбалансированы)</td>\n",
       "      <td id=\"T_42968_row2_col2\" class=\"data row2 col2\" >0.316000</td>\n",
       "      <td id=\"T_42968_row2_col3\" class=\"data row2 col3\" >0.216000</td>\n",
       "      <td id=\"T_42968_row2_col4\" class=\"data row2 col4\" >0.587000</td>\n",
       "      <td id=\"T_42968_row2_col5\" class=\"data row2 col5\" >0.756000</td>\n",
       "    </tr>\n",
       "    <tr>\n",
       "      <th id=\"T_42968_level0_row3\" class=\"row_heading level0 row3\" >3</th>\n",
       "      <td id=\"T_42968_row3_col0\" class=\"data row3 col0\" >Дерево решений</td>\n",
       "      <td id=\"T_42968_row3_col1\" class=\"data row3 col1\" >Upsampling</td>\n",
       "      <td id=\"T_42968_row3_col2\" class=\"data row3 col2\" >0.597000</td>\n",
       "      <td id=\"T_42968_row3_col3\" class=\"data row3 col3\" >0.671000</td>\n",
       "      <td id=\"T_42968_row3_col4\" class=\"data row3 col4\" >0.538000</td>\n",
       "      <td id=\"T_42968_row3_col5\" class=\"data row3 col5\" >0.827000</td>\n",
       "    </tr>\n",
       "    <tr>\n",
       "      <th id=\"T_42968_level0_row4\" class=\"row_heading level0 row4\" >4</th>\n",
       "      <td id=\"T_42968_row4_col0\" class=\"data row4 col0\" >Случайный лес</td>\n",
       "      <td id=\"T_42968_row4_col1\" class=\"data row4 col1\" >Upsampling</td>\n",
       "      <td id=\"T_42968_row4_col2\" class=\"data row4 col2\" >0.645000</td>\n",
       "      <td id=\"T_42968_row4_col3\" class=\"data row4 col3\" >0.634000</td>\n",
       "      <td id=\"T_42968_row4_col4\" class=\"data row4 col4\" >0.656000</td>\n",
       "      <td id=\"T_42968_row4_col5\" class=\"data row4 col5\" >0.857000</td>\n",
       "    </tr>\n",
       "    <tr>\n",
       "      <th id=\"T_42968_level0_row5\" class=\"row_heading level0 row5\" >5</th>\n",
       "      <td id=\"T_42968_row5_col0\" class=\"data row5 col0\" >Логистическая регрессия</td>\n",
       "      <td id=\"T_42968_row5_col1\" class=\"data row5 col1\" >Upsampling</td>\n",
       "      <td id=\"T_42968_row5_col2\" class=\"data row5 col2\" >0.481000</td>\n",
       "      <td id=\"T_42968_row5_col3\" class=\"data row5 col3\" >0.565000</td>\n",
       "      <td id=\"T_42968_row5_col4\" class=\"data row5 col4\" >0.419000</td>\n",
       "      <td id=\"T_42968_row5_col5\" class=\"data row5 col5\" >0.760000</td>\n",
       "    </tr>\n",
       "    <tr>\n",
       "      <th id=\"T_42968_level0_row6\" class=\"row_heading level0 row6\" >6</th>\n",
       "      <td id=\"T_42968_row6_col0\" class=\"data row6 col0\" >Дерево решений</td>\n",
       "      <td id=\"T_42968_row6_col1\" class=\"data row6 col1\" >Уравновешивание классов</td>\n",
       "      <td id=\"T_42968_row6_col2\" class=\"data row6 col2\" >0.590000</td>\n",
       "      <td id=\"T_42968_row6_col3\" class=\"data row6 col3\" >0.759000</td>\n",
       "      <td id=\"T_42968_row6_col4\" class=\"data row6 col4\" >0.482000</td>\n",
       "      <td id=\"T_42968_row6_col5\" class=\"data row6 col5\" >0.831000</td>\n",
       "    </tr>\n",
       "    <tr>\n",
       "      <th id=\"T_42968_level0_row7\" class=\"row_heading level0 row7\" >7</th>\n",
       "      <td id=\"T_42968_row7_col0\" class=\"data row7 col0\" >Случайный лес</td>\n",
       "      <td id=\"T_42968_row7_col1\" class=\"data row7 col1\" >Уравновешивание классов</td>\n",
       "      <td id=\"T_42968_row7_col2\" class=\"data row7 col2\" >0.635000</td>\n",
       "      <td id=\"T_42968_row7_col3\" class=\"data row7 col3\" >0.636000</td>\n",
       "      <td id=\"T_42968_row7_col4\" class=\"data row7 col4\" >0.633000</td>\n",
       "      <td id=\"T_42968_row7_col5\" class=\"data row7 col5\" >0.858000</td>\n",
       "    </tr>\n",
       "    <tr>\n",
       "      <th id=\"T_42968_level0_row8\" class=\"row_heading level0 row8\" >8</th>\n",
       "      <td id=\"T_42968_row8_col0\" class=\"data row8 col0\" >Логистическая регрессия</td>\n",
       "      <td id=\"T_42968_row8_col1\" class=\"data row8 col1\" >Уравновешивание классов</td>\n",
       "      <td id=\"T_42968_row8_col2\" class=\"data row8 col2\" >0.477000</td>\n",
       "      <td id=\"T_42968_row8_col3\" class=\"data row8 col3\" >0.661000</td>\n",
       "      <td id=\"T_42968_row8_col4\" class=\"data row8 col4\" >0.374000</td>\n",
       "      <td id=\"T_42968_row8_col5\" class=\"data row8 col5\" >0.761000</td>\n",
       "    </tr>\n",
       "  </tbody>\n",
       "</table>\n"
      ],
      "text/plain": [
       "<pandas.io.formats.style.Styler at 0x7fb67fee9ca0>"
      ]
     },
     "execution_count": 87,
     "metadata": {},
     "output_type": "execute_result"
    }
   ],
   "source": [
    "research_result.style.apply(highlight_exp, exp='Уравновешивание классов', axis=1)"
   ]
  },
  {
   "cell_type": "markdown",
   "metadata": {},
   "source": [
    "Уравновешивание классов так же, как и Upsampling, неплохо улучшило метрики моделей. Наибольший относительный прирост снова у логистической регрессии. По F1-мере опять лидируют случайный лес.\n",
    "\n",
    "Интересно, что у дерева решений уравновешивание классов практически поменяло местами precision и recall. Дерево стало хорошо находить уходящих клиентов, но при этом увеличилось количество ложных срабатываний, когда клиент не собиравшийся уходить попал в отток."
   ]
  },
  {
   "cell_type": "code",
   "execution_count": 88,
   "metadata": {},
   "outputs": [
    {
     "data": {
      "image/png": "[encoded data removed]",
      "text/plain": [
       "<Figure size 648x432 with 1 Axes>"
      ]
     },
     "execution_count": 88,
     "metadata": {},
     "output_type": "execute_result"
    }
   ],
   "source": [
    "compare_roc_curves([tree_bal_best, forest_bal_best, logreg_bal_best],\n",
    "                   'Кривые ошибок для моделей, обученных c уравновешиванием классов')"
   ]
  },
  {
   "cell_type": "markdown",
   "metadata": {},
   "source": [
    "[К содержанию](#Содержание)"
   ]
  },
  {
   "cell_type": "markdown",
   "metadata": {},
   "source": [
    "### Изменение порога классификации<a name=\"Изменение-порога-классификации\"></a>"
   ]
  },
  {
   "cell_type": "markdown",
   "metadata": {},
   "source": [
    "Модели умеют определять, насколько вероятен тот или иной класс, и на основе этой вероятности причислять объекты к ним. Когда класса всего два, появляется граница, где заканчивается первый класс и начинается второй. Она называется порогом. Изменяя порог, мы можем влиять на F1-меру.\n",
    "\n",
    "Создадим функцию, которая будет принимать модель и данные для ее валидации, а возвращать таблицу с порогами, F1-мерами, полнотами и точностями. Для этого внутри функции объявим цикл, перебирающий попроги."
   ]
  },
  {
   "cell_type": "code",
   "execution_count": 89,
   "metadata": {},
   "outputs": [],
   "source": [
    "def threshold_table(model, suffix='', X=X_val, y=y_val):\n",
    "    \"\"\"\n",
    "    Функция для расчета метрик качества бинарной классификации\n",
    "    при разных порогах отнесения к первому классу.\n",
    "    \"\"\"\n",
    "    probs = model.predict_proba(X)\n",
    "    probs_one = probs[:, 1]\n",
    "    result = pd.DataFrame(\n",
    "        columns=['Порог', 'F1'+suffix, 'Recall'+suffix, 'Precision'+suffix])\n",
    "    \n",
    "    for threshold in np.arange(0, 1, 0.05):\n",
    "        preds = probs_one > threshold\n",
    "        \n",
    "        f1 = round(f1_score(y_val, preds), 3)\n",
    "        recall = round(recall_score(y_val, preds), 3)\n",
    "        precision = round(precision_score(y_val, preds), 3)\n",
    "        \n",
    "        row = pd.DataFrame(\n",
    "            columns = ['Порог', 'F1'+suffix, 'Recall'+suffix, 'Precision'+suffix],\n",
    "            data = [[threshold, f1, recall, precision]])\n",
    "        \n",
    "        result = result.append(row, ignore_index=True)\n",
    "    \n",
    "    return result"
   ]
  },
  {
   "cell_type": "markdown",
   "metadata": {},
   "source": [
    "#### Дерево решений"
   ]
  },
  {
   "cell_type": "markdown",
   "metadata": {},
   "source": [
    "В этом разделе мы не будем переобучать модели, а построим таблицы с метриками классификации для разных порогов.\n",
    "\n",
    "В таблицу с результатами эксперимента запишем лучшую F1-меру и соответствующие ей остальные метрики."
   ]
  },
  {
   "cell_type": "code",
   "execution_count": 90,
   "metadata": {},
   "outputs": [
    {
     "data": {
      "text/html": [
       "<div>\n",
       "<style scoped>\n",
       "    .dataframe tbody tr th:only-of-type {\n",
       "        vertical-align: middle;\n",
       "    }\n",
       "\n",
       "    .dataframe tbody tr th {\n",
       "        vertical-align: top;\n",
       "    }\n",
       "\n",
       "    .dataframe thead th {\n",
       "        text-align: right;\n",
       "    }\n",
       "</style>\n",
       "<table border=\"1\" class=\"dataframe\">\n",
       "  <thead>\n",
       "    <tr style=\"text-align: right;\">\n",
       "      <th></th>\n",
       "      <th>Порог</th>\n",
       "      <th>F1_Tree</th>\n",
       "      <th>Recall_Tree</th>\n",
       "      <th>Precision_Tree</th>\n",
       "    </tr>\n",
       "  </thead>\n",
       "  <tbody>\n",
       "    <tr>\n",
       "      <th>5</th>\n",
       "      <td>0.25</td>\n",
       "      <td>0.599</td>\n",
       "      <td>0.673</td>\n",
       "      <td>0.539</td>\n",
       "    </tr>\n",
       "    <tr>\n",
       "      <th>9</th>\n",
       "      <td>0.45</td>\n",
       "      <td>0.589</td>\n",
       "      <td>0.494</td>\n",
       "      <td>0.731</td>\n",
       "    </tr>\n",
       "    <tr>\n",
       "      <th>8</th>\n",
       "      <td>0.40</td>\n",
       "      <td>0.589</td>\n",
       "      <td>0.494</td>\n",
       "      <td>0.731</td>\n",
       "    </tr>\n",
       "    <tr>\n",
       "      <th>4</th>\n",
       "      <td>0.20</td>\n",
       "      <td>0.578</td>\n",
       "      <td>0.740</td>\n",
       "      <td>0.474</td>\n",
       "    </tr>\n",
       "    <tr>\n",
       "      <th>6</th>\n",
       "      <td>0.30</td>\n",
       "      <td>0.576</td>\n",
       "      <td>0.590</td>\n",
       "      <td>0.562</td>\n",
       "    </tr>\n",
       "  </tbody>\n",
       "</table>\n",
       "</div>"
      ],
      "text/plain": [
       "   Порог  F1_Tree  Recall_Tree  Precision_Tree\n",
       "5   0.25    0.599        0.673           0.539\n",
       "9   0.45    0.589        0.494           0.731\n",
       "8   0.40    0.589        0.494           0.731\n",
       "4   0.20    0.578        0.740           0.474\n",
       "6   0.30    0.576        0.590           0.562"
      ]
     },
     "execution_count": 90,
     "metadata": {},
     "output_type": "execute_result"
    }
   ],
   "source": [
    "tree_thresholds = threshold_table(tree_unbal_best, '_Tree')\n",
    "tree_thresholds.sort_values('F1_Tree', ascending=False).head()"
   ]
  },
  {
   "cell_type": "code",
   "execution_count": 91,
   "metadata": {},
   "outputs": [
    {
     "data": {
      "text/html": [
       "<div>\n",
       "<style scoped>\n",
       "    .dataframe tbody tr th:only-of-type {\n",
       "        vertical-align: middle;\n",
       "    }\n",
       "\n",
       "    .dataframe tbody tr th {\n",
       "        vertical-align: top;\n",
       "    }\n",
       "\n",
       "    .dataframe thead th {\n",
       "        text-align: right;\n",
       "    }\n",
       "</style>\n",
       "<table border=\"1\" class=\"dataframe\">\n",
       "  <thead>\n",
       "    <tr style=\"text-align: right;\">\n",
       "      <th></th>\n",
       "      <th>Модель</th>\n",
       "      <th>Способ борьбы с дисбалансом</th>\n",
       "      <th>F1</th>\n",
       "      <th>Recall</th>\n",
       "      <th>Precision</th>\n",
       "      <th>ROC AUC</th>\n",
       "    </tr>\n",
       "  </thead>\n",
       "  <tbody>\n",
       "    <tr>\n",
       "      <th>9</th>\n",
       "      <td>Дерево решений</td>\n",
       "      <td>Измениние порога классификации</td>\n",
       "      <td>0.599</td>\n",
       "      <td>0.673</td>\n",
       "      <td>0.539</td>\n",
       "      <td>NaN</td>\n",
       "    </tr>\n",
       "  </tbody>\n",
       "</table>\n",
       "</div>"
      ],
      "text/plain": [
       "           Модель     Способ борьбы с дисбалансом     F1  Recall  Precision  \\\n",
       "9  Дерево решений  Измениние порога классификации  0.599   0.673      0.539   \n",
       "\n",
       "   ROC AUC  \n",
       "9      NaN  "
      ]
     },
     "execution_count": 91,
     "metadata": {},
     "output_type": "execute_result"
    }
   ],
   "source": [
    "research_result = research_result.append(\n",
    "    make_new_row(model='Дерево решений',\n",
    "                 method='Измениние порога классификации',\n",
    "                 metrics={\n",
    "                     'F1': 0.599,\n",
    "                     'Recall': 0.673,\n",
    "                     'Precision': 0.539,\n",
    "                     'ROC AUC': np.nan}),\n",
    "    ignore_index=True)\n",
    "\n",
    "research_result.tail(1)"
   ]
  },
  {
   "cell_type": "markdown",
   "metadata": {},
   "source": [
    "#### Случайный лес"
   ]
  },
  {
   "cell_type": "code",
   "execution_count": 92,
   "metadata": {},
   "outputs": [
    {
     "data": {
      "text/html": [
       "<div>\n",
       "<style scoped>\n",
       "    .dataframe tbody tr th:only-of-type {\n",
       "        vertical-align: middle;\n",
       "    }\n",
       "\n",
       "    .dataframe tbody tr th {\n",
       "        vertical-align: top;\n",
       "    }\n",
       "\n",
       "    .dataframe thead th {\n",
       "        text-align: right;\n",
       "    }\n",
       "</style>\n",
       "<table border=\"1\" class=\"dataframe\">\n",
       "  <thead>\n",
       "    <tr style=\"text-align: right;\">\n",
       "      <th></th>\n",
       "      <th>Порог</th>\n",
       "      <th>F1_Forest</th>\n",
       "      <th>Recall_Forest</th>\n",
       "      <th>Precision_Forest</th>\n",
       "    </tr>\n",
       "  </thead>\n",
       "  <tbody>\n",
       "    <tr>\n",
       "      <th>8</th>\n",
       "      <td>0.40</td>\n",
       "      <td>0.630</td>\n",
       "      <td>0.575</td>\n",
       "      <td>0.696</td>\n",
       "    </tr>\n",
       "    <tr>\n",
       "      <th>7</th>\n",
       "      <td>0.35</td>\n",
       "      <td>0.620</td>\n",
       "      <td>0.614</td>\n",
       "      <td>0.625</td>\n",
       "    </tr>\n",
       "    <tr>\n",
       "      <th>6</th>\n",
       "      <td>0.30</td>\n",
       "      <td>0.610</td>\n",
       "      <td>0.668</td>\n",
       "      <td>0.561</td>\n",
       "    </tr>\n",
       "    <tr>\n",
       "      <th>9</th>\n",
       "      <td>0.45</td>\n",
       "      <td>0.608</td>\n",
       "      <td>0.516</td>\n",
       "      <td>0.739</td>\n",
       "    </tr>\n",
       "    <tr>\n",
       "      <th>5</th>\n",
       "      <td>0.25</td>\n",
       "      <td>0.596</td>\n",
       "      <td>0.720</td>\n",
       "      <td>0.508</td>\n",
       "    </tr>\n",
       "  </tbody>\n",
       "</table>\n",
       "</div>"
      ],
      "text/plain": [
       "   Порог  F1_Forest  Recall_Forest  Precision_Forest\n",
       "8   0.40      0.630          0.575             0.696\n",
       "7   0.35      0.620          0.614             0.625\n",
       "6   0.30      0.610          0.668             0.561\n",
       "9   0.45      0.608          0.516             0.739\n",
       "5   0.25      0.596          0.720             0.508"
      ]
     },
     "execution_count": 92,
     "metadata": {},
     "output_type": "execute_result"
    }
   ],
   "source": [
    "forest_thresholds = threshold_table(forest_unbal_best, '_Forest')\n",
    "forest_thresholds.sort_values('F1_Forest', ascending=False).head()"
   ]
  },
  {
   "cell_type": "code",
   "execution_count": 93,
   "metadata": {},
   "outputs": [
    {
     "data": {
      "text/html": [
       "<div>\n",
       "<style scoped>\n",
       "    .dataframe tbody tr th:only-of-type {\n",
       "        vertical-align: middle;\n",
       "    }\n",
       "\n",
       "    .dataframe tbody tr th {\n",
       "        vertical-align: top;\n",
       "    }\n",
       "\n",
       "    .dataframe thead th {\n",
       "        text-align: right;\n",
       "    }\n",
       "</style>\n",
       "<table border=\"1\" class=\"dataframe\">\n",
       "  <thead>\n",
       "    <tr style=\"text-align: right;\">\n",
       "      <th></th>\n",
       "      <th>Модель</th>\n",
       "      <th>Способ борьбы с дисбалансом</th>\n",
       "      <th>F1</th>\n",
       "      <th>Recall</th>\n",
       "      <th>Precision</th>\n",
       "      <th>ROC AUC</th>\n",
       "    </tr>\n",
       "  </thead>\n",
       "  <tbody>\n",
       "    <tr>\n",
       "      <th>10</th>\n",
       "      <td>Случайный лес</td>\n",
       "      <td>Измениние порога классификации</td>\n",
       "      <td>0.63</td>\n",
       "      <td>0.575</td>\n",
       "      <td>0.696</td>\n",
       "      <td>NaN</td>\n",
       "    </tr>\n",
       "  </tbody>\n",
       "</table>\n",
       "</div>"
      ],
      "text/plain": [
       "           Модель     Способ борьбы с дисбалансом    F1  Recall  Precision  \\\n",
       "10  Случайный лес  Измениние порога классификации  0.63   0.575      0.696   \n",
       "\n",
       "    ROC AUC  \n",
       "10      NaN  "
      ]
     },
     "execution_count": 93,
     "metadata": {},
     "output_type": "execute_result"
    }
   ],
   "source": [
    "research_result = research_result.append(\n",
    "    make_new_row(model='Случайный лес',\n",
    "                 method='Измениние порога классификации',\n",
    "                 metrics={\n",
    "                     'F1': 0.630,\n",
    "                     'Recall': 0.575,\n",
    "                     'Precision': 0.696,\n",
    "                     'ROC AUC': np.nan}),\n",
    "    ignore_index=True)\n",
    "\n",
    "research_result.tail(1)"
   ]
  },
  {
   "cell_type": "markdown",
   "metadata": {},
   "source": [
    "#### Логистическая регрессия"
   ]
  },
  {
   "cell_type": "code",
   "execution_count": 94,
   "metadata": {},
   "outputs": [
    {
     "name": "stderr",
     "output_type": "stream",
     "text": [
      "/Users/alexandersaushev/opt/anaconda3/lib/python3.9/site-packages/sklearn/metrics/_classification.py:1248: UndefinedMetricWarning: Precision is ill-defined and being set to 0.0 due to no predicted samples. Use `zero_division` parameter to control this behavior.\n",
      "  _warn_prf(average, modifier, msg_start, len(result))\n"
     ]
    },
    {
     "data": {
      "text/html": [
       "<div>\n",
       "<style scoped>\n",
       "    .dataframe tbody tr th:only-of-type {\n",
       "        vertical-align: middle;\n",
       "    }\n",
       "\n",
       "    .dataframe tbody tr th {\n",
       "        vertical-align: top;\n",
       "    }\n",
       "\n",
       "    .dataframe thead th {\n",
       "        text-align: right;\n",
       "    }\n",
       "</style>\n",
       "<table border=\"1\" class=\"dataframe\">\n",
       "  <thead>\n",
       "    <tr style=\"text-align: right;\">\n",
       "      <th></th>\n",
       "      <th>Порог</th>\n",
       "      <th>F1_LogReg</th>\n",
       "      <th>Recall_LogReg</th>\n",
       "      <th>Precision_LogReg</th>\n",
       "    </tr>\n",
       "  </thead>\n",
       "  <tbody>\n",
       "    <tr>\n",
       "      <th>4</th>\n",
       "      <td>0.20</td>\n",
       "      <td>0.484</td>\n",
       "      <td>0.690</td>\n",
       "      <td>0.372</td>\n",
       "    </tr>\n",
       "    <tr>\n",
       "      <th>5</th>\n",
       "      <td>0.25</td>\n",
       "      <td>0.480</td>\n",
       "      <td>0.570</td>\n",
       "      <td>0.414</td>\n",
       "    </tr>\n",
       "    <tr>\n",
       "      <th>6</th>\n",
       "      <td>0.30</td>\n",
       "      <td>0.475</td>\n",
       "      <td>0.477</td>\n",
       "      <td>0.473</td>\n",
       "    </tr>\n",
       "    <tr>\n",
       "      <th>7</th>\n",
       "      <td>0.35</td>\n",
       "      <td>0.467</td>\n",
       "      <td>0.425</td>\n",
       "      <td>0.518</td>\n",
       "    </tr>\n",
       "    <tr>\n",
       "      <th>3</th>\n",
       "      <td>0.15</td>\n",
       "      <td>0.446</td>\n",
       "      <td>0.776</td>\n",
       "      <td>0.313</td>\n",
       "    </tr>\n",
       "  </tbody>\n",
       "</table>\n",
       "</div>"
      ],
      "text/plain": [
       "   Порог  F1_LogReg  Recall_LogReg  Precision_LogReg\n",
       "4   0.20      0.484          0.690             0.372\n",
       "5   0.25      0.480          0.570             0.414\n",
       "6   0.30      0.475          0.477             0.473\n",
       "7   0.35      0.467          0.425             0.518\n",
       "3   0.15      0.446          0.776             0.313"
      ]
     },
     "execution_count": 94,
     "metadata": {},
     "output_type": "execute_result"
    }
   ],
   "source": [
    "logreg_thresholds = threshold_table(logreg_unbal_best, '_LogReg')\n",
    "logreg_thresholds.sort_values('F1_LogReg', ascending=False).head()"
   ]
  },
  {
   "cell_type": "code",
   "execution_count": 95,
   "metadata": {},
   "outputs": [
    {
     "data": {
      "text/html": [
       "<div>\n",
       "<style scoped>\n",
       "    .dataframe tbody tr th:only-of-type {\n",
       "        vertical-align: middle;\n",
       "    }\n",
       "\n",
       "    .dataframe tbody tr th {\n",
       "        vertical-align: top;\n",
       "    }\n",
       "\n",
       "    .dataframe thead th {\n",
       "        text-align: right;\n",
       "    }\n",
       "</style>\n",
       "<table border=\"1\" class=\"dataframe\">\n",
       "  <thead>\n",
       "    <tr style=\"text-align: right;\">\n",
       "      <th></th>\n",
       "      <th>Модель</th>\n",
       "      <th>Способ борьбы с дисбалансом</th>\n",
       "      <th>F1</th>\n",
       "      <th>Recall</th>\n",
       "      <th>Precision</th>\n",
       "      <th>ROC AUC</th>\n",
       "    </tr>\n",
       "  </thead>\n",
       "  <tbody>\n",
       "    <tr>\n",
       "      <th>11</th>\n",
       "      <td>Логистическая регрессия</td>\n",
       "      <td>Измениние порога классификации</td>\n",
       "      <td>0.484</td>\n",
       "      <td>0.69</td>\n",
       "      <td>0.372</td>\n",
       "      <td>NaN</td>\n",
       "    </tr>\n",
       "  </tbody>\n",
       "</table>\n",
       "</div>"
      ],
      "text/plain": [
       "                     Модель     Способ борьбы с дисбалансом     F1  Recall  \\\n",
       "11  Логистическая регрессия  Измениние порога классификации  0.484    0.69   \n",
       "\n",
       "    Precision  ROC AUC  \n",
       "11      0.372      NaN  "
      ]
     },
     "execution_count": 95,
     "metadata": {},
     "output_type": "execute_result"
    }
   ],
   "source": [
    "research_result = research_result.append(\n",
    "    make_new_row(model='Логистическая регрессия',\n",
    "                 method='Измениние порога классификации',\n",
    "                 metrics={\n",
    "                     'F1': 0.484,\n",
    "                     'Recall': 0.690,\n",
    "                     'Precision': 0.372,\n",
    "                     'ROC AUC': np.nan}),\n",
    "    ignore_index=True)\n",
    "\n",
    "research_result.tail(1)"
   ]
  },
  {
   "cell_type": "markdown",
   "metadata": {},
   "source": [
    "#### Сравнение моделей с разными порогами"
   ]
  },
  {
   "cell_type": "markdown",
   "metadata": {},
   "source": [
    "Объединим таблицы порогов для разных моделей в одну и выделим для каждой лучшую F1-меру."
   ]
  },
  {
   "cell_type": "code",
   "execution_count": 96,
   "metadata": {},
   "outputs": [
    {
     "data": {
      "text/html": [
       "<style type=\"text/css\">\n",
       "#T_5d476_row4_col7, #T_5d476_row5_col1, #T_5d476_row8_col4 {\n",
       "  background-color: yellow;\n",
       "}\n",
       "</style>\n",
       "<table id=\"T_5d476_\">\n",
       "  <thead>\n",
       "    <tr>\n",
       "      <th class=\"blank level0\" >&nbsp;</th>\n",
       "      <th class=\"col_heading level0 col0\" >Порог</th>\n",
       "      <th class=\"col_heading level0 col1\" >F1_Tree</th>\n",
       "      <th class=\"col_heading level0 col2\" >Recall_Tree</th>\n",
       "      <th class=\"col_heading level0 col3\" >Precision_Tree</th>\n",
       "      <th class=\"col_heading level0 col4\" >F1_Forest</th>\n",
       "      <th class=\"col_heading level0 col5\" >Recall_Forest</th>\n",
       "      <th class=\"col_heading level0 col6\" >Precision_Forest</th>\n",
       "      <th class=\"col_heading level0 col7\" >F1_LogReg</th>\n",
       "      <th class=\"col_heading level0 col8\" >Recall_LogReg</th>\n",
       "      <th class=\"col_heading level0 col9\" >Precision_LogReg</th>\n",
       "    </tr>\n",
       "  </thead>\n",
       "  <tbody>\n",
       "    <tr>\n",
       "      <th id=\"T_5d476_level0_row0\" class=\"row_heading level0 row0\" >0</th>\n",
       "      <td id=\"T_5d476_row0_col0\" class=\"data row0 col0\" >0.000000</td>\n",
       "      <td id=\"T_5d476_row0_col1\" class=\"data row0 col1\" >0.336000</td>\n",
       "      <td id=\"T_5d476_row0_col2\" class=\"data row0 col2\" >0.980000</td>\n",
       "      <td id=\"T_5d476_row0_col3\" class=\"data row0 col3\" >0.202000</td>\n",
       "      <td id=\"T_5d476_row0_col4\" class=\"data row0 col4\" >0.345000</td>\n",
       "      <td id=\"T_5d476_row0_col5\" class=\"data row0 col5\" >0.998000</td>\n",
       "      <td id=\"T_5d476_row0_col6\" class=\"data row0 col6\" >0.208000</td>\n",
       "      <td id=\"T_5d476_row0_col7\" class=\"data row0 col7\" >0.338000</td>\n",
       "      <td id=\"T_5d476_row0_col8\" class=\"data row0 col8\" >1.000000</td>\n",
       "      <td id=\"T_5d476_row0_col9\" class=\"data row0 col9\" >0.204000</td>\n",
       "    </tr>\n",
       "    <tr>\n",
       "      <th id=\"T_5d476_level0_row1\" class=\"row_heading level0 row1\" >1</th>\n",
       "      <td id=\"T_5d476_row1_col0\" class=\"data row1 col0\" >0.050000</td>\n",
       "      <td id=\"T_5d476_row1_col1\" class=\"data row1 col1\" >0.402000</td>\n",
       "      <td id=\"T_5d476_row1_col2\" class=\"data row1 col2\" >0.948000</td>\n",
       "      <td id=\"T_5d476_row1_col3\" class=\"data row1 col3\" >0.255000</td>\n",
       "      <td id=\"T_5d476_row1_col4\" class=\"data row1 col4\" >0.426000</td>\n",
       "      <td id=\"T_5d476_row1_col5\" class=\"data row1 col5\" >0.975000</td>\n",
       "      <td id=\"T_5d476_row1_col6\" class=\"data row1 col6\" >0.272000</td>\n",
       "      <td id=\"T_5d476_row1_col7\" class=\"data row1 col7\" >0.360000</td>\n",
       "      <td id=\"T_5d476_row1_col8\" class=\"data row1 col8\" >0.973000</td>\n",
       "      <td id=\"T_5d476_row1_col9\" class=\"data row1 col9\" >0.221000</td>\n",
       "    </tr>\n",
       "    <tr>\n",
       "      <th id=\"T_5d476_level0_row2\" class=\"row_heading level0 row2\" >2</th>\n",
       "      <td id=\"T_5d476_row2_col0\" class=\"data row2 col0\" >0.100000</td>\n",
       "      <td id=\"T_5d476_row2_col1\" class=\"data row2 col1\" >0.555000</td>\n",
       "      <td id=\"T_5d476_row2_col2\" class=\"data row2 col2\" >0.826000</td>\n",
       "      <td id=\"T_5d476_row2_col3\" class=\"data row2 col3\" >0.418000</td>\n",
       "      <td id=\"T_5d476_row2_col4\" class=\"data row2 col4\" >0.489000</td>\n",
       "      <td id=\"T_5d476_row2_col5\" class=\"data row2 col5\" >0.902000</td>\n",
       "      <td id=\"T_5d476_row2_col6\" class=\"data row2 col6\" >0.335000</td>\n",
       "      <td id=\"T_5d476_row2_col7\" class=\"data row2 col7\" >0.412000</td>\n",
       "      <td id=\"T_5d476_row2_col8\" class=\"data row2 col8\" >0.894000</td>\n",
       "      <td id=\"T_5d476_row2_col9\" class=\"data row2 col9\" >0.268000</td>\n",
       "    </tr>\n",
       "    <tr>\n",
       "      <th id=\"T_5d476_level0_row3\" class=\"row_heading level0 row3\" >3</th>\n",
       "      <td id=\"T_5d476_row3_col0\" class=\"data row3 col0\" >0.150000</td>\n",
       "      <td id=\"T_5d476_row3_col1\" class=\"data row3 col1\" >0.567000</td>\n",
       "      <td id=\"T_5d476_row3_col2\" class=\"data row3 col2\" >0.823000</td>\n",
       "      <td id=\"T_5d476_row3_col3\" class=\"data row3 col3\" >0.432000</td>\n",
       "      <td id=\"T_5d476_row3_col4\" class=\"data row3 col4\" >0.525000</td>\n",
       "      <td id=\"T_5d476_row3_col5\" class=\"data row3 col5\" >0.826000</td>\n",
       "      <td id=\"T_5d476_row3_col6\" class=\"data row3 col6\" >0.384000</td>\n",
       "      <td id=\"T_5d476_row3_col7\" class=\"data row3 col7\" >0.446000</td>\n",
       "      <td id=\"T_5d476_row3_col8\" class=\"data row3 col8\" >0.776000</td>\n",
       "      <td id=\"T_5d476_row3_col9\" class=\"data row3 col9\" >0.313000</td>\n",
       "    </tr>\n",
       "    <tr>\n",
       "      <th id=\"T_5d476_level0_row4\" class=\"row_heading level0 row4\" >4</th>\n",
       "      <td id=\"T_5d476_row4_col0\" class=\"data row4 col0\" >0.200000</td>\n",
       "      <td id=\"T_5d476_row4_col1\" class=\"data row4 col1\" >0.578000</td>\n",
       "      <td id=\"T_5d476_row4_col2\" class=\"data row4 col2\" >0.740000</td>\n",
       "      <td id=\"T_5d476_row4_col3\" class=\"data row4 col3\" >0.474000</td>\n",
       "      <td id=\"T_5d476_row4_col4\" class=\"data row4 col4\" >0.563000</td>\n",
       "      <td id=\"T_5d476_row4_col5\" class=\"data row4 col5\" >0.771000</td>\n",
       "      <td id=\"T_5d476_row4_col6\" class=\"data row4 col6\" >0.443000</td>\n",
       "      <td id=\"T_5d476_row4_col7\" class=\"data row4 col7\" >0.484000</td>\n",
       "      <td id=\"T_5d476_row4_col8\" class=\"data row4 col8\" >0.690000</td>\n",
       "      <td id=\"T_5d476_row4_col9\" class=\"data row4 col9\" >0.372000</td>\n",
       "    </tr>\n",
       "    <tr>\n",
       "      <th id=\"T_5d476_level0_row5\" class=\"row_heading level0 row5\" >5</th>\n",
       "      <td id=\"T_5d476_row5_col0\" class=\"data row5 col0\" >0.250000</td>\n",
       "      <td id=\"T_5d476_row5_col1\" class=\"data row5 col1\" >0.599000</td>\n",
       "      <td id=\"T_5d476_row5_col2\" class=\"data row5 col2\" >0.673000</td>\n",
       "      <td id=\"T_5d476_row5_col3\" class=\"data row5 col3\" >0.539000</td>\n",
       "      <td id=\"T_5d476_row5_col4\" class=\"data row5 col4\" >0.596000</td>\n",
       "      <td id=\"T_5d476_row5_col5\" class=\"data row5 col5\" >0.720000</td>\n",
       "      <td id=\"T_5d476_row5_col6\" class=\"data row5 col6\" >0.508000</td>\n",
       "      <td id=\"T_5d476_row5_col7\" class=\"data row5 col7\" >0.480000</td>\n",
       "      <td id=\"T_5d476_row5_col8\" class=\"data row5 col8\" >0.570000</td>\n",
       "      <td id=\"T_5d476_row5_col9\" class=\"data row5 col9\" >0.414000</td>\n",
       "    </tr>\n",
       "    <tr>\n",
       "      <th id=\"T_5d476_level0_row6\" class=\"row_heading level0 row6\" >6</th>\n",
       "      <td id=\"T_5d476_row6_col0\" class=\"data row6 col0\" >0.300000</td>\n",
       "      <td id=\"T_5d476_row6_col1\" class=\"data row6 col1\" >0.576000</td>\n",
       "      <td id=\"T_5d476_row6_col2\" class=\"data row6 col2\" >0.590000</td>\n",
       "      <td id=\"T_5d476_row6_col3\" class=\"data row6 col3\" >0.562000</td>\n",
       "      <td id=\"T_5d476_row6_col4\" class=\"data row6 col4\" >0.610000</td>\n",
       "      <td id=\"T_5d476_row6_col5\" class=\"data row6 col5\" >0.668000</td>\n",
       "      <td id=\"T_5d476_row6_col6\" class=\"data row6 col6\" >0.561000</td>\n",
       "      <td id=\"T_5d476_row6_col7\" class=\"data row6 col7\" >0.475000</td>\n",
       "      <td id=\"T_5d476_row6_col8\" class=\"data row6 col8\" >0.477000</td>\n",
       "      <td id=\"T_5d476_row6_col9\" class=\"data row6 col9\" >0.473000</td>\n",
       "    </tr>\n",
       "    <tr>\n",
       "      <th id=\"T_5d476_level0_row7\" class=\"row_heading level0 row7\" >7</th>\n",
       "      <td id=\"T_5d476_row7_col0\" class=\"data row7 col0\" >0.350000</td>\n",
       "      <td id=\"T_5d476_row7_col1\" class=\"data row7 col1\" >0.575000</td>\n",
       "      <td id=\"T_5d476_row7_col2\" class=\"data row7 col2\" >0.575000</td>\n",
       "      <td id=\"T_5d476_row7_col3\" class=\"data row7 col3\" >0.575000</td>\n",
       "      <td id=\"T_5d476_row7_col4\" class=\"data row7 col4\" >0.620000</td>\n",
       "      <td id=\"T_5d476_row7_col5\" class=\"data row7 col5\" >0.614000</td>\n",
       "      <td id=\"T_5d476_row7_col6\" class=\"data row7 col6\" >0.625000</td>\n",
       "      <td id=\"T_5d476_row7_col7\" class=\"data row7 col7\" >0.467000</td>\n",
       "      <td id=\"T_5d476_row7_col8\" class=\"data row7 col8\" >0.425000</td>\n",
       "      <td id=\"T_5d476_row7_col9\" class=\"data row7 col9\" >0.518000</td>\n",
       "    </tr>\n",
       "    <tr>\n",
       "      <th id=\"T_5d476_level0_row8\" class=\"row_heading level0 row8\" >8</th>\n",
       "      <td id=\"T_5d476_row8_col0\" class=\"data row8 col0\" >0.400000</td>\n",
       "      <td id=\"T_5d476_row8_col1\" class=\"data row8 col1\" >0.589000</td>\n",
       "      <td id=\"T_5d476_row8_col2\" class=\"data row8 col2\" >0.494000</td>\n",
       "      <td id=\"T_5d476_row8_col3\" class=\"data row8 col3\" >0.731000</td>\n",
       "      <td id=\"T_5d476_row8_col4\" class=\"data row8 col4\" >0.630000</td>\n",
       "      <td id=\"T_5d476_row8_col5\" class=\"data row8 col5\" >0.575000</td>\n",
       "      <td id=\"T_5d476_row8_col6\" class=\"data row8 col6\" >0.696000</td>\n",
       "      <td id=\"T_5d476_row8_col7\" class=\"data row8 col7\" >0.429000</td>\n",
       "      <td id=\"T_5d476_row8_col8\" class=\"data row8 col8\" >0.351000</td>\n",
       "      <td id=\"T_5d476_row8_col9\" class=\"data row8 col9\" >0.550000</td>\n",
       "    </tr>\n",
       "    <tr>\n",
       "      <th id=\"T_5d476_level0_row9\" class=\"row_heading level0 row9\" >9</th>\n",
       "      <td id=\"T_5d476_row9_col0\" class=\"data row9 col0\" >0.450000</td>\n",
       "      <td id=\"T_5d476_row9_col1\" class=\"data row9 col1\" >0.589000</td>\n",
       "      <td id=\"T_5d476_row9_col2\" class=\"data row9 col2\" >0.494000</td>\n",
       "      <td id=\"T_5d476_row9_col3\" class=\"data row9 col3\" >0.731000</td>\n",
       "      <td id=\"T_5d476_row9_col4\" class=\"data row9 col4\" >0.608000</td>\n",
       "      <td id=\"T_5d476_row9_col5\" class=\"data row9 col5\" >0.516000</td>\n",
       "      <td id=\"T_5d476_row9_col6\" class=\"data row9 col6\" >0.739000</td>\n",
       "      <td id=\"T_5d476_row9_col7\" class=\"data row9 col7\" >0.374000</td>\n",
       "      <td id=\"T_5d476_row9_col8\" class=\"data row9 col8\" >0.278000</td>\n",
       "      <td id=\"T_5d476_row9_col9\" class=\"data row9 col9\" >0.574000</td>\n",
       "    </tr>\n",
       "    <tr>\n",
       "      <th id=\"T_5d476_level0_row10\" class=\"row_heading level0 row10\" >10</th>\n",
       "      <td id=\"T_5d476_row10_col0\" class=\"data row10 col0\" >0.500000</td>\n",
       "      <td id=\"T_5d476_row10_col1\" class=\"data row10 col1\" >0.565000</td>\n",
       "      <td id=\"T_5d476_row10_col2\" class=\"data row10 col2\" >0.450000</td>\n",
       "      <td id=\"T_5d476_row10_col3\" class=\"data row10 col3\" >0.759000</td>\n",
       "      <td id=\"T_5d476_row10_col4\" class=\"data row10 col4\" >0.579000</td>\n",
       "      <td id=\"T_5d476_row10_col5\" class=\"data row10 col5\" >0.459000</td>\n",
       "      <td id=\"T_5d476_row10_col6\" class=\"data row10 col6\" >0.782000</td>\n",
       "      <td id=\"T_5d476_row10_col7\" class=\"data row10 col7\" >0.316000</td>\n",
       "      <td id=\"T_5d476_row10_col8\" class=\"data row10 col8\" >0.216000</td>\n",
       "      <td id=\"T_5d476_row10_col9\" class=\"data row10 col9\" >0.587000</td>\n",
       "    </tr>\n",
       "    <tr>\n",
       "      <th id=\"T_5d476_level0_row11\" class=\"row_heading level0 row11\" >11</th>\n",
       "      <td id=\"T_5d476_row11_col0\" class=\"data row11 col0\" >0.550000</td>\n",
       "      <td id=\"T_5d476_row11_col1\" class=\"data row11 col1\" >0.565000</td>\n",
       "      <td id=\"T_5d476_row11_col2\" class=\"data row11 col2\" >0.450000</td>\n",
       "      <td id=\"T_5d476_row11_col3\" class=\"data row11 col3\" >0.759000</td>\n",
       "      <td id=\"T_5d476_row11_col4\" class=\"data row11 col4\" >0.531000</td>\n",
       "      <td id=\"T_5d476_row11_col5\" class=\"data row11 col5\" >0.400000</td>\n",
       "      <td id=\"T_5d476_row11_col6\" class=\"data row11 col6\" >0.787000</td>\n",
       "      <td id=\"T_5d476_row11_col7\" class=\"data row11 col7\" >0.243000</td>\n",
       "      <td id=\"T_5d476_row11_col8\" class=\"data row11 col8\" >0.150000</td>\n",
       "      <td id=\"T_5d476_row11_col9\" class=\"data row11 col9\" >0.635000</td>\n",
       "    </tr>\n",
       "    <tr>\n",
       "      <th id=\"T_5d476_level0_row12\" class=\"row_heading level0 row12\" >12</th>\n",
       "      <td id=\"T_5d476_row12_col0\" class=\"data row12 col0\" >0.600000</td>\n",
       "      <td id=\"T_5d476_row12_col1\" class=\"data row12 col1\" >0.504000</td>\n",
       "      <td id=\"T_5d476_row12_col2\" class=\"data row12 col2\" >0.373000</td>\n",
       "      <td id=\"T_5d476_row12_col3\" class=\"data row12 col3\" >0.776000</td>\n",
       "      <td id=\"T_5d476_row12_col4\" class=\"data row12 col4\" >0.472000</td>\n",
       "      <td id=\"T_5d476_row12_col5\" class=\"data row12 col5\" >0.334000</td>\n",
       "      <td id=\"T_5d476_row12_col6\" class=\"data row12 col6\" >0.805000</td>\n",
       "      <td id=\"T_5d476_row12_col7\" class=\"data row12 col7\" >0.186000</td>\n",
       "      <td id=\"T_5d476_row12_col8\" class=\"data row12 col8\" >0.108000</td>\n",
       "      <td id=\"T_5d476_row12_col9\" class=\"data row12 col9\" >0.677000</td>\n",
       "    </tr>\n",
       "    <tr>\n",
       "      <th id=\"T_5d476_level0_row13\" class=\"row_heading level0 row13\" >13</th>\n",
       "      <td id=\"T_5d476_row13_col0\" class=\"data row13 col0\" >0.650000</td>\n",
       "      <td id=\"T_5d476_row13_col1\" class=\"data row13 col1\" >0.453000</td>\n",
       "      <td id=\"T_5d476_row13_col2\" class=\"data row13 col2\" >0.322000</td>\n",
       "      <td id=\"T_5d476_row13_col3\" class=\"data row13 col3\" >0.762000</td>\n",
       "      <td id=\"T_5d476_row13_col4\" class=\"data row13 col4\" >0.438000</td>\n",
       "      <td id=\"T_5d476_row13_col5\" class=\"data row13 col5\" >0.297000</td>\n",
       "      <td id=\"T_5d476_row13_col6\" class=\"data row13 col6\" >0.829000</td>\n",
       "      <td id=\"T_5d476_row13_col7\" class=\"data row13 col7\" >0.120000</td>\n",
       "      <td id=\"T_5d476_row13_col8\" class=\"data row13 col8\" >0.066000</td>\n",
       "      <td id=\"T_5d476_row13_col9\" class=\"data row13 col9\" >0.643000</td>\n",
       "    </tr>\n",
       "    <tr>\n",
       "      <th id=\"T_5d476_level0_row14\" class=\"row_heading level0 row14\" >14</th>\n",
       "      <td id=\"T_5d476_row14_col0\" class=\"data row14 col0\" >0.700000</td>\n",
       "      <td id=\"T_5d476_row14_col1\" class=\"data row14 col1\" >0.398000</td>\n",
       "      <td id=\"T_5d476_row14_col2\" class=\"data row14 col2\" >0.268000</td>\n",
       "      <td id=\"T_5d476_row14_col3\" class=\"data row14 col3\" >0.773000</td>\n",
       "      <td id=\"T_5d476_row14_col4\" class=\"data row14 col4\" >0.360000</td>\n",
       "      <td id=\"T_5d476_row14_col5\" class=\"data row14 col5\" >0.229000</td>\n",
       "      <td id=\"T_5d476_row14_col6\" class=\"data row14 col6\" >0.845000</td>\n",
       "      <td id=\"T_5d476_row14_col7\" class=\"data row14 col7\" >0.100000</td>\n",
       "      <td id=\"T_5d476_row14_col8\" class=\"data row14 col8\" >0.054000</td>\n",
       "      <td id=\"T_5d476_row14_col9\" class=\"data row14 col9\" >0.710000</td>\n",
       "    </tr>\n",
       "    <tr>\n",
       "      <th id=\"T_5d476_level0_row15\" class=\"row_heading level0 row15\" >15</th>\n",
       "      <td id=\"T_5d476_row15_col0\" class=\"data row15 col0\" >0.750000</td>\n",
       "      <td id=\"T_5d476_row15_col1\" class=\"data row15 col1\" >0.398000</td>\n",
       "      <td id=\"T_5d476_row15_col2\" class=\"data row15 col2\" >0.268000</td>\n",
       "      <td id=\"T_5d476_row15_col3\" class=\"data row15 col3\" >0.773000</td>\n",
       "      <td id=\"T_5d476_row15_col4\" class=\"data row15 col4\" >0.328000</td>\n",
       "      <td id=\"T_5d476_row15_col5\" class=\"data row15 col5\" >0.201000</td>\n",
       "      <td id=\"T_5d476_row15_col6\" class=\"data row15 col6\" >0.882000</td>\n",
       "      <td id=\"T_5d476_row15_col7\" class=\"data row15 col7\" >0.052000</td>\n",
       "      <td id=\"T_5d476_row15_col8\" class=\"data row15 col8\" >0.027000</td>\n",
       "      <td id=\"T_5d476_row15_col9\" class=\"data row15 col9\" >0.647000</td>\n",
       "    </tr>\n",
       "    <tr>\n",
       "      <th id=\"T_5d476_level0_row16\" class=\"row_heading level0 row16\" >16</th>\n",
       "      <td id=\"T_5d476_row16_col0\" class=\"data row16 col0\" >0.800000</td>\n",
       "      <td id=\"T_5d476_row16_col1\" class=\"data row16 col1\" >0.390000</td>\n",
       "      <td id=\"T_5d476_row16_col2\" class=\"data row16 col2\" >0.258000</td>\n",
       "      <td id=\"T_5d476_row16_col3\" class=\"data row16 col3\" >0.795000</td>\n",
       "      <td id=\"T_5d476_row16_col4\" class=\"data row16 col4\" >0.267000</td>\n",
       "      <td id=\"T_5d476_row16_col5\" class=\"data row16 col5\" >0.157000</td>\n",
       "      <td id=\"T_5d476_row16_col6\" class=\"data row16 col6\" >0.889000</td>\n",
       "      <td id=\"T_5d476_row16_col7\" class=\"data row16 col7\" >0.019000</td>\n",
       "      <td id=\"T_5d476_row16_col8\" class=\"data row16 col8\" >0.010000</td>\n",
       "      <td id=\"T_5d476_row16_col9\" class=\"data row16 col9\" >0.571000</td>\n",
       "    </tr>\n",
       "    <tr>\n",
       "      <th id=\"T_5d476_level0_row17\" class=\"row_heading level0 row17\" >17</th>\n",
       "      <td id=\"T_5d476_row17_col0\" class=\"data row17 col0\" >0.850000</td>\n",
       "      <td id=\"T_5d476_row17_col1\" class=\"data row17 col1\" >0.390000</td>\n",
       "      <td id=\"T_5d476_row17_col2\" class=\"data row17 col2\" >0.258000</td>\n",
       "      <td id=\"T_5d476_row17_col3\" class=\"data row17 col3\" >0.795000</td>\n",
       "      <td id=\"T_5d476_row17_col4\" class=\"data row17 col4\" >0.219000</td>\n",
       "      <td id=\"T_5d476_row17_col5\" class=\"data row17 col5\" >0.125000</td>\n",
       "      <td id=\"T_5d476_row17_col6\" class=\"data row17 col6\" >0.864000</td>\n",
       "      <td id=\"T_5d476_row17_col7\" class=\"data row17 col7\" >0.015000</td>\n",
       "      <td id=\"T_5d476_row17_col8\" class=\"data row17 col8\" >0.007000</td>\n",
       "      <td id=\"T_5d476_row17_col9\" class=\"data row17 col9\" >0.750000</td>\n",
       "    </tr>\n",
       "    <tr>\n",
       "      <th id=\"T_5d476_level0_row18\" class=\"row_heading level0 row18\" >18</th>\n",
       "      <td id=\"T_5d476_row18_col0\" class=\"data row18 col0\" >0.900000</td>\n",
       "      <td id=\"T_5d476_row18_col1\" class=\"data row18 col1\" >0.346000</td>\n",
       "      <td id=\"T_5d476_row18_col2\" class=\"data row18 col2\" >0.221000</td>\n",
       "      <td id=\"T_5d476_row18_col3\" class=\"data row18 col3\" >0.796000</td>\n",
       "      <td id=\"T_5d476_row18_col4\" class=\"data row18 col4\" >0.106000</td>\n",
       "      <td id=\"T_5d476_row18_col5\" class=\"data row18 col5\" >0.057000</td>\n",
       "      <td id=\"T_5d476_row18_col6\" class=\"data row18 col6\" >0.885000</td>\n",
       "      <td id=\"T_5d476_row18_col7\" class=\"data row18 col7\" >0.005000</td>\n",
       "      <td id=\"T_5d476_row18_col8\" class=\"data row18 col8\" >0.002000</td>\n",
       "      <td id=\"T_5d476_row18_col9\" class=\"data row18 col9\" >0.500000</td>\n",
       "    </tr>\n",
       "    <tr>\n",
       "      <th id=\"T_5d476_level0_row19\" class=\"row_heading level0 row19\" >19</th>\n",
       "      <td id=\"T_5d476_row19_col0\" class=\"data row19 col0\" >0.950000</td>\n",
       "      <td id=\"T_5d476_row19_col1\" class=\"data row19 col1\" >0.204000</td>\n",
       "      <td id=\"T_5d476_row19_col2\" class=\"data row19 col2\" >0.118000</td>\n",
       "      <td id=\"T_5d476_row19_col3\" class=\"data row19 col3\" >0.750000</td>\n",
       "      <td id=\"T_5d476_row19_col4\" class=\"data row19 col4\" >0.043000</td>\n",
       "      <td id=\"T_5d476_row19_col5\" class=\"data row19 col5\" >0.022000</td>\n",
       "      <td id=\"T_5d476_row19_col6\" class=\"data row19 col6\" >0.900000</td>\n",
       "      <td id=\"T_5d476_row19_col7\" class=\"data row19 col7\" >0.000000</td>\n",
       "      <td id=\"T_5d476_row19_col8\" class=\"data row19 col8\" >0.000000</td>\n",
       "      <td id=\"T_5d476_row19_col9\" class=\"data row19 col9\" >0.000000</td>\n",
       "    </tr>\n",
       "  </tbody>\n",
       "</table>\n"
      ],
      "text/plain": [
       "<pandas.io.formats.style.Styler at 0x7fb687dde850>"
      ]
     },
     "execution_count": 96,
     "metadata": {},
     "output_type": "execute_result"
    }
   ],
   "source": [
    "res_thresholds = tree_thresholds.merge(forest_thresholds,\n",
    "                      on='Порог')\n",
    "\n",
    "res_thresholds = res_thresholds.merge(logreg_thresholds,\n",
    "                      on='Порог')\n",
    "\n",
    "res_thresholds.style.highlight_max(subset=['F1_Tree', 'F1_Forest', 'F1_LogReg'],\n",
    "                                   color='yellow', axis = 0)"
   ]
  },
  {
   "cell_type": "markdown",
   "metadata": {},
   "source": [
    "Дерево решений и логистическая регрессия показывают лучшие результаты по F1-мере при маленьких порогах. Это значит, что даже если модели слабо уверены в том, что клиент уйдет, они все равно записывают его в отток. Из-за этого случается много ложных срабатываний, о чем говорят низкие precision'ы, особенно у логистической регрессии."
   ]
  },
  {
   "cell_type": "markdown",
   "metadata": {},
   "source": [
    "#### Сравнение с моделями, обученными на несбалансированных данных без изменения порога"
   ]
  },
  {
   "cell_type": "code",
   "execution_count": 97,
   "metadata": {},
   "outputs": [
    {
     "data": {
      "text/html": [
       "<style type=\"text/css\">\n",
       "#T_33e6a_row0_col0, #T_33e6a_row0_col1, #T_33e6a_row0_col2, #T_33e6a_row0_col3, #T_33e6a_row0_col4, #T_33e6a_row0_col5, #T_33e6a_row1_col0, #T_33e6a_row1_col1, #T_33e6a_row1_col2, #T_33e6a_row1_col3, #T_33e6a_row1_col4, #T_33e6a_row1_col5, #T_33e6a_row2_col0, #T_33e6a_row2_col1, #T_33e6a_row2_col2, #T_33e6a_row2_col3, #T_33e6a_row2_col4, #T_33e6a_row2_col5 {\n",
       "  background-color: lightyellow;\n",
       "}\n",
       "#T_33e6a_row3_col0, #T_33e6a_row3_col1, #T_33e6a_row3_col2, #T_33e6a_row3_col3, #T_33e6a_row3_col4, #T_33e6a_row3_col5, #T_33e6a_row4_col0, #T_33e6a_row4_col1, #T_33e6a_row4_col2, #T_33e6a_row4_col3, #T_33e6a_row4_col4, #T_33e6a_row4_col5, #T_33e6a_row5_col0, #T_33e6a_row5_col1, #T_33e6a_row5_col2, #T_33e6a_row5_col3, #T_33e6a_row5_col4, #T_33e6a_row5_col5, #T_33e6a_row6_col0, #T_33e6a_row6_col1, #T_33e6a_row6_col2, #T_33e6a_row6_col3, #T_33e6a_row6_col4, #T_33e6a_row6_col5, #T_33e6a_row7_col0, #T_33e6a_row7_col1, #T_33e6a_row7_col2, #T_33e6a_row7_col3, #T_33e6a_row7_col4, #T_33e6a_row7_col5, #T_33e6a_row8_col0, #T_33e6a_row8_col1, #T_33e6a_row8_col2, #T_33e6a_row8_col3, #T_33e6a_row8_col4, #T_33e6a_row8_col5 {\n",
       "  background-color: white;\n",
       "}\n",
       "#T_33e6a_row9_col0, #T_33e6a_row9_col1, #T_33e6a_row9_col2, #T_33e6a_row9_col3, #T_33e6a_row9_col4, #T_33e6a_row9_col5, #T_33e6a_row10_col0, #T_33e6a_row10_col1, #T_33e6a_row10_col2, #T_33e6a_row10_col3, #T_33e6a_row10_col4, #T_33e6a_row10_col5, #T_33e6a_row11_col0, #T_33e6a_row11_col1, #T_33e6a_row11_col2, #T_33e6a_row11_col3, #T_33e6a_row11_col4, #T_33e6a_row11_col5 {\n",
       "  background-color: lightgreen;\n",
       "}\n",
       "</style>\n",
       "<table id=\"T_33e6a_\">\n",
       "  <thead>\n",
       "    <tr>\n",
       "      <th class=\"blank level0\" >&nbsp;</th>\n",
       "      <th class=\"col_heading level0 col0\" >Модель</th>\n",
       "      <th class=\"col_heading level0 col1\" >Способ борьбы с дисбалансом</th>\n",
       "      <th class=\"col_heading level0 col2\" >F1</th>\n",
       "      <th class=\"col_heading level0 col3\" >Recall</th>\n",
       "      <th class=\"col_heading level0 col4\" >Precision</th>\n",
       "      <th class=\"col_heading level0 col5\" >ROC AUC</th>\n",
       "    </tr>\n",
       "  </thead>\n",
       "  <tbody>\n",
       "    <tr>\n",
       "      <th id=\"T_33e6a_level0_row0\" class=\"row_heading level0 row0\" >0</th>\n",
       "      <td id=\"T_33e6a_row0_col0\" class=\"data row0 col0\" >Дерево решений</td>\n",
       "      <td id=\"T_33e6a_row0_col1\" class=\"data row0 col1\" >Нет (данные несбалансированы)</td>\n",
       "      <td id=\"T_33e6a_row0_col2\" class=\"data row0 col2\" >0.565000</td>\n",
       "      <td id=\"T_33e6a_row0_col3\" class=\"data row0 col3\" >0.450000</td>\n",
       "      <td id=\"T_33e6a_row0_col4\" class=\"data row0 col4\" >0.759000</td>\n",
       "      <td id=\"T_33e6a_row0_col5\" class=\"data row0 col5\" >0.835000</td>\n",
       "    </tr>\n",
       "    <tr>\n",
       "      <th id=\"T_33e6a_level0_row1\" class=\"row_heading level0 row1\" >1</th>\n",
       "      <td id=\"T_33e6a_row1_col0\" class=\"data row1 col0\" >Случайный лес</td>\n",
       "      <td id=\"T_33e6a_row1_col1\" class=\"data row1 col1\" >Нет (данные несбалансированы)</td>\n",
       "      <td id=\"T_33e6a_row1_col2\" class=\"data row1 col2\" >0.579000</td>\n",
       "      <td id=\"T_33e6a_row1_col3\" class=\"data row1 col3\" >0.459000</td>\n",
       "      <td id=\"T_33e6a_row1_col4\" class=\"data row1 col4\" >0.782000</td>\n",
       "      <td id=\"T_33e6a_row1_col5\" class=\"data row1 col5\" >0.853000</td>\n",
       "    </tr>\n",
       "    <tr>\n",
       "      <th id=\"T_33e6a_level0_row2\" class=\"row_heading level0 row2\" >2</th>\n",
       "      <td id=\"T_33e6a_row2_col0\" class=\"data row2 col0\" >Логистическая регрессия</td>\n",
       "      <td id=\"T_33e6a_row2_col1\" class=\"data row2 col1\" >Нет (данные несбалансированы)</td>\n",
       "      <td id=\"T_33e6a_row2_col2\" class=\"data row2 col2\" >0.316000</td>\n",
       "      <td id=\"T_33e6a_row2_col3\" class=\"data row2 col3\" >0.216000</td>\n",
       "      <td id=\"T_33e6a_row2_col4\" class=\"data row2 col4\" >0.587000</td>\n",
       "      <td id=\"T_33e6a_row2_col5\" class=\"data row2 col5\" >0.756000</td>\n",
       "    </tr>\n",
       "    <tr>\n",
       "      <th id=\"T_33e6a_level0_row3\" class=\"row_heading level0 row3\" >3</th>\n",
       "      <td id=\"T_33e6a_row3_col0\" class=\"data row3 col0\" >Дерево решений</td>\n",
       "      <td id=\"T_33e6a_row3_col1\" class=\"data row3 col1\" >Upsampling</td>\n",
       "      <td id=\"T_33e6a_row3_col2\" class=\"data row3 col2\" >0.597000</td>\n",
       "      <td id=\"T_33e6a_row3_col3\" class=\"data row3 col3\" >0.671000</td>\n",
       "      <td id=\"T_33e6a_row3_col4\" class=\"data row3 col4\" >0.538000</td>\n",
       "      <td id=\"T_33e6a_row3_col5\" class=\"data row3 col5\" >0.827000</td>\n",
       "    </tr>\n",
       "    <tr>\n",
       "      <th id=\"T_33e6a_level0_row4\" class=\"row_heading level0 row4\" >4</th>\n",
       "      <td id=\"T_33e6a_row4_col0\" class=\"data row4 col0\" >Случайный лес</td>\n",
       "      <td id=\"T_33e6a_row4_col1\" class=\"data row4 col1\" >Upsampling</td>\n",
       "      <td id=\"T_33e6a_row4_col2\" class=\"data row4 col2\" >0.645000</td>\n",
       "      <td id=\"T_33e6a_row4_col3\" class=\"data row4 col3\" >0.634000</td>\n",
       "      <td id=\"T_33e6a_row4_col4\" class=\"data row4 col4\" >0.656000</td>\n",
       "      <td id=\"T_33e6a_row4_col5\" class=\"data row4 col5\" >0.857000</td>\n",
       "    </tr>\n",
       "    <tr>\n",
       "      <th id=\"T_33e6a_level0_row5\" class=\"row_heading level0 row5\" >5</th>\n",
       "      <td id=\"T_33e6a_row5_col0\" class=\"data row5 col0\" >Логистическая регрессия</td>\n",
       "      <td id=\"T_33e6a_row5_col1\" class=\"data row5 col1\" >Upsampling</td>\n",
       "      <td id=\"T_33e6a_row5_col2\" class=\"data row5 col2\" >0.481000</td>\n",
       "      <td id=\"T_33e6a_row5_col3\" class=\"data row5 col3\" >0.565000</td>\n",
       "      <td id=\"T_33e6a_row5_col4\" class=\"data row5 col4\" >0.419000</td>\n",
       "      <td id=\"T_33e6a_row5_col5\" class=\"data row5 col5\" >0.760000</td>\n",
       "    </tr>\n",
       "    <tr>\n",
       "      <th id=\"T_33e6a_level0_row6\" class=\"row_heading level0 row6\" >6</th>\n",
       "      <td id=\"T_33e6a_row6_col0\" class=\"data row6 col0\" >Дерево решений</td>\n",
       "      <td id=\"T_33e6a_row6_col1\" class=\"data row6 col1\" >Уравновешивание классов</td>\n",
       "      <td id=\"T_33e6a_row6_col2\" class=\"data row6 col2\" >0.590000</td>\n",
       "      <td id=\"T_33e6a_row6_col3\" class=\"data row6 col3\" >0.759000</td>\n",
       "      <td id=\"T_33e6a_row6_col4\" class=\"data row6 col4\" >0.482000</td>\n",
       "      <td id=\"T_33e6a_row6_col5\" class=\"data row6 col5\" >0.831000</td>\n",
       "    </tr>\n",
       "    <tr>\n",
       "      <th id=\"T_33e6a_level0_row7\" class=\"row_heading level0 row7\" >7</th>\n",
       "      <td id=\"T_33e6a_row7_col0\" class=\"data row7 col0\" >Случайный лес</td>\n",
       "      <td id=\"T_33e6a_row7_col1\" class=\"data row7 col1\" >Уравновешивание классов</td>\n",
       "      <td id=\"T_33e6a_row7_col2\" class=\"data row7 col2\" >0.635000</td>\n",
       "      <td id=\"T_33e6a_row7_col3\" class=\"data row7 col3\" >0.636000</td>\n",
       "      <td id=\"T_33e6a_row7_col4\" class=\"data row7 col4\" >0.633000</td>\n",
       "      <td id=\"T_33e6a_row7_col5\" class=\"data row7 col5\" >0.858000</td>\n",
       "    </tr>\n",
       "    <tr>\n",
       "      <th id=\"T_33e6a_level0_row8\" class=\"row_heading level0 row8\" >8</th>\n",
       "      <td id=\"T_33e6a_row8_col0\" class=\"data row8 col0\" >Логистическая регрессия</td>\n",
       "      <td id=\"T_33e6a_row8_col1\" class=\"data row8 col1\" >Уравновешивание классов</td>\n",
       "      <td id=\"T_33e6a_row8_col2\" class=\"data row8 col2\" >0.477000</td>\n",
       "      <td id=\"T_33e6a_row8_col3\" class=\"data row8 col3\" >0.661000</td>\n",
       "      <td id=\"T_33e6a_row8_col4\" class=\"data row8 col4\" >0.374000</td>\n",
       "      <td id=\"T_33e6a_row8_col5\" class=\"data row8 col5\" >0.761000</td>\n",
       "    </tr>\n",
       "    <tr>\n",
       "      <th id=\"T_33e6a_level0_row9\" class=\"row_heading level0 row9\" >9</th>\n",
       "      <td id=\"T_33e6a_row9_col0\" class=\"data row9 col0\" >Дерево решений</td>\n",
       "      <td id=\"T_33e6a_row9_col1\" class=\"data row9 col1\" >Измениние порога классификации</td>\n",
       "      <td id=\"T_33e6a_row9_col2\" class=\"data row9 col2\" >0.599000</td>\n",
       "      <td id=\"T_33e6a_row9_col3\" class=\"data row9 col3\" >0.673000</td>\n",
       "      <td id=\"T_33e6a_row9_col4\" class=\"data row9 col4\" >0.539000</td>\n",
       "      <td id=\"T_33e6a_row9_col5\" class=\"data row9 col5\" >nan</td>\n",
       "    </tr>\n",
       "    <tr>\n",
       "      <th id=\"T_33e6a_level0_row10\" class=\"row_heading level0 row10\" >10</th>\n",
       "      <td id=\"T_33e6a_row10_col0\" class=\"data row10 col0\" >Случайный лес</td>\n",
       "      <td id=\"T_33e6a_row10_col1\" class=\"data row10 col1\" >Измениние порога классификации</td>\n",
       "      <td id=\"T_33e6a_row10_col2\" class=\"data row10 col2\" >0.630000</td>\n",
       "      <td id=\"T_33e6a_row10_col3\" class=\"data row10 col3\" >0.575000</td>\n",
       "      <td id=\"T_33e6a_row10_col4\" class=\"data row10 col4\" >0.696000</td>\n",
       "      <td id=\"T_33e6a_row10_col5\" class=\"data row10 col5\" >nan</td>\n",
       "    </tr>\n",
       "    <tr>\n",
       "      <th id=\"T_33e6a_level0_row11\" class=\"row_heading level0 row11\" >11</th>\n",
       "      <td id=\"T_33e6a_row11_col0\" class=\"data row11 col0\" >Логистическая регрессия</td>\n",
       "      <td id=\"T_33e6a_row11_col1\" class=\"data row11 col1\" >Измениние порога классификации</td>\n",
       "      <td id=\"T_33e6a_row11_col2\" class=\"data row11 col2\" >0.484000</td>\n",
       "      <td id=\"T_33e6a_row11_col3\" class=\"data row11 col3\" >0.690000</td>\n",
       "      <td id=\"T_33e6a_row11_col4\" class=\"data row11 col4\" >0.372000</td>\n",
       "      <td id=\"T_33e6a_row11_col5\" class=\"data row11 col5\" >nan</td>\n",
       "    </tr>\n",
       "  </tbody>\n",
       "</table>\n"
      ],
      "text/plain": [
       "<pandas.io.formats.style.Styler at 0x7fb687de6f10>"
      ]
     },
     "execution_count": 97,
     "metadata": {},
     "output_type": "execute_result"
    }
   ],
   "source": [
    "research_result.style.apply(highlight_exp, exp='Измениние порога классификации', axis=1)"
   ]
  },
  {
   "cell_type": "markdown",
   "metadata": {},
   "source": [
    "Больше всего от подбора порога выигрыла логистическая регрессия: F1-мера увеличилась с 0,32 до 0,48. У нее в три раза вырос recall, но просел precision. То есть с новым порогом классификации модель стала не только чаще находить действительно уходящих клиентов, но и неправильно отправлять в отток клиентов, которые не собирались уходить.\n",
    "\n",
    "Аналогичные картины у дерева решений и случайного леса, только в меньшем масштабе. Этим моделям изменение порога классификации дало меньшее увеличение F1-метрики. Recall и precision также изменились меньше."
   ]
  },
  {
   "cell_type": "markdown",
   "metadata": {},
   "source": [
    "[К содержанию](#Содержание)"
   ]
  },
  {
   "cell_type": "markdown",
   "metadata": {},
   "source": [
    "### Сравнение способов борьбы с дисбалансом<a name=\"Сравнение-способов-борьбы-с-дисбалансом\"></a>"
   ]
  },
  {
   "cell_type": "markdown",
   "metadata": {},
   "source": [
    "Мы попробовали три способа борьбы с дисбалансом: upsampling, уравновешивание классов и изменение порога классификации. Посмотрим на таблицу с результатами исследования."
   ]
  },
  {
   "cell_type": "code",
   "execution_count": 98,
   "metadata": {},
   "outputs": [
    {
     "data": {
      "text/html": [
       "<style type=\"text/css\">\n",
       "#T_31c7f_row4_col2 {\n",
       "  background-color: lightgreen;\n",
       "}\n",
       "</style>\n",
       "<table id=\"T_31c7f_\">\n",
       "  <thead>\n",
       "    <tr>\n",
       "      <th class=\"blank level0\" >&nbsp;</th>\n",
       "      <th class=\"col_heading level0 col0\" >Модель</th>\n",
       "      <th class=\"col_heading level0 col1\" >Способ борьбы с дисбалансом</th>\n",
       "      <th class=\"col_heading level0 col2\" >F1</th>\n",
       "      <th class=\"col_heading level0 col3\" >Recall</th>\n",
       "      <th class=\"col_heading level0 col4\" >Precision</th>\n",
       "      <th class=\"col_heading level0 col5\" >ROC AUC</th>\n",
       "    </tr>\n",
       "  </thead>\n",
       "  <tbody>\n",
       "    <tr>\n",
       "      <th id=\"T_31c7f_level0_row0\" class=\"row_heading level0 row0\" >0</th>\n",
       "      <td id=\"T_31c7f_row0_col0\" class=\"data row0 col0\" >Дерево решений</td>\n",
       "      <td id=\"T_31c7f_row0_col1\" class=\"data row0 col1\" >Нет (данные несбалансированы)</td>\n",
       "      <td id=\"T_31c7f_row0_col2\" class=\"data row0 col2\" >0.565000</td>\n",
       "      <td id=\"T_31c7f_row0_col3\" class=\"data row0 col3\" >0.450000</td>\n",
       "      <td id=\"T_31c7f_row0_col4\" class=\"data row0 col4\" >0.759000</td>\n",
       "      <td id=\"T_31c7f_row0_col5\" class=\"data row0 col5\" >0.835000</td>\n",
       "    </tr>\n",
       "    <tr>\n",
       "      <th id=\"T_31c7f_level0_row1\" class=\"row_heading level0 row1\" >1</th>\n",
       "      <td id=\"T_31c7f_row1_col0\" class=\"data row1 col0\" >Случайный лес</td>\n",
       "      <td id=\"T_31c7f_row1_col1\" class=\"data row1 col1\" >Нет (данные несбалансированы)</td>\n",
       "      <td id=\"T_31c7f_row1_col2\" class=\"data row1 col2\" >0.579000</td>\n",
       "      <td id=\"T_31c7f_row1_col3\" class=\"data row1 col3\" >0.459000</td>\n",
       "      <td id=\"T_31c7f_row1_col4\" class=\"data row1 col4\" >0.782000</td>\n",
       "      <td id=\"T_31c7f_row1_col5\" class=\"data row1 col5\" >0.853000</td>\n",
       "    </tr>\n",
       "    <tr>\n",
       "      <th id=\"T_31c7f_level0_row2\" class=\"row_heading level0 row2\" >2</th>\n",
       "      <td id=\"T_31c7f_row2_col0\" class=\"data row2 col0\" >Логистическая регрессия</td>\n",
       "      <td id=\"T_31c7f_row2_col1\" class=\"data row2 col1\" >Нет (данные несбалансированы)</td>\n",
       "      <td id=\"T_31c7f_row2_col2\" class=\"data row2 col2\" >0.316000</td>\n",
       "      <td id=\"T_31c7f_row2_col3\" class=\"data row2 col3\" >0.216000</td>\n",
       "      <td id=\"T_31c7f_row2_col4\" class=\"data row2 col4\" >0.587000</td>\n",
       "      <td id=\"T_31c7f_row2_col5\" class=\"data row2 col5\" >0.756000</td>\n",
       "    </tr>\n",
       "    <tr>\n",
       "      <th id=\"T_31c7f_level0_row3\" class=\"row_heading level0 row3\" >3</th>\n",
       "      <td id=\"T_31c7f_row3_col0\" class=\"data row3 col0\" >Дерево решений</td>\n",
       "      <td id=\"T_31c7f_row3_col1\" class=\"data row3 col1\" >Upsampling</td>\n",
       "      <td id=\"T_31c7f_row3_col2\" class=\"data row3 col2\" >0.597000</td>\n",
       "      <td id=\"T_31c7f_row3_col3\" class=\"data row3 col3\" >0.671000</td>\n",
       "      <td id=\"T_31c7f_row3_col4\" class=\"data row3 col4\" >0.538000</td>\n",
       "      <td id=\"T_31c7f_row3_col5\" class=\"data row3 col5\" >0.827000</td>\n",
       "    </tr>\n",
       "    <tr>\n",
       "      <th id=\"T_31c7f_level0_row4\" class=\"row_heading level0 row4\" >4</th>\n",
       "      <td id=\"T_31c7f_row4_col0\" class=\"data row4 col0\" >Случайный лес</td>\n",
       "      <td id=\"T_31c7f_row4_col1\" class=\"data row4 col1\" >Upsampling</td>\n",
       "      <td id=\"T_31c7f_row4_col2\" class=\"data row4 col2\" >0.645000</td>\n",
       "      <td id=\"T_31c7f_row4_col3\" class=\"data row4 col3\" >0.634000</td>\n",
       "      <td id=\"T_31c7f_row4_col4\" class=\"data row4 col4\" >0.656000</td>\n",
       "      <td id=\"T_31c7f_row4_col5\" class=\"data row4 col5\" >0.857000</td>\n",
       "    </tr>\n",
       "    <tr>\n",
       "      <th id=\"T_31c7f_level0_row5\" class=\"row_heading level0 row5\" >5</th>\n",
       "      <td id=\"T_31c7f_row5_col0\" class=\"data row5 col0\" >Логистическая регрессия</td>\n",
       "      <td id=\"T_31c7f_row5_col1\" class=\"data row5 col1\" >Upsampling</td>\n",
       "      <td id=\"T_31c7f_row5_col2\" class=\"data row5 col2\" >0.481000</td>\n",
       "      <td id=\"T_31c7f_row5_col3\" class=\"data row5 col3\" >0.565000</td>\n",
       "      <td id=\"T_31c7f_row5_col4\" class=\"data row5 col4\" >0.419000</td>\n",
       "      <td id=\"T_31c7f_row5_col5\" class=\"data row5 col5\" >0.760000</td>\n",
       "    </tr>\n",
       "    <tr>\n",
       "      <th id=\"T_31c7f_level0_row6\" class=\"row_heading level0 row6\" >6</th>\n",
       "      <td id=\"T_31c7f_row6_col0\" class=\"data row6 col0\" >Дерево решений</td>\n",
       "      <td id=\"T_31c7f_row6_col1\" class=\"data row6 col1\" >Уравновешивание классов</td>\n",
       "      <td id=\"T_31c7f_row6_col2\" class=\"data row6 col2\" >0.590000</td>\n",
       "      <td id=\"T_31c7f_row6_col3\" class=\"data row6 col3\" >0.759000</td>\n",
       "      <td id=\"T_31c7f_row6_col4\" class=\"data row6 col4\" >0.482000</td>\n",
       "      <td id=\"T_31c7f_row6_col5\" class=\"data row6 col5\" >0.831000</td>\n",
       "    </tr>\n",
       "    <tr>\n",
       "      <th id=\"T_31c7f_level0_row7\" class=\"row_heading level0 row7\" >7</th>\n",
       "      <td id=\"T_31c7f_row7_col0\" class=\"data row7 col0\" >Случайный лес</td>\n",
       "      <td id=\"T_31c7f_row7_col1\" class=\"data row7 col1\" >Уравновешивание классов</td>\n",
       "      <td id=\"T_31c7f_row7_col2\" class=\"data row7 col2\" >0.635000</td>\n",
       "      <td id=\"T_31c7f_row7_col3\" class=\"data row7 col3\" >0.636000</td>\n",
       "      <td id=\"T_31c7f_row7_col4\" class=\"data row7 col4\" >0.633000</td>\n",
       "      <td id=\"T_31c7f_row7_col5\" class=\"data row7 col5\" >0.858000</td>\n",
       "    </tr>\n",
       "    <tr>\n",
       "      <th id=\"T_31c7f_level0_row8\" class=\"row_heading level0 row8\" >8</th>\n",
       "      <td id=\"T_31c7f_row8_col0\" class=\"data row8 col0\" >Логистическая регрессия</td>\n",
       "      <td id=\"T_31c7f_row8_col1\" class=\"data row8 col1\" >Уравновешивание классов</td>\n",
       "      <td id=\"T_31c7f_row8_col2\" class=\"data row8 col2\" >0.477000</td>\n",
       "      <td id=\"T_31c7f_row8_col3\" class=\"data row8 col3\" >0.661000</td>\n",
       "      <td id=\"T_31c7f_row8_col4\" class=\"data row8 col4\" >0.374000</td>\n",
       "      <td id=\"T_31c7f_row8_col5\" class=\"data row8 col5\" >0.761000</td>\n",
       "    </tr>\n",
       "    <tr>\n",
       "      <th id=\"T_31c7f_level0_row9\" class=\"row_heading level0 row9\" >9</th>\n",
       "      <td id=\"T_31c7f_row9_col0\" class=\"data row9 col0\" >Дерево решений</td>\n",
       "      <td id=\"T_31c7f_row9_col1\" class=\"data row9 col1\" >Измениние порога классификации</td>\n",
       "      <td id=\"T_31c7f_row9_col2\" class=\"data row9 col2\" >0.599000</td>\n",
       "      <td id=\"T_31c7f_row9_col3\" class=\"data row9 col3\" >0.673000</td>\n",
       "      <td id=\"T_31c7f_row9_col4\" class=\"data row9 col4\" >0.539000</td>\n",
       "      <td id=\"T_31c7f_row9_col5\" class=\"data row9 col5\" >nan</td>\n",
       "    </tr>\n",
       "    <tr>\n",
       "      <th id=\"T_31c7f_level0_row10\" class=\"row_heading level0 row10\" >10</th>\n",
       "      <td id=\"T_31c7f_row10_col0\" class=\"data row10 col0\" >Случайный лес</td>\n",
       "      <td id=\"T_31c7f_row10_col1\" class=\"data row10 col1\" >Измениние порога классификации</td>\n",
       "      <td id=\"T_31c7f_row10_col2\" class=\"data row10 col2\" >0.630000</td>\n",
       "      <td id=\"T_31c7f_row10_col3\" class=\"data row10 col3\" >0.575000</td>\n",
       "      <td id=\"T_31c7f_row10_col4\" class=\"data row10 col4\" >0.696000</td>\n",
       "      <td id=\"T_31c7f_row10_col5\" class=\"data row10 col5\" >nan</td>\n",
       "    </tr>\n",
       "    <tr>\n",
       "      <th id=\"T_31c7f_level0_row11\" class=\"row_heading level0 row11\" >11</th>\n",
       "      <td id=\"T_31c7f_row11_col0\" class=\"data row11 col0\" >Логистическая регрессия</td>\n",
       "      <td id=\"T_31c7f_row11_col1\" class=\"data row11 col1\" >Измениние порога классификации</td>\n",
       "      <td id=\"T_31c7f_row11_col2\" class=\"data row11 col2\" >0.484000</td>\n",
       "      <td id=\"T_31c7f_row11_col3\" class=\"data row11 col3\" >0.690000</td>\n",
       "      <td id=\"T_31c7f_row11_col4\" class=\"data row11 col4\" >0.372000</td>\n",
       "      <td id=\"T_31c7f_row11_col5\" class=\"data row11 col5\" >nan</td>\n",
       "    </tr>\n",
       "  </tbody>\n",
       "</table>\n"
      ],
      "text/plain": [
       "<pandas.io.formats.style.Styler at 0x7fb687de66d0>"
      ]
     },
     "execution_count": 98,
     "metadata": {},
     "output_type": "execute_result"
    }
   ],
   "source": [
    "research_result.style.highlight_max(subset=['F1'], color='lightgreen', axis=0)"
   ]
  },
  {
   "cell_type": "markdown",
   "metadata": {},
   "source": [
    "Лучше всех себя показал upsampling: дерево решений и случайный лес получили с ним максимальные F1-меры, логистическая регрессия — почти максимальную.\n",
    "\n",
    "Также upsampling дал наиболее сбалансированную пару recall и precision для всех моделей. Модели, обученные на данных с другой обработкой дисбаланса, чаще начинали слишком активно записывать клиентов в отток, повышая recall и жертвуя precision. Особенно это заметно на дереве решений и логистической регрессии."
   ]
  },
  {
   "cell_type": "markdown",
   "metadata": {},
   "source": [
    "Еще мы заметили, что наибольший прирост качества от борьбы с дисбалансом получает логистическая регрессия. Скорее всего, это связано с тем, что изначально у нее были самые низкие метрики, сильно отстающие от других моделей. Борьба с дисбалансом сократила это расстояние."
   ]
  },
  {
   "cell_type": "markdown",
   "metadata": {},
   "source": [
    "Однако если мы отсортируем результаты экспериментов по убыванию F1-меры, то увидим, что бОльшую роль все-таки играет архитектура модели, а не исправление дисбаланса.\n",
    "\n",
    "Так, первые три места занимает случайный лес с разными обработками дисбаланса. Вторая тройка мест — за деревом решений. Логистическая регрессия проигрывает лесу и дереву, даже когда обучалась с учетом дисбаланса классов."
   ]
  },
  {
   "cell_type": "code",
   "execution_count": 99,
   "metadata": {},
   "outputs": [
    {
     "data": {
      "text/html": [
       "<div>\n",
       "<style scoped>\n",
       "    .dataframe tbody tr th:only-of-type {\n",
       "        vertical-align: middle;\n",
       "    }\n",
       "\n",
       "    .dataframe tbody tr th {\n",
       "        vertical-align: top;\n",
       "    }\n",
       "\n",
       "    .dataframe thead th {\n",
       "        text-align: right;\n",
       "    }\n",
       "</style>\n",
       "<table border=\"1\" class=\"dataframe\">\n",
       "  <thead>\n",
       "    <tr style=\"text-align: right;\">\n",
       "      <th></th>\n",
       "      <th>Модель</th>\n",
       "      <th>Способ борьбы с дисбалансом</th>\n",
       "      <th>F1</th>\n",
       "      <th>Recall</th>\n",
       "      <th>Precision</th>\n",
       "      <th>ROC AUC</th>\n",
       "    </tr>\n",
       "  </thead>\n",
       "  <tbody>\n",
       "    <tr>\n",
       "      <th>4</th>\n",
       "      <td>Случайный лес</td>\n",
       "      <td>Upsampling</td>\n",
       "      <td>0.645</td>\n",
       "      <td>0.634</td>\n",
       "      <td>0.656</td>\n",
       "      <td>0.857</td>\n",
       "    </tr>\n",
       "    <tr>\n",
       "      <th>7</th>\n",
       "      <td>Случайный лес</td>\n",
       "      <td>Уравновешивание классов</td>\n",
       "      <td>0.635</td>\n",
       "      <td>0.636</td>\n",
       "      <td>0.633</td>\n",
       "      <td>0.858</td>\n",
       "    </tr>\n",
       "    <tr>\n",
       "      <th>10</th>\n",
       "      <td>Случайный лес</td>\n",
       "      <td>Измениние порога классификации</td>\n",
       "      <td>0.630</td>\n",
       "      <td>0.575</td>\n",
       "      <td>0.696</td>\n",
       "      <td>NaN</td>\n",
       "    </tr>\n",
       "    <tr>\n",
       "      <th>9</th>\n",
       "      <td>Дерево решений</td>\n",
       "      <td>Измениние порога классификации</td>\n",
       "      <td>0.599</td>\n",
       "      <td>0.673</td>\n",
       "      <td>0.539</td>\n",
       "      <td>NaN</td>\n",
       "    </tr>\n",
       "    <tr>\n",
       "      <th>3</th>\n",
       "      <td>Дерево решений</td>\n",
       "      <td>Upsampling</td>\n",
       "      <td>0.597</td>\n",
       "      <td>0.671</td>\n",
       "      <td>0.538</td>\n",
       "      <td>0.827</td>\n",
       "    </tr>\n",
       "    <tr>\n",
       "      <th>6</th>\n",
       "      <td>Дерево решений</td>\n",
       "      <td>Уравновешивание классов</td>\n",
       "      <td>0.590</td>\n",
       "      <td>0.759</td>\n",
       "      <td>0.482</td>\n",
       "      <td>0.831</td>\n",
       "    </tr>\n",
       "    <tr>\n",
       "      <th>1</th>\n",
       "      <td>Случайный лес</td>\n",
       "      <td>Нет (данные несбалансированы)</td>\n",
       "      <td>0.579</td>\n",
       "      <td>0.459</td>\n",
       "      <td>0.782</td>\n",
       "      <td>0.853</td>\n",
       "    </tr>\n",
       "    <tr>\n",
       "      <th>0</th>\n",
       "      <td>Дерево решений</td>\n",
       "      <td>Нет (данные несбалансированы)</td>\n",
       "      <td>0.565</td>\n",
       "      <td>0.450</td>\n",
       "      <td>0.759</td>\n",
       "      <td>0.835</td>\n",
       "    </tr>\n",
       "    <tr>\n",
       "      <th>11</th>\n",
       "      <td>Логистическая регрессия</td>\n",
       "      <td>Измениние порога классификации</td>\n",
       "      <td>0.484</td>\n",
       "      <td>0.690</td>\n",
       "      <td>0.372</td>\n",
       "      <td>NaN</td>\n",
       "    </tr>\n",
       "    <tr>\n",
       "      <th>5</th>\n",
       "      <td>Логистическая регрессия</td>\n",
       "      <td>Upsampling</td>\n",
       "      <td>0.481</td>\n",
       "      <td>0.565</td>\n",
       "      <td>0.419</td>\n",
       "      <td>0.760</td>\n",
       "    </tr>\n",
       "    <tr>\n",
       "      <th>8</th>\n",
       "      <td>Логистическая регрессия</td>\n",
       "      <td>Уравновешивание классов</td>\n",
       "      <td>0.477</td>\n",
       "      <td>0.661</td>\n",
       "      <td>0.374</td>\n",
       "      <td>0.761</td>\n",
       "    </tr>\n",
       "    <tr>\n",
       "      <th>2</th>\n",
       "      <td>Логистическая регрессия</td>\n",
       "      <td>Нет (данные несбалансированы)</td>\n",
       "      <td>0.316</td>\n",
       "      <td>0.216</td>\n",
       "      <td>0.587</td>\n",
       "      <td>0.756</td>\n",
       "    </tr>\n",
       "  </tbody>\n",
       "</table>\n",
       "</div>"
      ],
      "text/plain": [
       "                     Модель     Способ борьбы с дисбалансом     F1  Recall  \\\n",
       "4             Случайный лес                      Upsampling  0.645   0.634   \n",
       "7             Случайный лес         Уравновешивание классов  0.635   0.636   \n",
       "10            Случайный лес  Измениние порога классификации  0.630   0.575   \n",
       "9            Дерево решений  Измениние порога классификации  0.599   0.673   \n",
       "3            Дерево решений                      Upsampling  0.597   0.671   \n",
       "6            Дерево решений         Уравновешивание классов  0.590   0.759   \n",
       "1             Случайный лес   Нет (данные несбалансированы)  0.579   0.459   \n",
       "0            Дерево решений   Нет (данные несбалансированы)  0.565   0.450   \n",
       "11  Логистическая регрессия  Измениние порога классификации  0.484   0.690   \n",
       "5   Логистическая регрессия                      Upsampling  0.481   0.565   \n",
       "8   Логистическая регрессия         Уравновешивание классов  0.477   0.661   \n",
       "2   Логистическая регрессия   Нет (данные несбалансированы)  0.316   0.216   \n",
       "\n",
       "    Precision  ROC AUC  \n",
       "4       0.656    0.857  \n",
       "7       0.633    0.858  \n",
       "10      0.696      NaN  \n",
       "9       0.539      NaN  \n",
       "3       0.538    0.827  \n",
       "6       0.482    0.831  \n",
       "1       0.782    0.853  \n",
       "0       0.759    0.835  \n",
       "11      0.372      NaN  \n",
       "5       0.419    0.760  \n",
       "8       0.374    0.761  \n",
       "2       0.587    0.756  "
      ]
     },
     "execution_count": 99,
     "metadata": {},
     "output_type": "execute_result"
    }
   ],
   "source": [
    "research_result.sort_values('F1', ascending=False)"
   ]
  },
  {
   "cell_type": "markdown",
   "metadata": {},
   "source": [
    "## 6. Тестирование лучшей модели<a name=\"6.-Тестирование-лучшей-модели\"></a>"
   ]
  },
  {
   "cell_type": "markdown",
   "metadata": {},
   "source": [
    "В ходе исследования мы выяснили, что лучшая F1-мера у случайного леса, обученного на данных с искусственно увеличенным числом уходящих клиентов. Его и будем использовать для финального тестирования.\n",
    "\n",
    "Для улучшения качества предсказаний на тестовой выборке переобучим модель на сумме тренировочной и валидационной (во время исследования модель обучалась только на трейне)."
   ]
  },
  {
   "cell_type": "code",
   "execution_count": 100,
   "metadata": {},
   "outputs": [
    {
     "data": {
      "text/plain": [
       "RandomForestClassifier(max_depth=12, n_estimators=80, random_state=42)"
      ]
     },
     "execution_count": 100,
     "metadata": {},
     "output_type": "execute_result"
    }
   ],
   "source": [
    "forest_upsamp_best.fit(X_gs_upsamp, y_gs_upsamp)"
   ]
  },
  {
   "cell_type": "markdown",
   "metadata": {},
   "source": [
    "Получим метрики качества предсказаний на тестовой выборке."
   ]
  },
  {
   "cell_type": "code",
   "execution_count": 101,
   "metadata": {},
   "outputs": [
    {
     "data": {
      "text/plain": [
       "{'F1': 0.621, 'Recall': 0.577, 'Precision': 0.671, 'ROC AUC': 0.86}"
      ]
     },
     "execution_count": 101,
     "metadata": {},
     "output_type": "execute_result"
    }
   ],
   "source": [
    "get_metrics(forest_upsamp_best, X_test, y_test)"
   ]
  },
  {
   "cell_type": "markdown",
   "metadata": {},
   "source": [
    "F1-мера оказалась ниже, чем на валидационной выборке, но необходимый порог в 0,59 мы прошли."
   ]
  },
  {
   "cell_type": "code",
   "execution_count": 102,
   "metadata": {},
   "outputs": [
    {
     "data": {
      "image/png": "[encoded data removed]",
      "text/plain": [
       "<Figure size 648x432 with 1 Axes>"
      ]
     },
     "execution_count": 102,
     "metadata": {},
     "output_type": "execute_result"
    }
   ],
   "source": [
    "compare_roc_curves([forest_upsamp_best], X=X_test, y=y_test,\n",
    "                   title='Кривая ошибок на тестовой выборке для лучшей модели \\n(случайно леса, обученного на увеличенной выборке)')"
   ]
  },
  {
   "cell_type": "markdown",
   "metadata": {},
   "source": [
    "Также выведем важность признаков для итоговой модели."
   ]
  },
  {
   "cell_type": "code",
   "execution_count": 103,
   "metadata": {},
   "outputs": [
    {
     "data": {
      "image/png": "[encoded data removed]",
      "text/plain": [
       "<Figure size 576x432 with 1 Axes>"
      ]
     },
     "execution_count": 103,
     "metadata": {},
     "output_type": "execute_result"
    }
   ],
   "source": [
    "plot_feature_importances_graph(forest_upsamp_best)"
   ]
  },
  {
   "cell_type": "markdown",
   "metadata": {},
   "source": [
    "[К содержанию](#Содержание)"
   ]
  }
 ],
 "metadata": {
  "kernelspec": {
   "display_name": "Python 3 (ipykernel)",
   "language": "python",
   "name": "python3"
  },
  "language_info": {
   "codemirror_mode": {
    "name": "ipython",
    "version": 3
   },
   "file_extension": ".py",
   "mimetype": "text/x-python",
   "name": "python",
   "nbconvert_exporter": "python",
   "pygments_lexer": "ipython3",
   "version": "3.9.7"
  },
  "toc": {
   "base_numbering": 1,
   "nav_menu": {},
   "number_sections": false,
   "sideBar": true,
   "skip_h1_title": true,
   "title_cell": "Оглавление",
   "title_sidebar": "Contents",
   "toc_cell": false,
   "toc_position": {
    "height": "calc(100% - 180px)",
    "left": "10px",
    "top": "150px",
    "width": "214.391px"
   },
   "toc_section_display": true,
   "toc_window_display": true
  }
 },
 "nbformat": 4,
 "nbformat_minor": 2
}
