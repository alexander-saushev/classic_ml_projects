{
 "cells": [
  {
   "cell_type": "markdown",
   "metadata": {},
   "source": [
    "# Выбор региона для разработки скважин"
   ]
  },
  {
   "cell_type": "markdown",
   "metadata": {},
   "source": [
    "Мы работаем аналитиками в добывающей компании «ГлавРосГосНефть». Наша задача — выбрать регион, в котором добыча принесет наибольшую выручку. \n",
    "\n",
    "Шаги для выбора локации:\n",
    "\n",
    "1. В каждом регионе собирают характеристики уже разработанных скважин и запасы в них.\n",
    "2. На собранных данных обучают модели, чтобы затем с их помощью оценивать запасы в новых скважинах.\n",
    "3. В регионах ищут новые скважины и оценивают их запасы.\n",
    "4. Выбирают скважины с самым высокими оценками.\n",
    "5. Определяют регион с максимальной суммарной прибылью отобранных скважин.\n",
    "\n",
    "Нам предоставлены характеристики для скважин в трех регионах. Пройдем весь пайплайн выбора региона и определим, где добыча принесет наибольшую прибыль. Возможную прибыль и риски проанализируем с помощью Bootstrap."
   ]
  },
  {
   "cell_type": "markdown",
   "metadata": {},
   "source": [
    "**Условия задачи:**\n",
    "- Для обучения моделей подходит только линейная регрессия (остальные — недостаточно предсказуемые).\n",
    "- При разведке региона исследуют 500 точек, из которых с помощью модели выбирают 200 лучших для разработки.\n",
    "- Бюджет на разработку скважин в регионе — 10 млрд рублей.\n",
    "- При нынешних ценах один баррель сырья приносит 450 рублей дохода. Доход с каждой единицы продукта составляет 450 тыс. рублей, поскольку объём указан в тысячах баррелей.\n",
    "- После оценки рисков нужно оставить лишь те регионы, в которых вероятность убытков меньше 2.5%. Среди них выбирают регион с наибольшей средней прибылью."
   ]
  },
  {
   "cell_type": "markdown",
   "metadata": {},
   "source": [
    "## Содержание<a name=\"Содержание\"></a>"
   ]
  },
  {
   "cell_type": "markdown",
   "metadata": {},
   "source": [
    "1. [Знакомство с данными](#1.-Знакомство-с-данными)\n",
    "\t1. [Первичный анализ данных](#Первичный-анализ-данных)\n",
    "\t2. [Поиск дубликатов](#Поиск-дубликатов)\n",
    "\t3. [Корреляция признаков](#Корреляция-признаков)\n",
    "2. [Подготовка данных](#2.-Подготовка-данных)\n",
    "\t1. [Разбиение на тренировочные и валидационные выборки](#Разбиение-на-тренировочные-и-валидационные-выборки)\n",
    "\t2. [Масштабирование признаков](#Масштабирование-признаков)\n",
    "3. [Сравнение регионов по количеству предсказанных запасов и качеству предсказаний](#3.-Сравнение-регионов-по-количеству-предсказанных-запасов-и-качеству-предсказаний)\n",
    "\t1. [Обучение моделей](#Обучение-моделей)\n",
    "\t2. [Сравнение регионов](#Сравнение-регионов)\n",
    "4. [Расчет прибыли и рисков](#4.-Расчет-прибыли-и-рисков)\n",
    "\t1. [Расчет прибыли от разработки региона](#Расчет-прибыли-от-разработки-региона)\n",
    "\t2. [Bootstrap для многократного моделирования разработки региона](#Bootstrap-для-многократного-моделирования-разработки-региона)\n",
    "\t3. [Доверительный интервал для прибыли](#Доверительный-интервал-для-прибыли)\n",
    "\t4. [Расчет риска убытков от разработки региона](#Расчет-риска-убытков-от-разработки-региона)\n",
    "\t5. [Сравнение регионов](#Сравнение-регионов-2)"
   ]
  },
  {
   "cell_type": "markdown",
   "metadata": {},
   "source": [
    "## 0. Импорт библиотек"
   ]
  },
  {
   "cell_type": "code",
   "execution_count": 1,
   "metadata": {},
   "outputs": [],
   "source": [
    "import pandas as pd\n",
    "import numpy as np\n",
    "\n",
    "import matplotlib.pyplot as plt\n",
    "import seaborn as sns\n",
    "\n",
    "from sklearn.preprocessing import StandardScaler\n",
    "from sklearn.model_selection import train_test_split\n",
    "\n",
    "from sklearn.linear_model import LinearRegression\n",
    "\n",
    "from sklearn.metrics import mean_squared_error\n",
    "from sklearn.metrics import r2_score"
   ]
  },
  {
   "cell_type": "code",
   "execution_count": 2,
   "metadata": {},
   "outputs": [],
   "source": [
    "sns.set_style('darkgrid')\n",
    "sns.set(font_scale=0.9)"
   ]
  },
  {
   "cell_type": "code",
   "execution_count": 3,
   "metadata": {},
   "outputs": [],
   "source": [
    "SEED = 42\n",
    "RANDOM_STATE = np.random.RandomState(SEED)"
   ]
  },
  {
   "cell_type": "markdown",
   "metadata": {},
   "source": [
    "[К содержанию](#Содержание)"
   ]
  },
  {
   "cell_type": "markdown",
   "metadata": {},
   "source": [
    "## 1. Знакомство с данными<a name=\"1.-Знакомство-с-данными\"></a>"
   ]
  },
  {
   "cell_type": "markdown",
   "metadata": {},
   "source": [
    "### Первичный анализ данных<a name=\"Первичный-анализ-данных\"></a>"
   ]
  },
  {
   "cell_type": "markdown",
   "metadata": {},
   "source": [
    "Сохраним датафреймы с данными о регионах в переменные."
   ]
  },
  {
   "cell_type": "code",
   "execution_count": 4,
   "metadata": {},
   "outputs": [],
   "source": [
    "r1 = pd.read_csv('geo_data_0.csv')\n",
    "r2 = pd.read_csv('geo_data_1.csv')\n",
    "r3 = pd.read_csv('geo_data_2.csv')"
   ]
  },
  {
   "cell_type": "markdown",
   "metadata": {},
   "source": [
    "Посмотрим на общую информацию о данных."
   ]
  },
  {
   "cell_type": "code",
   "execution_count": 5,
   "metadata": {},
   "outputs": [],
   "source": [
    "def show_stats(df, title=''):\n",
    "    print('\\033[1m' + title + '\\033[0m')\n",
    "    display(df.head())\n",
    "    print(df.info())\n",
    "    print(df.describe())"
   ]
  },
  {
   "cell_type": "code",
   "execution_count": 6,
   "metadata": {},
   "outputs": [
    {
     "name": "stdout",
     "output_type": "stream",
     "text": [
      "\u001b[1mРегион 1\u001b[0m\n"
     ]
    },
    {
     "data": {
      "text/html": [
       "<div>\n",
       "<style scoped>\n",
       "    .dataframe tbody tr th:only-of-type {\n",
       "        vertical-align: middle;\n",
       "    }\n",
       "\n",
       "    .dataframe tbody tr th {\n",
       "        vertical-align: top;\n",
       "    }\n",
       "\n",
       "    .dataframe thead th {\n",
       "        text-align: right;\n",
       "    }\n",
       "</style>\n",
       "<table border=\"1\" class=\"dataframe\">\n",
       "  <thead>\n",
       "    <tr style=\"text-align: right;\">\n",
       "      <th></th>\n",
       "      <th>id</th>\n",
       "      <th>f0</th>\n",
       "      <th>f1</th>\n",
       "      <th>f2</th>\n",
       "      <th>product</th>\n",
       "    </tr>\n",
       "  </thead>\n",
       "  <tbody>\n",
       "    <tr>\n",
       "      <th>0</th>\n",
       "      <td>txEyH</td>\n",
       "      <td>0.705745</td>\n",
       "      <td>-0.497823</td>\n",
       "      <td>1.221170</td>\n",
       "      <td>105.280062</td>\n",
       "    </tr>\n",
       "    <tr>\n",
       "      <th>1</th>\n",
       "      <td>2acmU</td>\n",
       "      <td>1.334711</td>\n",
       "      <td>-0.340164</td>\n",
       "      <td>4.365080</td>\n",
       "      <td>73.037750</td>\n",
       "    </tr>\n",
       "    <tr>\n",
       "      <th>2</th>\n",
       "      <td>409Wp</td>\n",
       "      <td>1.022732</td>\n",
       "      <td>0.151990</td>\n",
       "      <td>1.419926</td>\n",
       "      <td>85.265647</td>\n",
       "    </tr>\n",
       "    <tr>\n",
       "      <th>3</th>\n",
       "      <td>iJLyR</td>\n",
       "      <td>-0.032172</td>\n",
       "      <td>0.139033</td>\n",
       "      <td>2.978566</td>\n",
       "      <td>168.620776</td>\n",
       "    </tr>\n",
       "    <tr>\n",
       "      <th>4</th>\n",
       "      <td>Xdl7t</td>\n",
       "      <td>1.988431</td>\n",
       "      <td>0.155413</td>\n",
       "      <td>4.751769</td>\n",
       "      <td>154.036647</td>\n",
       "    </tr>\n",
       "  </tbody>\n",
       "</table>\n",
       "</div>"
      ],
      "text/plain": [
       "      id        f0        f1        f2     product\n",
       "0  txEyH  0.705745 -0.497823  1.221170  105.280062\n",
       "1  2acmU  1.334711 -0.340164  4.365080   73.037750\n",
       "2  409Wp  1.022732  0.151990  1.419926   85.265647\n",
       "3  iJLyR -0.032172  0.139033  2.978566  168.620776\n",
       "4  Xdl7t  1.988431  0.155413  4.751769  154.036647"
      ]
     },
     "metadata": {},
     "output_type": "display_data"
    },
    {
     "name": "stdout",
     "output_type": "stream",
     "text": [
      "<class 'pandas.core.frame.DataFrame'>\n",
      "RangeIndex: 100000 entries, 0 to 99999\n",
      "Data columns (total 5 columns):\n",
      " #   Column   Non-Null Count   Dtype  \n",
      "---  ------   --------------   -----  \n",
      " 0   id       100000 non-null  object \n",
      " 1   f0       100000 non-null  float64\n",
      " 2   f1       100000 non-null  float64\n",
      " 3   f2       100000 non-null  float64\n",
      " 4   product  100000 non-null  float64\n",
      "dtypes: float64(4), object(1)\n",
      "memory usage: 3.8+ MB\n",
      "None\n",
      "                  f0             f1             f2        product\n",
      "count  100000.000000  100000.000000  100000.000000  100000.000000\n",
      "mean        0.500419       0.250143       2.502647      92.500000\n",
      "std         0.871832       0.504433       3.248248      44.288691\n",
      "min        -1.408605      -0.848218     -12.088328       0.000000\n",
      "25%        -0.072580      -0.200881       0.287748      56.497507\n",
      "50%         0.502360       0.250252       2.515969      91.849972\n",
      "75%         1.073581       0.700646       4.715088     128.564089\n",
      "max         2.362331       1.343769      16.003790     185.364347\n"
     ]
    }
   ],
   "source": [
    "show_stats(r1, 'Регион 1')"
   ]
  },
  {
   "cell_type": "code",
   "execution_count": 7,
   "metadata": {},
   "outputs": [
    {
     "name": "stdout",
     "output_type": "stream",
     "text": [
      "\u001b[1mРегион 2\u001b[0m\n"
     ]
    },
    {
     "data": {
      "text/html": [
       "<div>\n",
       "<style scoped>\n",
       "    .dataframe tbody tr th:only-of-type {\n",
       "        vertical-align: middle;\n",
       "    }\n",
       "\n",
       "    .dataframe tbody tr th {\n",
       "        vertical-align: top;\n",
       "    }\n",
       "\n",
       "    .dataframe thead th {\n",
       "        text-align: right;\n",
       "    }\n",
       "</style>\n",
       "<table border=\"1\" class=\"dataframe\">\n",
       "  <thead>\n",
       "    <tr style=\"text-align: right;\">\n",
       "      <th></th>\n",
       "      <th>id</th>\n",
       "      <th>f0</th>\n",
       "      <th>f1</th>\n",
       "      <th>f2</th>\n",
       "      <th>product</th>\n",
       "    </tr>\n",
       "  </thead>\n",
       "  <tbody>\n",
       "    <tr>\n",
       "      <th>0</th>\n",
       "      <td>kBEdx</td>\n",
       "      <td>-15.001348</td>\n",
       "      <td>-8.276000</td>\n",
       "      <td>-0.005876</td>\n",
       "      <td>3.179103</td>\n",
       "    </tr>\n",
       "    <tr>\n",
       "      <th>1</th>\n",
       "      <td>62mP7</td>\n",
       "      <td>14.272088</td>\n",
       "      <td>-3.475083</td>\n",
       "      <td>0.999183</td>\n",
       "      <td>26.953261</td>\n",
       "    </tr>\n",
       "    <tr>\n",
       "      <th>2</th>\n",
       "      <td>vyE1P</td>\n",
       "      <td>6.263187</td>\n",
       "      <td>-5.948386</td>\n",
       "      <td>5.001160</td>\n",
       "      <td>134.766305</td>\n",
       "    </tr>\n",
       "    <tr>\n",
       "      <th>3</th>\n",
       "      <td>KcrkZ</td>\n",
       "      <td>-13.081196</td>\n",
       "      <td>-11.506057</td>\n",
       "      <td>4.999415</td>\n",
       "      <td>137.945408</td>\n",
       "    </tr>\n",
       "    <tr>\n",
       "      <th>4</th>\n",
       "      <td>AHL4O</td>\n",
       "      <td>12.702195</td>\n",
       "      <td>-8.147433</td>\n",
       "      <td>5.004363</td>\n",
       "      <td>134.766305</td>\n",
       "    </tr>\n",
       "  </tbody>\n",
       "</table>\n",
       "</div>"
      ],
      "text/plain": [
       "      id         f0         f1        f2     product\n",
       "0  kBEdx -15.001348  -8.276000 -0.005876    3.179103\n",
       "1  62mP7  14.272088  -3.475083  0.999183   26.953261\n",
       "2  vyE1P   6.263187  -5.948386  5.001160  134.766305\n",
       "3  KcrkZ -13.081196 -11.506057  4.999415  137.945408\n",
       "4  AHL4O  12.702195  -8.147433  5.004363  134.766305"
      ]
     },
     "metadata": {},
     "output_type": "display_data"
    },
    {
     "name": "stdout",
     "output_type": "stream",
     "text": [
      "<class 'pandas.core.frame.DataFrame'>\n",
      "RangeIndex: 100000 entries, 0 to 99999\n",
      "Data columns (total 5 columns):\n",
      " #   Column   Non-Null Count   Dtype  \n",
      "---  ------   --------------   -----  \n",
      " 0   id       100000 non-null  object \n",
      " 1   f0       100000 non-null  float64\n",
      " 2   f1       100000 non-null  float64\n",
      " 3   f2       100000 non-null  float64\n",
      " 4   product  100000 non-null  float64\n",
      "dtypes: float64(4), object(1)\n",
      "memory usage: 3.8+ MB\n",
      "None\n",
      "                  f0             f1             f2        product\n",
      "count  100000.000000  100000.000000  100000.000000  100000.000000\n",
      "mean        1.141296      -4.796579       2.494541      68.825000\n",
      "std         8.965932       5.119872       1.703572      45.944423\n",
      "min       -31.609576     -26.358598      -0.018144       0.000000\n",
      "25%        -6.298551      -8.267985       1.000021      26.953261\n",
      "50%         1.153055      -4.813172       2.011479      57.085625\n",
      "75%         8.621015      -1.332816       3.999904     107.813044\n",
      "max        29.421755      18.734063       5.019721     137.945408\n"
     ]
    }
   ],
   "source": [
    "show_stats(r2, 'Регион 2')"
   ]
  },
  {
   "cell_type": "code",
   "execution_count": 8,
   "metadata": {},
   "outputs": [
    {
     "name": "stdout",
     "output_type": "stream",
     "text": [
      "\u001b[1mРегион 3\u001b[0m\n"
     ]
    },
    {
     "data": {
      "text/html": [
       "<div>\n",
       "<style scoped>\n",
       "    .dataframe tbody tr th:only-of-type {\n",
       "        vertical-align: middle;\n",
       "    }\n",
       "\n",
       "    .dataframe tbody tr th {\n",
       "        vertical-align: top;\n",
       "    }\n",
       "\n",
       "    .dataframe thead th {\n",
       "        text-align: right;\n",
       "    }\n",
       "</style>\n",
       "<table border=\"1\" class=\"dataframe\">\n",
       "  <thead>\n",
       "    <tr style=\"text-align: right;\">\n",
       "      <th></th>\n",
       "      <th>id</th>\n",
       "      <th>f0</th>\n",
       "      <th>f1</th>\n",
       "      <th>f2</th>\n",
       "      <th>product</th>\n",
       "    </tr>\n",
       "  </thead>\n",
       "  <tbody>\n",
       "    <tr>\n",
       "      <th>0</th>\n",
       "      <td>fwXo0</td>\n",
       "      <td>-1.146987</td>\n",
       "      <td>0.963328</td>\n",
       "      <td>-0.828965</td>\n",
       "      <td>27.758673</td>\n",
       "    </tr>\n",
       "    <tr>\n",
       "      <th>1</th>\n",
       "      <td>WJtFt</td>\n",
       "      <td>0.262778</td>\n",
       "      <td>0.269839</td>\n",
       "      <td>-2.530187</td>\n",
       "      <td>56.069697</td>\n",
       "    </tr>\n",
       "    <tr>\n",
       "      <th>2</th>\n",
       "      <td>ovLUW</td>\n",
       "      <td>0.194587</td>\n",
       "      <td>0.289035</td>\n",
       "      <td>-5.586433</td>\n",
       "      <td>62.871910</td>\n",
       "    </tr>\n",
       "    <tr>\n",
       "      <th>3</th>\n",
       "      <td>q6cA6</td>\n",
       "      <td>2.236060</td>\n",
       "      <td>-0.553760</td>\n",
       "      <td>0.930038</td>\n",
       "      <td>114.572842</td>\n",
       "    </tr>\n",
       "    <tr>\n",
       "      <th>4</th>\n",
       "      <td>WPMUX</td>\n",
       "      <td>-0.515993</td>\n",
       "      <td>1.716266</td>\n",
       "      <td>5.899011</td>\n",
       "      <td>149.600746</td>\n",
       "    </tr>\n",
       "  </tbody>\n",
       "</table>\n",
       "</div>"
      ],
      "text/plain": [
       "      id        f0        f1        f2     product\n",
       "0  fwXo0 -1.146987  0.963328 -0.828965   27.758673\n",
       "1  WJtFt  0.262778  0.269839 -2.530187   56.069697\n",
       "2  ovLUW  0.194587  0.289035 -5.586433   62.871910\n",
       "3  q6cA6  2.236060 -0.553760  0.930038  114.572842\n",
       "4  WPMUX -0.515993  1.716266  5.899011  149.600746"
      ]
     },
     "metadata": {},
     "output_type": "display_data"
    },
    {
     "name": "stdout",
     "output_type": "stream",
     "text": [
      "<class 'pandas.core.frame.DataFrame'>\n",
      "RangeIndex: 100000 entries, 0 to 99999\n",
      "Data columns (total 5 columns):\n",
      " #   Column   Non-Null Count   Dtype  \n",
      "---  ------   --------------   -----  \n",
      " 0   id       100000 non-null  object \n",
      " 1   f0       100000 non-null  float64\n",
      " 2   f1       100000 non-null  float64\n",
      " 3   f2       100000 non-null  float64\n",
      " 4   product  100000 non-null  float64\n",
      "dtypes: float64(4), object(1)\n",
      "memory usage: 3.8+ MB\n",
      "None\n",
      "                  f0             f1             f2        product\n",
      "count  100000.000000  100000.000000  100000.000000  100000.000000\n",
      "mean        0.002023      -0.002081       2.495128      95.000000\n",
      "std         1.732045       1.730417       3.473445      44.749921\n",
      "min        -8.760004      -7.084020     -11.970335       0.000000\n",
      "25%        -1.162288      -1.174820       0.130359      59.450441\n",
      "50%         0.009424      -0.009482       2.484236      94.925613\n",
      "75%         1.158535       1.163678       4.858794     130.595027\n",
      "max         7.238262       7.844801      16.739402     190.029838\n"
     ]
    }
   ],
   "source": [
    "show_stats(r3, 'Регион 3')"
   ]
  },
  {
   "cell_type": "markdown",
   "metadata": {},
   "source": [
    "Каждый объект в `r1`, `r2` и `r3` — это информация о скважине в соответствующем регионе. Известно:\n",
    "- id — уникальный идентификатор скважины;\n",
    "- f0, f1, f2 — три признака точек (неважно, что они означают, но сами признаки значимы);\n",
    "- product — объем запасов в скважине (тыс. баррелей)."
   ]
  },
  {
   "cell_type": "markdown",
   "metadata": {},
   "source": [
    "Изучив информацию выше, мы можем сказать, что с данными почти все хорошо:\n",
    "* у признаков понятные названия, которые правильно записаны, \n",
    "* в таблицах нет пропусков,\n",
    "* у столбцов правильные типы данных.\n",
    "\n",
    "Однако по таблицам со статистиками по данным видно, что у признаков `f0`, `f1`, `f2` разные масштабы. Это плохо, потому что признакам с меньшим масштабом линейная регрессия будет ставить бОльшие коэффициенты. Из-за этого мы не сможем корректно определить важность признаков.\n",
    "\n",
    "Масштабируем признаки позже."
   ]
  },
  {
   "cell_type": "markdown",
   "metadata": {},
   "source": [
    "### Поиск дубликатов<a name=\"Поиск-дубликатов\"></a>"
   ]
  },
  {
   "cell_type": "markdown",
   "metadata": {},
   "source": [
    "Проверим, есть ли в данных дубликаты."
   ]
  },
  {
   "cell_type": "code",
   "execution_count": 9,
   "metadata": {},
   "outputs": [
    {
     "data": {
      "text/plain": [
       "0"
      ]
     },
     "execution_count": 9,
     "metadata": {},
     "output_type": "execute_result"
    }
   ],
   "source": [
    "r1.duplicated().sum()"
   ]
  },
  {
   "cell_type": "code",
   "execution_count": 10,
   "metadata": {},
   "outputs": [
    {
     "data": {
      "text/plain": [
       "0"
      ]
     },
     "execution_count": 10,
     "metadata": {},
     "output_type": "execute_result"
    }
   ],
   "source": [
    "r2.duplicated().sum()"
   ]
  },
  {
   "cell_type": "code",
   "execution_count": 11,
   "metadata": {},
   "outputs": [
    {
     "data": {
      "text/plain": [
       "0"
      ]
     },
     "execution_count": 11,
     "metadata": {},
     "output_type": "execute_result"
    }
   ],
   "source": [
    "r3.duplicated().sum()"
   ]
  },
  {
   "cell_type": "markdown",
   "metadata": {},
   "source": [
    "В датафреймах нет дубликатов."
   ]
  },
  {
   "cell_type": "markdown",
   "metadata": {},
   "source": [
    "### Корреляция признаков<a name=\"Корреляция-признаков\"></a>"
   ]
  },
  {
   "cell_type": "markdown",
   "metadata": {},
   "source": [
    "По требованиям к задаче для предсказания запасов мы можем использовать только линейные модели. Они плохо работает, если есть независимые коррелирующие признаки. Поэтому проверим, как между собой коррелируют признаки в разных регионах."
   ]
  },
  {
   "cell_type": "code",
   "execution_count": 12,
   "metadata": {},
   "outputs": [
    {
     "data": {
      "image/png": "[encoded data removed]",
      "text/plain": [
       "<Figure size 1152x360 with 3 Axes>"
      ]
     },
     "metadata": {},
     "output_type": "display_data"
    }
   ],
   "source": [
    "corr_graph, ax = plt.subplots(1,3, figsize = (16, 5))\n",
    "corr_graph.suptitle('Корреляция признаков с запасами в скважинах по регионам', fontsize=15, y=1.05) \n",
    "for i, r in zip(range(3), [r1, r2, r3]):\n",
    "    matrix = r.corr()\n",
    "    sns.heatmap(matrix, ax=ax[i], linewidths=0.5, annot=True, cbar=False)\n",
    "    ax[i].set_title('Регион ' + str(i+1), pad=10, fontsize=13)"
   ]
  },
  {
   "cell_type": "markdown",
   "metadata": {},
   "source": [
    "**Регион 1**\n",
    "\n",
    "Сильнее всего с целевой переменной (объем скважины) коррелирует признак `f2`: корреляция прямая, коэффициент равен 0,48.\n",
    "\n",
    "Также видна сильная обратная корреляция между признаками f0 и f1 — коэффициент равен -0,44. Однако она не настолько большая, чтобы избавляться от одного из признаков или применять регуляризацию."
   ]
  },
  {
   "cell_type": "markdown",
   "metadata": {},
   "source": [
    "**Регион 2**\n",
    "\n",
    "В этом регионе запасы скважины сильно зависят от признака f2. Коэффициент корреляции с ним равен 1 — это максимальное значение.\n",
    "\n",
    "Между собой независимые признаки почти не коррелируют. Выдеялется пара f0 и f1, но коэффициент маленький — 0,18."
   ]
  },
  {
   "cell_type": "markdown",
   "metadata": {},
   "source": [
    "**Регион 3**\n",
    "\n",
    "Так же, как и во втором регионе, объем запасов больше всего зависит от признака f2. Но здесь корреляция гораздо слабее, коэффициент равен 0,45.\n",
    "\n",
    "Корреляций между независимыми признаками нет."
   ]
  },
  {
   "cell_type": "markdown",
   "metadata": {},
   "source": [
    "[К содержанию](#Содержание)"
   ]
  },
  {
   "cell_type": "markdown",
   "metadata": {},
   "source": [
    "## 2. Подготовка данных<a name=\"2.-Подготовка-данных\"></a>"
   ]
  },
  {
   "cell_type": "markdown",
   "metadata": {},
   "source": [
    "### Разбиение на тренировочные и валидационные выборки<a name=\"Разбиение-на-тренировочные-и-валидационные-выборки\"></a>"
   ]
  },
  {
   "cell_type": "markdown",
   "metadata": {},
   "source": [
    "Перед обучением выделим из датафреймов целевой признак и поделим их на обучающие и валидационные выборки."
   ]
  },
  {
   "cell_type": "code",
   "execution_count": 13,
   "metadata": {},
   "outputs": [],
   "source": [
    "def split_for_training(df):\n",
    "    \"\"\"Функция для разбиения данных по региону на тренировочную и валидационную выборки\"\"\"\n",
    "    X = df.drop(['id', 'product'], axis=1)\n",
    "    y = df['product']\n",
    "    \n",
    "    X_train, X_val, y_train, y_val = \\\n",
    "        train_test_split(X, y, test_size=0.25, random_state=SEED)\n",
    "    \n",
    "    return X_train, X_val, y_train, y_val"
   ]
  },
  {
   "cell_type": "code",
   "execution_count": 14,
   "metadata": {},
   "outputs": [],
   "source": [
    "def check_split(X, X_train, X_val):\n",
    "    \"\"\"Функция для проверки корректности разбиение данных по региону на выборки\"\"\"\n",
    "    samps = pd.Series(['Полная', 'Тренировочная', 'Валидационная'])\n",
    "    samps_sizes = pd.Series([len(X), len(X_train), len(X_val)])\n",
    "    samps_shares = pd.Series([len(X)/len(X), len(X_train)/len(X), len(X_val)/len(X)])\n",
    "    \n",
    "    res = pd.concat([samps, samps_sizes, samps_shares], axis=1)\n",
    "    res.columns = ['Выборка', 'Размер', 'Доля от полной']\n",
    "    \n",
    "    return res"
   ]
  },
  {
   "cell_type": "markdown",
   "metadata": {},
   "source": [
    "#### Регион 1"
   ]
  },
  {
   "cell_type": "code",
   "execution_count": 15,
   "metadata": {},
   "outputs": [],
   "source": [
    "r1_X_train, r1_X_val, r1_y_train, r1_y_val = split_for_training(r1)"
   ]
  },
  {
   "cell_type": "code",
   "execution_count": 16,
   "metadata": {},
   "outputs": [
    {
     "data": {
      "text/html": [
       "<div>\n",
       "<style scoped>\n",
       "    .dataframe tbody tr th:only-of-type {\n",
       "        vertical-align: middle;\n",
       "    }\n",
       "\n",
       "    .dataframe tbody tr th {\n",
       "        vertical-align: top;\n",
       "    }\n",
       "\n",
       "    .dataframe thead th {\n",
       "        text-align: right;\n",
       "    }\n",
       "</style>\n",
       "<table border=\"1\" class=\"dataframe\">\n",
       "  <thead>\n",
       "    <tr style=\"text-align: right;\">\n",
       "      <th></th>\n",
       "      <th>Выборка</th>\n",
       "      <th>Размер</th>\n",
       "      <th>Доля от полной</th>\n",
       "    </tr>\n",
       "  </thead>\n",
       "  <tbody>\n",
       "    <tr>\n",
       "      <th>0</th>\n",
       "      <td>Полная</td>\n",
       "      <td>100000</td>\n",
       "      <td>1.00</td>\n",
       "    </tr>\n",
       "    <tr>\n",
       "      <th>1</th>\n",
       "      <td>Тренировочная</td>\n",
       "      <td>75000</td>\n",
       "      <td>0.75</td>\n",
       "    </tr>\n",
       "    <tr>\n",
       "      <th>2</th>\n",
       "      <td>Валидационная</td>\n",
       "      <td>25000</td>\n",
       "      <td>0.25</td>\n",
       "    </tr>\n",
       "  </tbody>\n",
       "</table>\n",
       "</div>"
      ],
      "text/plain": [
       "         Выборка  Размер  Доля от полной\n",
       "0         Полная  100000            1.00\n",
       "1  Тренировочная   75000            0.75\n",
       "2  Валидационная   25000            0.25"
      ]
     },
     "execution_count": 16,
     "metadata": {},
     "output_type": "execute_result"
    }
   ],
   "source": [
    "check_split(r1, r1_X_train, r1_X_val)"
   ]
  },
  {
   "cell_type": "markdown",
   "metadata": {},
   "source": [
    "#### Регион 2"
   ]
  },
  {
   "cell_type": "code",
   "execution_count": 17,
   "metadata": {},
   "outputs": [],
   "source": [
    "r2_X_train, r2_X_val, r2_y_train, r2_y_val = split_for_training(r2)"
   ]
  },
  {
   "cell_type": "code",
   "execution_count": 18,
   "metadata": {},
   "outputs": [
    {
     "data": {
      "text/html": [
       "<div>\n",
       "<style scoped>\n",
       "    .dataframe tbody tr th:only-of-type {\n",
       "        vertical-align: middle;\n",
       "    }\n",
       "\n",
       "    .dataframe tbody tr th {\n",
       "        vertical-align: top;\n",
       "    }\n",
       "\n",
       "    .dataframe thead th {\n",
       "        text-align: right;\n",
       "    }\n",
       "</style>\n",
       "<table border=\"1\" class=\"dataframe\">\n",
       "  <thead>\n",
       "    <tr style=\"text-align: right;\">\n",
       "      <th></th>\n",
       "      <th>Выборка</th>\n",
       "      <th>Размер</th>\n",
       "      <th>Доля от полной</th>\n",
       "    </tr>\n",
       "  </thead>\n",
       "  <tbody>\n",
       "    <tr>\n",
       "      <th>0</th>\n",
       "      <td>Полная</td>\n",
       "      <td>100000</td>\n",
       "      <td>1.00</td>\n",
       "    </tr>\n",
       "    <tr>\n",
       "      <th>1</th>\n",
       "      <td>Тренировочная</td>\n",
       "      <td>75000</td>\n",
       "      <td>0.75</td>\n",
       "    </tr>\n",
       "    <tr>\n",
       "      <th>2</th>\n",
       "      <td>Валидационная</td>\n",
       "      <td>25000</td>\n",
       "      <td>0.25</td>\n",
       "    </tr>\n",
       "  </tbody>\n",
       "</table>\n",
       "</div>"
      ],
      "text/plain": [
       "         Выборка  Размер  Доля от полной\n",
       "0         Полная  100000            1.00\n",
       "1  Тренировочная   75000            0.75\n",
       "2  Валидационная   25000            0.25"
      ]
     },
     "execution_count": 18,
     "metadata": {},
     "output_type": "execute_result"
    }
   ],
   "source": [
    "check_split(r2, r2_X_train, r2_X_val)"
   ]
  },
  {
   "cell_type": "markdown",
   "metadata": {},
   "source": [
    "#### Регион 3"
   ]
  },
  {
   "cell_type": "code",
   "execution_count": 19,
   "metadata": {},
   "outputs": [],
   "source": [
    "r3_X_train, r3_X_val, r3_y_train, r3_y_val = split_for_training(r3)"
   ]
  },
  {
   "cell_type": "code",
   "execution_count": 20,
   "metadata": {},
   "outputs": [
    {
     "data": {
      "text/html": [
       "<div>\n",
       "<style scoped>\n",
       "    .dataframe tbody tr th:only-of-type {\n",
       "        vertical-align: middle;\n",
       "    }\n",
       "\n",
       "    .dataframe tbody tr th {\n",
       "        vertical-align: top;\n",
       "    }\n",
       "\n",
       "    .dataframe thead th {\n",
       "        text-align: right;\n",
       "    }\n",
       "</style>\n",
       "<table border=\"1\" class=\"dataframe\">\n",
       "  <thead>\n",
       "    <tr style=\"text-align: right;\">\n",
       "      <th></th>\n",
       "      <th>Выборка</th>\n",
       "      <th>Размер</th>\n",
       "      <th>Доля от полной</th>\n",
       "    </tr>\n",
       "  </thead>\n",
       "  <tbody>\n",
       "    <tr>\n",
       "      <th>0</th>\n",
       "      <td>Полная</td>\n",
       "      <td>100000</td>\n",
       "      <td>1.00</td>\n",
       "    </tr>\n",
       "    <tr>\n",
       "      <th>1</th>\n",
       "      <td>Тренировочная</td>\n",
       "      <td>75000</td>\n",
       "      <td>0.75</td>\n",
       "    </tr>\n",
       "    <tr>\n",
       "      <th>2</th>\n",
       "      <td>Валидационная</td>\n",
       "      <td>25000</td>\n",
       "      <td>0.25</td>\n",
       "    </tr>\n",
       "  </tbody>\n",
       "</table>\n",
       "</div>"
      ],
      "text/plain": [
       "         Выборка  Размер  Доля от полной\n",
       "0         Полная  100000            1.00\n",
       "1  Тренировочная   75000            0.75\n",
       "2  Валидационная   25000            0.25"
      ]
     },
     "execution_count": 20,
     "metadata": {},
     "output_type": "execute_result"
    }
   ],
   "source": [
    "check_split(r3, r3_X_train, r3_X_val)"
   ]
  },
  {
   "cell_type": "markdown",
   "metadata": {},
   "source": [
    " Все выборки для всех регионов поделены корректно."
   ]
  },
  {
   "cell_type": "markdown",
   "metadata": {},
   "source": [
    "### Масштабирование признаков<a name=\"Масштабирование-признаков\"></a>"
   ]
  },
  {
   "cell_type": "markdown",
   "metadata": {},
   "source": [
    "При знакомстве с данными мы обнаружили, что у независимых признаков разный масштаб: они имеют сильно различающиеся средние и стандартные отклонения. Линейная регрессия плохо работает с такими данными.\n",
    "\n",
    "Стандартизируем признаки, то есть приведем их к распредлению со средним 0 и дисперсией 1."
   ]
  },
  {
   "cell_type": "code",
   "execution_count": 21,
   "metadata": {},
   "outputs": [],
   "source": [
    "def scale_train_val(X_train, X_val):\n",
    "    \"\"\"\n",
    "    Функция для стандартизации обучающей и валидационной выборок.\n",
    "    \n",
    "    Стандартизатор «учится» (рассчитывает среднее и дисперсию) на тренировочной выборке.\n",
    "    Затем мы прогоняем через него и тренировочную, валидационную выборки.\n",
    "    \"\"\"\n",
    "    scaler = StandardScaler()\n",
    "    scaler.fit(X_train)\n",
    "    \n",
    "    X_train_scaled = scaler.transform(X_train)\n",
    "    X_val_scaled = scaler.transform(X_val)\n",
    "    \n",
    "    X_train_scaled = pd.DataFrame(X_train_scaled, columns=X_train.columns)\n",
    "    X_val_scaled = pd.DataFrame(X_val_scaled, columns=X_val.columns)\n",
    "    \n",
    "    return X_train_scaled, X_val_scaled"
   ]
  },
  {
   "cell_type": "markdown",
   "metadata": {},
   "source": [
    "#### Регион 1"
   ]
  },
  {
   "cell_type": "code",
   "execution_count": 22,
   "metadata": {},
   "outputs": [
    {
     "data": {
      "text/html": [
       "<div>\n",
       "<style scoped>\n",
       "    .dataframe tbody tr th:only-of-type {\n",
       "        vertical-align: middle;\n",
       "    }\n",
       "\n",
       "    .dataframe tbody tr th {\n",
       "        vertical-align: top;\n",
       "    }\n",
       "\n",
       "    .dataframe thead th {\n",
       "        text-align: right;\n",
       "    }\n",
       "</style>\n",
       "<table border=\"1\" class=\"dataframe\">\n",
       "  <thead>\n",
       "    <tr style=\"text-align: right;\">\n",
       "      <th></th>\n",
       "      <th>f0</th>\n",
       "      <th>f1</th>\n",
       "      <th>f2</th>\n",
       "    </tr>\n",
       "  </thead>\n",
       "  <tbody>\n",
       "    <tr>\n",
       "      <th>0</th>\n",
       "      <td>1.274786</td>\n",
       "      <td>-0.799739</td>\n",
       "      <td>-0.396677</td>\n",
       "    </tr>\n",
       "    <tr>\n",
       "      <th>1</th>\n",
       "      <td>-1.600689</td>\n",
       "      <td>0.234678</td>\n",
       "      <td>-2.169283</td>\n",
       "    </tr>\n",
       "    <tr>\n",
       "      <th>2</th>\n",
       "      <td>-0.323791</td>\n",
       "      <td>1.436297</td>\n",
       "      <td>1.495425</td>\n",
       "    </tr>\n",
       "    <tr>\n",
       "      <th>3</th>\n",
       "      <td>0.439038</td>\n",
       "      <td>0.830679</td>\n",
       "      <td>0.185881</td>\n",
       "    </tr>\n",
       "    <tr>\n",
       "      <th>4</th>\n",
       "      <td>-1.652805</td>\n",
       "      <td>0.761012</td>\n",
       "      <td>0.111734</td>\n",
       "    </tr>\n",
       "  </tbody>\n",
       "</table>\n",
       "</div>"
      ],
      "text/plain": [
       "         f0        f1        f2\n",
       "0  1.274786 -0.799739 -0.396677\n",
       "1 -1.600689  0.234678 -2.169283\n",
       "2 -0.323791  1.436297  1.495425\n",
       "3  0.439038  0.830679  0.185881\n",
       "4 -1.652805  0.761012  0.111734"
      ]
     },
     "execution_count": 22,
     "metadata": {},
     "output_type": "execute_result"
    }
   ],
   "source": [
    "r1_X_train_scaled, r1_X_val_scaled = scale_train_val(r1_X_train, r1_X_val)\n",
    "r1_X_train_scaled.head()"
   ]
  },
  {
   "cell_type": "markdown",
   "metadata": {},
   "source": [
    "#### Регион 2"
   ]
  },
  {
   "cell_type": "code",
   "execution_count": 23,
   "metadata": {},
   "outputs": [
    {
     "data": {
      "text/html": [
       "<div>\n",
       "<style scoped>\n",
       "    .dataframe tbody tr th:only-of-type {\n",
       "        vertical-align: middle;\n",
       "    }\n",
       "\n",
       "    .dataframe tbody tr th {\n",
       "        vertical-align: top;\n",
       "    }\n",
       "\n",
       "    .dataframe thead th {\n",
       "        text-align: right;\n",
       "    }\n",
       "</style>\n",
       "<table border=\"1\" class=\"dataframe\">\n",
       "  <thead>\n",
       "    <tr style=\"text-align: right;\">\n",
       "      <th></th>\n",
       "      <th>f0</th>\n",
       "      <th>f1</th>\n",
       "      <th>f2</th>\n",
       "    </tr>\n",
       "  </thead>\n",
       "  <tbody>\n",
       "    <tr>\n",
       "      <th>0</th>\n",
       "      <td>0.911229</td>\n",
       "      <td>0.063780</td>\n",
       "      <td>-0.291331</td>\n",
       "    </tr>\n",
       "    <tr>\n",
       "      <th>1</th>\n",
       "      <td>1.640885</td>\n",
       "      <td>1.320793</td>\n",
       "      <td>1.463778</td>\n",
       "    </tr>\n",
       "    <tr>\n",
       "      <th>2</th>\n",
       "      <td>-0.303818</td>\n",
       "      <td>0.859595</td>\n",
       "      <td>0.297952</td>\n",
       "    </tr>\n",
       "    <tr>\n",
       "      <th>3</th>\n",
       "      <td>1.250304</td>\n",
       "      <td>-0.332629</td>\n",
       "      <td>-0.290244</td>\n",
       "    </tr>\n",
       "    <tr>\n",
       "      <th>4</th>\n",
       "      <td>-0.678630</td>\n",
       "      <td>-0.629111</td>\n",
       "      <td>-0.877242</td>\n",
       "    </tr>\n",
       "  </tbody>\n",
       "</table>\n",
       "</div>"
      ],
      "text/plain": [
       "         f0        f1        f2\n",
       "0  0.911229  0.063780 -0.291331\n",
       "1  1.640885  1.320793  1.463778\n",
       "2 -0.303818  0.859595  0.297952\n",
       "3  1.250304 -0.332629 -0.290244\n",
       "4 -0.678630 -0.629111 -0.877242"
      ]
     },
     "execution_count": 23,
     "metadata": {},
     "output_type": "execute_result"
    }
   ],
   "source": [
    "r2_X_train_scaled, r2_X_val_scaled = scale_train_val(r2_X_train, r2_X_val)\n",
    "r2_X_train_scaled.head()"
   ]
  },
  {
   "cell_type": "markdown",
   "metadata": {},
   "source": [
    "#### Регион 3"
   ]
  },
  {
   "cell_type": "code",
   "execution_count": 24,
   "metadata": {},
   "outputs": [
    {
     "data": {
      "text/html": [
       "<div>\n",
       "<style scoped>\n",
       "    .dataframe tbody tr th:only-of-type {\n",
       "        vertical-align: middle;\n",
       "    }\n",
       "\n",
       "    .dataframe tbody tr th {\n",
       "        vertical-align: top;\n",
       "    }\n",
       "\n",
       "    .dataframe thead th {\n",
       "        text-align: right;\n",
       "    }\n",
       "</style>\n",
       "<table border=\"1\" class=\"dataframe\">\n",
       "  <thead>\n",
       "    <tr style=\"text-align: right;\">\n",
       "      <th></th>\n",
       "      <th>f0</th>\n",
       "      <th>f1</th>\n",
       "      <th>f2</th>\n",
       "    </tr>\n",
       "  </thead>\n",
       "  <tbody>\n",
       "    <tr>\n",
       "      <th>0</th>\n",
       "      <td>-0.343864</td>\n",
       "      <td>-1.338311</td>\n",
       "      <td>0.817572</td>\n",
       "    </tr>\n",
       "    <tr>\n",
       "      <th>1</th>\n",
       "      <td>-0.400431</td>\n",
       "      <td>0.993613</td>\n",
       "      <td>-1.102974</td>\n",
       "    </tr>\n",
       "    <tr>\n",
       "      <th>2</th>\n",
       "      <td>1.004849</td>\n",
       "      <td>-0.923485</td>\n",
       "      <td>-0.576264</td>\n",
       "    </tr>\n",
       "    <tr>\n",
       "      <th>3</th>\n",
       "      <td>-0.784031</td>\n",
       "      <td>0.571573</td>\n",
       "      <td>0.914886</td>\n",
       "    </tr>\n",
       "    <tr>\n",
       "      <th>4</th>\n",
       "      <td>0.619771</td>\n",
       "      <td>0.681588</td>\n",
       "      <td>-0.429467</td>\n",
       "    </tr>\n",
       "  </tbody>\n",
       "</table>\n",
       "</div>"
      ],
      "text/plain": [
       "         f0        f1        f2\n",
       "0 -0.343864 -1.338311  0.817572\n",
       "1 -0.400431  0.993613 -1.102974\n",
       "2  1.004849 -0.923485 -0.576264\n",
       "3 -0.784031  0.571573  0.914886\n",
       "4  0.619771  0.681588 -0.429467"
      ]
     },
     "execution_count": 24,
     "metadata": {},
     "output_type": "execute_result"
    }
   ],
   "source": [
    "r3_X_train_scaled, r3_X_val_scaled = scale_train_val(r3_X_train, r3_X_val)\n",
    "r3_X_train_scaled.head()"
   ]
  },
  {
   "cell_type": "markdown",
   "metadata": {},
   "source": [
    "[К содержанию](#Содержание)"
   ]
  },
  {
   "cell_type": "markdown",
   "metadata": {},
   "source": [
    "## 3. Сравнение регионов по количеству предсказанных запасов и качеству предсказаний<a name=\"3.-Сравнение-регионов-по-количеству-предсказанных-запасов-и-качеству-предсказаний\"></a>"
   ]
  },
  {
   "cell_type": "markdown",
   "metadata": {},
   "source": [
    "### Обучение моделей<a name=\"Обучение-моделей\"></a>"
   ]
  },
  {
   "cell_type": "code",
   "execution_count": 25,
   "metadata": {},
   "outputs": [],
   "source": [
    "def linreg_fit(X_train, y_train):\n",
    "    \"\"\"Функция возвращает модель линейной регресии, обученную на переданных в функцию данных.\"\"\"\n",
    "    model = LinearRegression()\n",
    "    model.fit(X_train, y_train)\n",
    "    return model"
   ]
  },
  {
   "cell_type": "markdown",
   "metadata": {},
   "source": [
    "Создадим модели для каждого региона и обучим их на тренировочных выборках. Для обучения будем использовать линейную регрессию, так как остальные методы недостаточно предсказуемые."
   ]
  },
  {
   "cell_type": "markdown",
   "metadata": {},
   "source": [
    "Обучим модели на тренировочных выборках и сделаем предсказания на тестовых."
   ]
  },
  {
   "cell_type": "code",
   "execution_count": 26,
   "metadata": {},
   "outputs": [
    {
     "data": {
      "text/plain": [
       "LinearRegression()"
      ]
     },
     "execution_count": 26,
     "metadata": {},
     "output_type": "execute_result"
    }
   ],
   "source": [
    "r1_model = linreg_fit(r1_X_train_scaled, r1_y_train)\n",
    "r1_model"
   ]
  },
  {
   "cell_type": "code",
   "execution_count": 27,
   "metadata": {},
   "outputs": [
    {
     "data": {
      "text/plain": [
       "LinearRegression()"
      ]
     },
     "execution_count": 27,
     "metadata": {},
     "output_type": "execute_result"
    }
   ],
   "source": [
    "r2_model = linreg_fit(r2_X_train_scaled, r2_y_train)\n",
    "r2_model"
   ]
  },
  {
   "cell_type": "code",
   "execution_count": 28,
   "metadata": {},
   "outputs": [
    {
     "data": {
      "text/plain": [
       "LinearRegression()"
      ]
     },
     "execution_count": 28,
     "metadata": {},
     "output_type": "execute_result"
    }
   ],
   "source": [
    "r3_model = linreg_fit(r3_X_train_scaled, r3_y_train)\n",
    "r3_model"
   ]
  },
  {
   "cell_type": "markdown",
   "metadata": {},
   "source": [
    "### Сравнение регионов<a name=\"Сравнение-регионов\"></a>"
   ]
  },
  {
   "cell_type": "markdown",
   "metadata": {},
   "source": [
    "Сравним регионы по среднему запасу предсказанного сырья и по качеству моделей, которые обучались на данных из регоина."
   ]
  },
  {
   "cell_type": "code",
   "execution_count": 29,
   "metadata": {},
   "outputs": [],
   "source": [
    "def region_reserve_and_model_metrics(model, X, y, title=''):\n",
    "    \"\"\"Функция для определения среднего запаса в скважине и расчета метрик качества предсказаний\"\"\"\n",
    "    preds = model.predict(X)\n",
    "    mean_reserve = preds.mean()\n",
    "    rmse = mean_squared_error(y, preds, squared=False)\n",
    "    \n",
    "    print('\\033[1m' + title + '\\033[0m')\n",
    "    print(f'Средний запас предсказанного сырья: {mean_reserve:.2f} тыс. баррелей')\n",
    "    print(f'RMSE модели: {rmse:.2f} тыс. баррелей')\n",
    "    print(f'Коэффициент детерменации модели: {r2_score(y, preds):.3f}')"
   ]
  },
  {
   "cell_type": "code",
   "execution_count": 30,
   "metadata": {},
   "outputs": [
    {
     "name": "stdout",
     "output_type": "stream",
     "text": [
      "\u001b[1mРегион 1\u001b[0m\n",
      "Средний запас предсказанного сырья: 92.40 тыс. баррелей\n",
      "RMSE модели: 37.76 тыс. баррелей\n",
      "Коэффициент детерменации модели: 0.273\n"
     ]
    }
   ],
   "source": [
    "region_reserve_and_model_metrics(r1_model, r1_X_val_scaled, r1_y_val, 'Регион 1')"
   ]
  },
  {
   "cell_type": "code",
   "execution_count": 31,
   "metadata": {},
   "outputs": [
    {
     "name": "stdout",
     "output_type": "stream",
     "text": [
      "\u001b[1mРегион 2\u001b[0m\n",
      "Средний запас предсказанного сырья: 68.71 тыс. баррелей\n",
      "RMSE модели: 0.89 тыс. баррелей\n",
      "Коэффициент детерменации модели: 1.000\n"
     ]
    }
   ],
   "source": [
    "region_reserve_and_model_metrics(r2_model, r2_X_val_scaled, r2_y_val, 'Регион 2')"
   ]
  },
  {
   "cell_type": "code",
   "execution_count": 32,
   "metadata": {},
   "outputs": [
    {
     "name": "stdout",
     "output_type": "stream",
     "text": [
      "\u001b[1mРегион 3\u001b[0m\n",
      "Средний запас предсказанного сырья: 94.77 тыс. баррелей\n",
      "RMSE модели: 40.15 тыс. баррелей\n",
      "Коэффициент детерменации модели: 0.196\n"
     ]
    }
   ],
   "source": [
    "region_reserve_and_model_metrics(r3_model, r3_X_val_scaled, r3_y_val, 'Регион 3')"
   ]
  },
  {
   "cell_type": "markdown",
   "metadata": {},
   "source": [
    "**Регионы 1 и 3**\n",
    "\n",
    "В первом и третьем регионе модели сделали примерно одинаковые предсказания. Средний предсказанный объем запасов в скважинах получился большим, однако модели плохо поняли данные по регионам. Об этом говорит высокий RMSE (больше 40% от среднего предсказанного объема) и низкий коэффициент детерминации.\n",
    "\n",
    "**Регион 2**\n",
    "\n",
    "Второй регион сильно отличается от первого и третьего. Средний предсказанный объем запасов в нем меньше на 30%, зато предсказания точные: об этом говорят максимальный коэффициент детерминации и низкий RMSE (меньше 1).\n",
    "\n",
    "Скорее всего, такая точность объясняется тем, что во втором регионе запасы в скважинах сильно коррелируют с признаком f2. Коэффициент корреляции равен 1, то есть объем запасов можно предсказать всего по одной переменной."
   ]
  },
  {
   "cell_type": "markdown",
   "metadata": {},
   "source": [
    "[К содержанию](#Содержание)"
   ]
  },
  {
   "cell_type": "markdown",
   "metadata": {},
   "source": [
    "## 4. Расчет прибыли и рисков<a name=\"4.-Расчет-прибыли-и-рисков\"></a>"
   ]
  },
  {
   "cell_type": "markdown",
   "metadata": {},
   "source": [
    "Вспомним, как проходит разведка региона:\n",
    "\n",
    "1. В каждом регионе собирают характеристики уже разработанных скважин и запасы в них.\n",
    "2. На собранных данных обучают модели, чтобы затем с их помощью оценивать запасы в новых скважинах.\n",
    "3. В регионах ищут новые скважины и оценивают их запасы. \n",
    "4. Выбирают скважины с самым высокими оценками.\n",
    "5. Определяют регион с максимальной суммарной прибылью отобранных скважин.\n",
    "\n",
    "Условия разведки:\n",
    "\n",
    "1. При разведке региона исследуют 500 точек, из которых с помощью модели выбирают 200 лучших для разработки.\n",
    "2. Бюджет на разработку скважин в регионе — 10 млрд рублей.\n",
    "3. При нынешних ценах один баррель сырья приносит 450 рублей дохода. Доход с каждой единицы продукта составляет 450 тыс. рублей, поскольку объём указан в тысячах баррелей."
   ]
  },
  {
   "cell_type": "markdown",
   "metadata": {},
   "source": [
    "Первый и второй шаги из пайплайна разведки мы сделали. Теперь смоделируем 3–5.\n",
    "\n",
    "Нам нужно оценить, какую прибыль мы можем получить в каждом регионе, если пройдем в нем весь план разведки. То есть если мы приедем в каждый регион, найдем в нем 500 скважин и разработаем 200 лучших, потратив на это 10 млрд рублей, то какую прибыль с региона после этого всего мы получим?\n",
    "\n",
    "Чтобы ответить на этот вопрос, воспользуемся бутстрэпом: много раз проведем такой эксперимент на валидационной выборке. После всех экспериментов мы получим распределение потенциальной прибыли и сможем рассчитать его среднее (то есть среднюю потенциальную прибыль с региона) и доверительный интервал для прибыли.\n",
    "\n",
    "Также для каждого региона будем оценивать риск убытков — вероятность получить убыток в регионе. Расчитывается как доля отрицательной доходности с региона от всех рассчитанных доходностей."
   ]
  },
  {
   "cell_type": "code",
   "execution_count": 33,
   "metadata": {},
   "outputs": [],
   "source": [
    "N_HOLES = 500\n",
    "N_BEST_HOLES = 200\n",
    "\n",
    "REGION_BUDGET = 10 * 10**9\n",
    "\n",
    "REVENUE_PER_PRODUCT = 450 * 10**3"
   ]
  },
  {
   "cell_type": "markdown",
   "metadata": {},
   "source": [
    "### Расчет прибыли от разработки региона<a name=\"Расчет-прибыли-от-разработки-региона\"></a>"
   ]
  },
  {
   "cell_type": "code",
   "execution_count": 34,
   "metadata": {},
   "outputs": [],
   "source": [
    "def explore_region(X, model, y):\n",
    "    \"\"\"\n",
    "    Функция «симулирует» разведку региона:\n",
    "    1. выбирает 500 случайных скважин;\n",
    "    2. рассчитывает для них потенциальные прибыли на основе предсказаний запасов от модели;\n",
    "    3. выбирает 200 лучших по предсказанию скважин;\n",
    "    4. считает реальный суммарный объем в отобранных скважинах, то есть как будто разрабатывает их;\n",
    "    5. расчитывает прибыль с регоина.\n",
    "    \"\"\"\n",
    "    X_sample = X.sample(n=N_HOLES, replace=True,\n",
    "                        random_state=RANDOM_STATE)\n",
    "    preds = model.predict(X_sample)\n",
    "    preds = pd.Series(preds, index=X_sample.index)\n",
    "    \n",
    "    preds_sorted = preds.sort_values(ascending=False)\n",
    "    preds_best = preds_sorted[:N_BEST_HOLES]\n",
    "    product_best = y[preds_best.index]\n",
    "    \n",
    "    revenue_sum = product_best.sum() * REVENUE_PER_PRODUCT\n",
    "    profit = revenue_sum - REGION_BUDGET\n",
    "    \n",
    "    return profit"
   ]
  },
  {
   "cell_type": "markdown",
   "metadata": {},
   "source": [
    "### Bootstrap для многократного моделирования разработки региона<a name=\"Bootstrap-для-многократного-моделирования-разработки-региона\"></a>"
   ]
  },
  {
   "cell_type": "code",
   "execution_count": 35,
   "metadata": {},
   "outputs": [],
   "source": [
    "def region_bootstrap(X, model, y):\n",
    "    \"\"\"\n",
    "    Функция тысячу раз проводит эксперимент — разведку региона\n",
    "    и возвращает распределение получившихся прибылей.\n",
    "    \"\"\"\n",
    "    # При масштабировании признаков индексы в выборке сбросились.\n",
    "    # Сбросим их у целевых переменных.\n",
    "    y = y.reset_index(drop=True)\n",
    "    profits = []\n",
    "    \n",
    "    for i in range(1000):\n",
    "        profit = explore_region(X, model, y)\n",
    "        profits.append(profit)\n",
    "        \n",
    "    profits = pd.Series(profits)\n",
    "    return profits"
   ]
  },
  {
   "cell_type": "markdown",
   "metadata": {},
   "source": [
    "### Доверительный интервал для прибыли<a name=\"Доверительный-интервал-для-прибыли\"></a>"
   ]
  },
  {
   "cell_type": "code",
   "execution_count": 36,
   "metadata": {},
   "outputs": [],
   "source": [
    "def confidence_interval(values, conf=0.95):\n",
    "    \"\"\"Функция для расчета доверительного интервала для прибыли в регионе\"\"\"\n",
    "    lower = values.quantile((1-conf)/2)\n",
    "    upper = values.quantile(conf + (1-conf)/2)\n",
    "    return lower, upper"
   ]
  },
  {
   "cell_type": "markdown",
   "metadata": {},
   "source": [
    "### Расчет риска убытков от разработки региона<a name=\"Расчет-риска-убытков-от-разработки-региона\"></a>"
   ]
  },
  {
   "cell_type": "code",
   "execution_count": 37,
   "metadata": {},
   "outputs": [],
   "source": [
    "def loss_risk(profits):\n",
    "    \"\"\"Функция для расчета риска получить убыток в регионе\"\"\"\n",
    "    res = (profits < 0).mean()\n",
    "    return res"
   ]
  },
  {
   "cell_type": "markdown",
   "metadata": {},
   "source": [
    "### Сравнение регионов<a name=\"Сравнение-регионов\"></a>"
   ]
  },
  {
   "cell_type": "code",
   "execution_count": 38,
   "metadata": {},
   "outputs": [],
   "source": [
    "def print_region_profit_stats(X, model, y, title=''):\n",
    "    \"\"\"Функция объединяет и выводит данные по потенциальной разведке в регионе\"\"\"\n",
    "    profits = region_bootstrap(X, model, y)\n",
    "    mean_profit = profits.mean()\n",
    "    lower, upper = confidence_interval(profits)\n",
    "    risk = loss_risk(profits)\n",
    "    \n",
    "    print('\\033[1m' + title + '\\033[0m')\n",
    "    print(f'Средняя потенциальная прибыль с региона: {mean_profit / 10**6 :.2f} млн рублей')\n",
    "    print(f'95% доверительный интервал прибыли: от {lower / 10**6 :.2f} до {upper / 10**6 :.2f} млн рублей')\n",
    "    print(f'Риск убытков: {risk:.2%}')"
   ]
  },
  {
   "cell_type": "code",
   "execution_count": 39,
   "metadata": {},
   "outputs": [
    {
     "name": "stdout",
     "output_type": "stream",
     "text": [
      "\u001b[1mРегион 1\u001b[0m\n",
      "Средняя потенциальная прибыль с региона: 399.58 млн рублей\n",
      "95% доверительный интервал прибыли: от -110.47 до 897.46 млн рублей\n",
      "Риск убытков: 6.00%\n"
     ]
    }
   ],
   "source": [
    "print_region_profit_stats(r1_X_val_scaled, r1_model, r1_y_val, 'Регион 1')"
   ]
  },
  {
   "cell_type": "code",
   "execution_count": 40,
   "metadata": {},
   "outputs": [
    {
     "name": "stdout",
     "output_type": "stream",
     "text": [
      "\u001b[1mРегион 2\u001b[0m\n",
      "Средняя потенциальная прибыль с региона: 452.58 млн рублей\n",
      "95% доверительный интервал прибыли: от 52.31 до 830.15 млн рублей\n",
      "Риск убытков: 0.90%\n"
     ]
    }
   ],
   "source": [
    "print_region_profit_stats(r2_X_val_scaled, r2_model, r2_y_val, 'Регион 2')"
   ]
  },
  {
   "cell_type": "code",
   "execution_count": 41,
   "metadata": {},
   "outputs": [
    {
     "name": "stdout",
     "output_type": "stream",
     "text": [
      "\u001b[1mРегион 3\u001b[0m\n",
      "Средняя потенциальная прибыль с региона: 378.71 млн рублей\n",
      "95% доверительный интервал прибыли: от -127.78 до 907.92 млн рублей\n",
      "Риск убытков: 7.50%\n"
     ]
    }
   ],
   "source": [
    "print_region_profit_stats(r3_X_val_scaled, r3_model, r3_y_val, 'Регион 3')"
   ]
  },
  {
   "cell_type": "markdown",
   "metadata": {},
   "source": [
    "По итогам анализа самый привлекательный для разработки регион — второй. В нем самая большая средняя потенциальная прибыль и наименьший риск убытков. Также в его 95% доверительный интервал не входят отрицательные значения. Значит, с вероятностью 95% разработка новых скважин в регионе не будет убыточна."
   ]
  },
  {
   "cell_type": "markdown",
   "metadata": {},
   "source": [
    "[К содержанию](#Содержание)"
   ]
  }
 ],
 "metadata": {
  "kernelspec": {
   "display_name": "Python 3 (ipykernel)",
   "language": "python",
   "name": "python3"
  },
  "language_info": {
   "codemirror_mode": {
    "name": "ipython",
    "version": 3
   },
   "file_extension": ".py",
   "mimetype": "text/x-python",
   "name": "python",
   "nbconvert_exporter": "python",
   "pygments_lexer": "ipython3",
   "version": "3.9.7"
  },
  "toc": {
   "base_numbering": 1,
   "nav_menu": {},
   "number_sections": false,
   "sideBar": true,
   "skip_h1_title": true,
   "title_cell": "Оглавление",
   "title_sidebar": "Contents",
   "toc_cell": false,
   "toc_position": {
    "height": "calc(100% - 180px)",
    "left": "10px",
    "top": "150px",
    "width": "270.391px"
   },
   "toc_section_display": true,
   "toc_window_display": true
  }
 },
 "nbformat": 4,
 "nbformat_minor": 2
}
