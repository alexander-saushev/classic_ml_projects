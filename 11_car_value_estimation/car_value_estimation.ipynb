{
 "cells": [
  {
   "cell_type": "markdown",
   "metadata": {},
   "source": [
    "# Оценка стоимости автомобиля"
   ]
  },
  {
   "cell_type": "markdown",
   "metadata": {},
   "source": [
    "Сервис по продаже автомобилей с пробегом «Не бит, не крашен» разрабатывает приложение для привлечения новых клиентов. В нем можно быстро узнать рыночную стоимость своего автомобиля. В нашем распоряжении исторические данные: технические характеристики, комплектации и цены автомобилей. Нам нужно построить модель для определения стоимости. \n",
    "\n",
    "Заказчику важны:\n",
    "- качество предсказания;\n",
    "- скорость предсказания;\n",
    "- время обучения.\n",
    "\n",
    "\n",
    "Требования к качеству: RMSE должна быть не больше 2500."
   ]
  },
  {
   "cell_type": "markdown",
   "metadata": {},
   "source": [
    "## Содержание<a name=\"Содержание\"></a>\n",
    "\n",
    "1. [Знакомство с данными](#1.-Знакомство-с-данными)\n",
    "2. [Предобработка данных](#2.-Предобработка-данных)\n",
    "\t1. [Удаление признаков, не описывающих автомобиль](#Удаление-признаков,-не-описывающих-автомобиль)\n",
    "\t2. [Обработка пропусков](#Обработка-пропусков)\n",
    "\t3. [Замена типа данных](#Замена-типа-данных)\n",
    "\t4. [Поиск дубликатов](#Поиск-дубликатов)\n",
    "3. [Подготовка данных к обучению](#3.-Подготовка-данных-к-обучению)\n",
    "\t1. [Обработка выбросов](#Обработка-выбросов)\n",
    "\t2. [Порядковое кодирование категориальных признаков](#Порядковое-кодирование-категориальных-признаков)\n",
    "\t3. [Разбиение данных на выборки](#Разбиение-данных-на-выборки)\n",
    "\t4. [Масштабирование численных признаков](#Масштабирование-численных-признаков)\n",
    "4. [Обучение моделей](#4.-Обучение-моделей)\n",
    "\t1. [Линейная регрессия](#Линейная-регрессия)\n",
    "\t2. [Случайный лес](#Случайный-лес)\n",
    "\t3. [Стохастический градиентный спуск](#Стохастический-градиентный-спуск)\n",
    "\t4. [Градиентный бустинг](#Градиентный-бустинг)\n",
    "5. [Сравнение моделей](#5.-Сравнение-моделей)\n",
    "\t1. [Градиентный бустинг и линейные модели](#Градиентный-бустинг-и-линейные-модели)\n",
    "\t2. [Случайный лес и время предсказаний](#Случайный-лес-и-время-предсказаний)\n",
    "\t3. [Вывод](#Вывод)\n",
    "6. [Предсказание для тестовой выборки](#6.-Предсказание-для-тестовой-выборки)"
   ]
  },
  {
   "cell_type": "markdown",
   "metadata": {},
   "source": [
    "## 0. Импорт библиотек"
   ]
  },
  {
   "cell_type": "code",
   "execution_count": 1,
   "metadata": {},
   "outputs": [],
   "source": [
    "import pandas as pd\n",
    "\n",
    "import matplotlib.pyplot as plt\n",
    "import seaborn as sns\n",
    "\n",
    "from sklearn.preprocessing import OrdinalEncoder \n",
    "from sklearn.model_selection import train_test_split\n",
    "from sklearn.preprocessing import StandardScaler\n",
    "\n",
    "from sklearn.model_selection import GridSearchCV\n",
    "\n",
    "from sklearn.metrics import mean_squared_error\n",
    "from sklearn.metrics import make_scorer\n",
    "\n",
    "from sklearn.ensemble import RandomForestRegressor\n",
    "from sklearn.linear_model import LinearRegression\n",
    "from sklearn.linear_model import SGDRegressor\n",
    "from lightgbm import LGBMRegressor"
   ]
  },
  {
   "cell_type": "code",
   "execution_count": 2,
   "metadata": {},
   "outputs": [],
   "source": [
    "pd.options.mode.chained_assignment = None\n",
    "sns.set_style('darkgrid')"
   ]
  },
  {
   "cell_type": "code",
   "execution_count": 3,
   "metadata": {},
   "outputs": [],
   "source": [
    "SEED = 42"
   ]
  },
  {
   "cell_type": "markdown",
   "metadata": {},
   "source": [
    "## 1. Знакомство с данными<a name=\"1.-Знакомство-с-данными\"></a>"
   ]
  },
  {
   "cell_type": "markdown",
   "metadata": {},
   "source": [
    "Сохраним данные в переменную `autos` и посмотрим на общую информацию."
   ]
  },
  {
   "cell_type": "code",
   "execution_count": 4,
   "metadata": {},
   "outputs": [],
   "source": [
    "autos = pd.read_csv('autos.csv')"
   ]
  },
  {
   "cell_type": "code",
   "execution_count": 5,
   "metadata": {},
   "outputs": [
    {
     "name": "stdout",
     "output_type": "stream",
     "text": [
      "\u001b[1mСлучайные строки из таблицы\u001b[0m\n"
     ]
    },
    {
     "data": {
      "text/html": [
       "<div>\n",
       "<style scoped>\n",
       "    .dataframe tbody tr th:only-of-type {\n",
       "        vertical-align: middle;\n",
       "    }\n",
       "\n",
       "    .dataframe tbody tr th {\n",
       "        vertical-align: top;\n",
       "    }\n",
       "\n",
       "    .dataframe thead th {\n",
       "        text-align: right;\n",
       "    }\n",
       "</style>\n",
       "<table border=\"1\" class=\"dataframe\">\n",
       "  <thead>\n",
       "    <tr style=\"text-align: right;\">\n",
       "      <th></th>\n",
       "      <th>DateCrawled</th>\n",
       "      <th>Price</th>\n",
       "      <th>VehicleType</th>\n",
       "      <th>RegistrationYear</th>\n",
       "      <th>Gearbox</th>\n",
       "      <th>Power</th>\n",
       "      <th>Model</th>\n",
       "      <th>Kilometer</th>\n",
       "      <th>RegistrationMonth</th>\n",
       "      <th>FuelType</th>\n",
       "      <th>Brand</th>\n",
       "      <th>NotRepaired</th>\n",
       "      <th>DateCreated</th>\n",
       "      <th>NumberOfPictures</th>\n",
       "      <th>PostalCode</th>\n",
       "      <th>LastSeen</th>\n",
       "    </tr>\n",
       "  </thead>\n",
       "  <tbody>\n",
       "    <tr>\n",
       "      <th>335568</th>\n",
       "      <td>2016-03-25 20:56:07</td>\n",
       "      <td>8200</td>\n",
       "      <td>small</td>\n",
       "      <td>2007</td>\n",
       "      <td>manual</td>\n",
       "      <td>120</td>\n",
       "      <td>cooper</td>\n",
       "      <td>100000</td>\n",
       "      <td>10</td>\n",
       "      <td>petrol</td>\n",
       "      <td>mini</td>\n",
       "      <td>no</td>\n",
       "      <td>2016-03-25 00:00:00</td>\n",
       "      <td>0</td>\n",
       "      <td>45711</td>\n",
       "      <td>2016-04-07 03:17:46</td>\n",
       "    </tr>\n",
       "    <tr>\n",
       "      <th>95399</th>\n",
       "      <td>2016-03-08 09:53:11</td>\n",
       "      <td>1900</td>\n",
       "      <td>bus</td>\n",
       "      <td>2003</td>\n",
       "      <td>manual</td>\n",
       "      <td>86</td>\n",
       "      <td>transit</td>\n",
       "      <td>150000</td>\n",
       "      <td>12</td>\n",
       "      <td>gasoline</td>\n",
       "      <td>ford</td>\n",
       "      <td>no</td>\n",
       "      <td>2016-03-08 00:00:00</td>\n",
       "      <td>0</td>\n",
       "      <td>49584</td>\n",
       "      <td>2016-04-07 12:15:22</td>\n",
       "    </tr>\n",
       "    <tr>\n",
       "      <th>287659</th>\n",
       "      <td>2016-03-27 21:54:15</td>\n",
       "      <td>3400</td>\n",
       "      <td>sedan</td>\n",
       "      <td>1998</td>\n",
       "      <td>manual</td>\n",
       "      <td>102</td>\n",
       "      <td>a4</td>\n",
       "      <td>150000</td>\n",
       "      <td>6</td>\n",
       "      <td>petrol</td>\n",
       "      <td>audi</td>\n",
       "      <td>no</td>\n",
       "      <td>2016-03-27 00:00:00</td>\n",
       "      <td>0</td>\n",
       "      <td>38226</td>\n",
       "      <td>2016-04-05 21:15:40</td>\n",
       "    </tr>\n",
       "    <tr>\n",
       "      <th>194724</th>\n",
       "      <td>2016-03-16 21:46:07</td>\n",
       "      <td>850</td>\n",
       "      <td>small</td>\n",
       "      <td>2000</td>\n",
       "      <td>manual</td>\n",
       "      <td>69</td>\n",
       "      <td>2_reihe</td>\n",
       "      <td>150000</td>\n",
       "      <td>10</td>\n",
       "      <td>gasoline</td>\n",
       "      <td>peugeot</td>\n",
       "      <td>no</td>\n",
       "      <td>2016-03-16 00:00:00</td>\n",
       "      <td>0</td>\n",
       "      <td>77815</td>\n",
       "      <td>2016-03-17 20:46:19</td>\n",
       "    </tr>\n",
       "    <tr>\n",
       "      <th>129272</th>\n",
       "      <td>2016-03-25 09:57:41</td>\n",
       "      <td>2850</td>\n",
       "      <td>NaN</td>\n",
       "      <td>2017</td>\n",
       "      <td>manual</td>\n",
       "      <td>90</td>\n",
       "      <td>NaN</td>\n",
       "      <td>150000</td>\n",
       "      <td>9</td>\n",
       "      <td>petrol</td>\n",
       "      <td>mini</td>\n",
       "      <td>no</td>\n",
       "      <td>2016-03-25 00:00:00</td>\n",
       "      <td>0</td>\n",
       "      <td>56249</td>\n",
       "      <td>2016-03-26 22:29:30</td>\n",
       "    </tr>\n",
       "  </tbody>\n",
       "</table>\n",
       "</div>"
      ],
      "text/plain": [
       "                DateCrawled  Price VehicleType  RegistrationYear Gearbox  \\\n",
       "335568  2016-03-25 20:56:07   8200       small              2007  manual   \n",
       "95399   2016-03-08 09:53:11   1900         bus              2003  manual   \n",
       "287659  2016-03-27 21:54:15   3400       sedan              1998  manual   \n",
       "194724  2016-03-16 21:46:07    850       small              2000  manual   \n",
       "129272  2016-03-25 09:57:41   2850         NaN              2017  manual   \n",
       "\n",
       "        Power    Model  Kilometer  RegistrationMonth  FuelType    Brand  \\\n",
       "335568    120   cooper     100000                 10    petrol     mini   \n",
       "95399      86  transit     150000                 12  gasoline     ford   \n",
       "287659    102       a4     150000                  6    petrol     audi   \n",
       "194724     69  2_reihe     150000                 10  gasoline  peugeot   \n",
       "129272     90      NaN     150000                  9    petrol     mini   \n",
       "\n",
       "       NotRepaired          DateCreated  NumberOfPictures  PostalCode  \\\n",
       "335568          no  2016-03-25 00:00:00                 0       45711   \n",
       "95399           no  2016-03-08 00:00:00                 0       49584   \n",
       "287659          no  2016-03-27 00:00:00                 0       38226   \n",
       "194724          no  2016-03-16 00:00:00                 0       77815   \n",
       "129272          no  2016-03-25 00:00:00                 0       56249   \n",
       "\n",
       "                   LastSeen  \n",
       "335568  2016-04-07 03:17:46  \n",
       "95399   2016-04-07 12:15:22  \n",
       "287659  2016-04-05 21:15:40  \n",
       "194724  2016-03-17 20:46:19  \n",
       "129272  2016-03-26 22:29:30  "
      ]
     },
     "metadata": {},
     "output_type": "display_data"
    }
   ],
   "source": [
    "print('\\033[1m' + 'Случайные строки из таблицы' + '\\033[0m')\n",
    "display(autos.sample(5))"
   ]
  },
  {
   "cell_type": "markdown",
   "metadata": {},
   "source": [
    "Каждый объект в `autos` — это информация о технических характеристиках, комплектации и цене одного из ранее проданных автомобилей. А именно:\n",
    "\n",
    "- *DateCrawled* — дата скачивания анкеты из базы;\n",
    "- *VehicleType* — тип автомобильного кузова;\n",
    "- *RegistrationYear* — год регистрации автомобиля;\n",
    "- *Gearbox* — тип коробки передач;\n",
    "- *Power* — мощность (л. с.);\n",
    "- *Model* — модель автомобиля;\n",
    "- *Kilometer* — пробег (км);\n",
    "- *RegistrationMonth* — месяц регистрации автомобиля;\n",
    "- *FuelType* — тип топлива;\n",
    "- *Brand* — марка автомобиля;\n",
    "- *NotRepaired* — была машина в ремонте или нет;\n",
    "- *DateCreated* — дата создания анкеты;\n",
    "- *NumberOfPictures* — количество фотографий автомобиля;\n",
    "- *PostalCode* — почтовый индекс владельца анкеты (пользователя);\n",
    "- *LastSeen* — дата последней активности пользователя.\n",
    "\n",
    "Целевой признак — *Price*. Это цена авто в евро."
   ]
  },
  {
   "cell_type": "code",
   "execution_count": 6,
   "metadata": {},
   "outputs": [
    {
     "name": "stdout",
     "output_type": "stream",
     "text": [
      "\u001b[1mОбщие сведения о данных\u001b[0m\n",
      "<class 'pandas.core.frame.DataFrame'>\n",
      "RangeIndex: 354369 entries, 0 to 354368\n",
      "Data columns (total 16 columns):\n",
      " #   Column             Non-Null Count   Dtype \n",
      "---  ------             --------------   ----- \n",
      " 0   DateCrawled        354369 non-null  object\n",
      " 1   Price              354369 non-null  int64 \n",
      " 2   VehicleType        316879 non-null  object\n",
      " 3   RegistrationYear   354369 non-null  int64 \n",
      " 4   Gearbox            334536 non-null  object\n",
      " 5   Power              354369 non-null  int64 \n",
      " 6   Model              334664 non-null  object\n",
      " 7   Kilometer          354369 non-null  int64 \n",
      " 8   RegistrationMonth  354369 non-null  int64 \n",
      " 9   FuelType           321474 non-null  object\n",
      " 10  Brand              354369 non-null  object\n",
      " 11  NotRepaired        283215 non-null  object\n",
      " 12  DateCreated        354369 non-null  object\n",
      " 13  NumberOfPictures   354369 non-null  int64 \n",
      " 14  PostalCode         354369 non-null  int64 \n",
      " 15  LastSeen           354369 non-null  object\n",
      "dtypes: int64(7), object(9)\n",
      "memory usage: 43.3+ MB\n"
     ]
    }
   ],
   "source": [
    "print('\\033[1m' + 'Общие сведения о данных' + '\\033[0m')\n",
    "autos.info()"
   ]
  },
  {
   "cell_type": "markdown",
   "metadata": {},
   "source": [
    "Проблемы, которые мы обнаружили:\n",
    "1. У признаков неправильные типы: у дат строковый тип, а у численных можно понизить размерность.\n",
    "2. Есть признаки, которые не влияют на цену автомобиля. А именно:\n",
    "    - *DateCrawled* — дата скачивания анкеты из базы;\n",
    "    - *RegistrationMonth* — месяц регистрации автомобиля;\n",
    "    - *DateCreated* — дата создания анкеты;\n",
    "    - *NumberOfPictures* — количество фотографий автомобиля;\n",
    "    - *PostalCode* — почтовый индекс владельца анкеты (пользователя);\n",
    "    - *LastSeen* — дата последней активности пользователя.\n",
    "3. В данных есть пропуски. Изучим их подробнее позже."
   ]
  },
  {
   "cell_type": "code",
   "execution_count": 7,
   "metadata": {},
   "outputs": [
    {
     "name": "stdout",
     "output_type": "stream",
     "text": [
      "\u001b[1mЧисловое описание данных\u001b[0m\n"
     ]
    },
    {
     "data": {
      "text/html": [
       "<div>\n",
       "<style scoped>\n",
       "    .dataframe tbody tr th:only-of-type {\n",
       "        vertical-align: middle;\n",
       "    }\n",
       "\n",
       "    .dataframe tbody tr th {\n",
       "        vertical-align: top;\n",
       "    }\n",
       "\n",
       "    .dataframe thead th {\n",
       "        text-align: right;\n",
       "    }\n",
       "</style>\n",
       "<table border=\"1\" class=\"dataframe\">\n",
       "  <thead>\n",
       "    <tr style=\"text-align: right;\">\n",
       "      <th></th>\n",
       "      <th>Price</th>\n",
       "      <th>RegistrationYear</th>\n",
       "      <th>Power</th>\n",
       "      <th>Kilometer</th>\n",
       "      <th>RegistrationMonth</th>\n",
       "      <th>NumberOfPictures</th>\n",
       "      <th>PostalCode</th>\n",
       "    </tr>\n",
       "  </thead>\n",
       "  <tbody>\n",
       "    <tr>\n",
       "      <th>count</th>\n",
       "      <td>354369.000000</td>\n",
       "      <td>354369.000000</td>\n",
       "      <td>354369.000000</td>\n",
       "      <td>354369.000000</td>\n",
       "      <td>354369.000000</td>\n",
       "      <td>354369.0</td>\n",
       "      <td>354369.000000</td>\n",
       "    </tr>\n",
       "    <tr>\n",
       "      <th>mean</th>\n",
       "      <td>4416.656776</td>\n",
       "      <td>2004.234448</td>\n",
       "      <td>110.094337</td>\n",
       "      <td>128211.172535</td>\n",
       "      <td>5.714645</td>\n",
       "      <td>0.0</td>\n",
       "      <td>50508.689087</td>\n",
       "    </tr>\n",
       "    <tr>\n",
       "      <th>std</th>\n",
       "      <td>4514.158514</td>\n",
       "      <td>90.227958</td>\n",
       "      <td>189.850405</td>\n",
       "      <td>37905.341530</td>\n",
       "      <td>3.726421</td>\n",
       "      <td>0.0</td>\n",
       "      <td>25783.096248</td>\n",
       "    </tr>\n",
       "    <tr>\n",
       "      <th>min</th>\n",
       "      <td>0.000000</td>\n",
       "      <td>1000.000000</td>\n",
       "      <td>0.000000</td>\n",
       "      <td>5000.000000</td>\n",
       "      <td>0.000000</td>\n",
       "      <td>0.0</td>\n",
       "      <td>1067.000000</td>\n",
       "    </tr>\n",
       "    <tr>\n",
       "      <th>25%</th>\n",
       "      <td>1050.000000</td>\n",
       "      <td>1999.000000</td>\n",
       "      <td>69.000000</td>\n",
       "      <td>125000.000000</td>\n",
       "      <td>3.000000</td>\n",
       "      <td>0.0</td>\n",
       "      <td>30165.000000</td>\n",
       "    </tr>\n",
       "    <tr>\n",
       "      <th>50%</th>\n",
       "      <td>2700.000000</td>\n",
       "      <td>2003.000000</td>\n",
       "      <td>105.000000</td>\n",
       "      <td>150000.000000</td>\n",
       "      <td>6.000000</td>\n",
       "      <td>0.0</td>\n",
       "      <td>49413.000000</td>\n",
       "    </tr>\n",
       "    <tr>\n",
       "      <th>75%</th>\n",
       "      <td>6400.000000</td>\n",
       "      <td>2008.000000</td>\n",
       "      <td>143.000000</td>\n",
       "      <td>150000.000000</td>\n",
       "      <td>9.000000</td>\n",
       "      <td>0.0</td>\n",
       "      <td>71083.000000</td>\n",
       "    </tr>\n",
       "    <tr>\n",
       "      <th>max</th>\n",
       "      <td>20000.000000</td>\n",
       "      <td>9999.000000</td>\n",
       "      <td>20000.000000</td>\n",
       "      <td>150000.000000</td>\n",
       "      <td>12.000000</td>\n",
       "      <td>0.0</td>\n",
       "      <td>99998.000000</td>\n",
       "    </tr>\n",
       "  </tbody>\n",
       "</table>\n",
       "</div>"
      ],
      "text/plain": [
       "               Price  RegistrationYear          Power      Kilometer  \\\n",
       "count  354369.000000     354369.000000  354369.000000  354369.000000   \n",
       "mean     4416.656776       2004.234448     110.094337  128211.172535   \n",
       "std      4514.158514         90.227958     189.850405   37905.341530   \n",
       "min         0.000000       1000.000000       0.000000    5000.000000   \n",
       "25%      1050.000000       1999.000000      69.000000  125000.000000   \n",
       "50%      2700.000000       2003.000000     105.000000  150000.000000   \n",
       "75%      6400.000000       2008.000000     143.000000  150000.000000   \n",
       "max     20000.000000       9999.000000   20000.000000  150000.000000   \n",
       "\n",
       "       RegistrationMonth  NumberOfPictures     PostalCode  \n",
       "count      354369.000000          354369.0  354369.000000  \n",
       "mean            5.714645               0.0   50508.689087  \n",
       "std             3.726421               0.0   25783.096248  \n",
       "min             0.000000               0.0    1067.000000  \n",
       "25%             3.000000               0.0   30165.000000  \n",
       "50%             6.000000               0.0   49413.000000  \n",
       "75%             9.000000               0.0   71083.000000  \n",
       "max            12.000000               0.0   99998.000000  "
      ]
     },
     "execution_count": 7,
     "metadata": {},
     "output_type": "execute_result"
    }
   ],
   "source": [
    "print('\\033[1m' + 'Числовое описание данных' + '\\033[0m')\n",
    "autos.describe()"
   ]
  },
  {
   "cell_type": "markdown",
   "metadata": {},
   "source": [
    "Наблюдения:\n",
    "1. У признаков разный масштаб — придется стандартизировать.\n",
    "2. По максимумам некоторых признаков, например году регистрации, видны выбросы. Более глубоко исследуем их позже.\n",
    "3. Странно, что в пробеге и медиана, и третий квантиль, и максимум равны 150 тысячам километров. Возможно, это максимальное число, доступное для ввода, или у нас какой-то баг в базе данных."
   ]
  },
  {
   "cell_type": "markdown",
   "metadata": {},
   "source": [
    "[К содержанию](#Содержание)"
   ]
  },
  {
   "cell_type": "markdown",
   "metadata": {},
   "source": [
    "## 2. Предобработка данных<a name=\"2.-Предобработка-данных\"></a>"
   ]
  },
  {
   "cell_type": "markdown",
   "metadata": {},
   "source": [
    "### Удаление признаков, не описывающих автомобиль<a name=\"Удаление-признаков,-не-описывающих-автомобиль\"></a>"
   ]
  },
  {
   "cell_type": "markdown",
   "metadata": {},
   "source": [
    "Начнем с простого — избавимся от признаков, которые не относятся к характеристикам автомобиля. Это:\n",
    "- дата скачивания объявления из базы,\n",
    "- дата создания объявления,\n",
    "- количество фотографий автомобиля в объявлении,\n",
    "- почтовый индекс продавца,\n",
    "- месяц регистрации автомобиля.\n",
    "\n",
    "Мы оставим в признаках год регистрации автомобиля, так как он может отражать возраст машины.\n",
    "\n",
    "Будем хранить очищенные данные в новой переменной `autos_clean`. Поместим в нее только нужные признаки из `autos` и посмотрим на результат."
   ]
  },
  {
   "cell_type": "code",
   "execution_count": 8,
   "metadata": {
    "scrolled": true
   },
   "outputs": [
    {
     "data": {
      "text/html": [
       "<div>\n",
       "<style scoped>\n",
       "    .dataframe tbody tr th:only-of-type {\n",
       "        vertical-align: middle;\n",
       "    }\n",
       "\n",
       "    .dataframe tbody tr th {\n",
       "        vertical-align: top;\n",
       "    }\n",
       "\n",
       "    .dataframe thead th {\n",
       "        text-align: right;\n",
       "    }\n",
       "</style>\n",
       "<table border=\"1\" class=\"dataframe\">\n",
       "  <thead>\n",
       "    <tr style=\"text-align: right;\">\n",
       "      <th></th>\n",
       "      <th>Price</th>\n",
       "      <th>VehicleType</th>\n",
       "      <th>RegistrationYear</th>\n",
       "      <th>Gearbox</th>\n",
       "      <th>Power</th>\n",
       "      <th>Model</th>\n",
       "      <th>Kilometer</th>\n",
       "      <th>FuelType</th>\n",
       "      <th>Brand</th>\n",
       "      <th>NotRepaired</th>\n",
       "    </tr>\n",
       "  </thead>\n",
       "  <tbody>\n",
       "    <tr>\n",
       "      <th>0</th>\n",
       "      <td>480</td>\n",
       "      <td>NaN</td>\n",
       "      <td>1993</td>\n",
       "      <td>manual</td>\n",
       "      <td>0</td>\n",
       "      <td>golf</td>\n",
       "      <td>150000</td>\n",
       "      <td>petrol</td>\n",
       "      <td>volkswagen</td>\n",
       "      <td>NaN</td>\n",
       "    </tr>\n",
       "    <tr>\n",
       "      <th>1</th>\n",
       "      <td>18300</td>\n",
       "      <td>coupe</td>\n",
       "      <td>2011</td>\n",
       "      <td>manual</td>\n",
       "      <td>190</td>\n",
       "      <td>NaN</td>\n",
       "      <td>125000</td>\n",
       "      <td>gasoline</td>\n",
       "      <td>audi</td>\n",
       "      <td>yes</td>\n",
       "    </tr>\n",
       "    <tr>\n",
       "      <th>2</th>\n",
       "      <td>9800</td>\n",
       "      <td>suv</td>\n",
       "      <td>2004</td>\n",
       "      <td>auto</td>\n",
       "      <td>163</td>\n",
       "      <td>grand</td>\n",
       "      <td>125000</td>\n",
       "      <td>gasoline</td>\n",
       "      <td>jeep</td>\n",
       "      <td>NaN</td>\n",
       "    </tr>\n",
       "    <tr>\n",
       "      <th>3</th>\n",
       "      <td>1500</td>\n",
       "      <td>small</td>\n",
       "      <td>2001</td>\n",
       "      <td>manual</td>\n",
       "      <td>75</td>\n",
       "      <td>golf</td>\n",
       "      <td>150000</td>\n",
       "      <td>petrol</td>\n",
       "      <td>volkswagen</td>\n",
       "      <td>no</td>\n",
       "    </tr>\n",
       "    <tr>\n",
       "      <th>4</th>\n",
       "      <td>3600</td>\n",
       "      <td>small</td>\n",
       "      <td>2008</td>\n",
       "      <td>manual</td>\n",
       "      <td>69</td>\n",
       "      <td>fabia</td>\n",
       "      <td>90000</td>\n",
       "      <td>gasoline</td>\n",
       "      <td>skoda</td>\n",
       "      <td>no</td>\n",
       "    </tr>\n",
       "  </tbody>\n",
       "</table>\n",
       "</div>"
      ],
      "text/plain": [
       "   Price VehicleType  RegistrationYear Gearbox  Power  Model  Kilometer  \\\n",
       "0    480         NaN              1993  manual      0   golf     150000   \n",
       "1  18300       coupe              2011  manual    190    NaN     125000   \n",
       "2   9800         suv              2004    auto    163  grand     125000   \n",
       "3   1500       small              2001  manual     75   golf     150000   \n",
       "4   3600       small              2008  manual     69  fabia      90000   \n",
       "\n",
       "   FuelType       Brand NotRepaired  \n",
       "0    petrol  volkswagen         NaN  \n",
       "1  gasoline        audi         yes  \n",
       "2  gasoline        jeep         NaN  \n",
       "3    petrol  volkswagen          no  \n",
       "4  gasoline       skoda          no  "
      ]
     },
     "execution_count": 8,
     "metadata": {},
     "output_type": "execute_result"
    }
   ],
   "source": [
    "autos_clean = autos.drop(columns=['DateCrawled', 'RegistrationMonth', 'DateCreated',\n",
    "                                  'NumberOfPictures', 'PostalCode', 'LastSeen'])\n",
    "autos_clean.head()"
   ]
  },
  {
   "cell_type": "markdown",
   "metadata": {},
   "source": [
    "### Обработка пропусков<a name=\"Обработка-пропусков\"></a>"
   ]
  },
  {
   "cell_type": "markdown",
   "metadata": {},
   "source": [
    "Посмотрим, в каких колонках есть пропуски и сколько их."
   ]
  },
  {
   "cell_type": "code",
   "execution_count": 9,
   "metadata": {},
   "outputs": [
    {
     "data": {
      "text/html": [
       "<div>\n",
       "<style scoped>\n",
       "    .dataframe tbody tr th:only-of-type {\n",
       "        vertical-align: middle;\n",
       "    }\n",
       "\n",
       "    .dataframe tbody tr th {\n",
       "        vertical-align: top;\n",
       "    }\n",
       "\n",
       "    .dataframe thead th {\n",
       "        text-align: right;\n",
       "    }\n",
       "</style>\n",
       "<table border=\"1\" class=\"dataframe\">\n",
       "  <thead>\n",
       "    <tr style=\"text-align: right;\">\n",
       "      <th></th>\n",
       "      <th>Число пропусков</th>\n",
       "      <th>Процент от всех значений</th>\n",
       "    </tr>\n",
       "  </thead>\n",
       "  <tbody>\n",
       "    <tr>\n",
       "      <th>Price</th>\n",
       "      <td>0</td>\n",
       "      <td>0.00</td>\n",
       "    </tr>\n",
       "    <tr>\n",
       "      <th>VehicleType</th>\n",
       "      <td>37490</td>\n",
       "      <td>10.58</td>\n",
       "    </tr>\n",
       "    <tr>\n",
       "      <th>RegistrationYear</th>\n",
       "      <td>0</td>\n",
       "      <td>0.00</td>\n",
       "    </tr>\n",
       "    <tr>\n",
       "      <th>Gearbox</th>\n",
       "      <td>19833</td>\n",
       "      <td>5.60</td>\n",
       "    </tr>\n",
       "    <tr>\n",
       "      <th>Power</th>\n",
       "      <td>0</td>\n",
       "      <td>0.00</td>\n",
       "    </tr>\n",
       "    <tr>\n",
       "      <th>Model</th>\n",
       "      <td>19705</td>\n",
       "      <td>5.56</td>\n",
       "    </tr>\n",
       "    <tr>\n",
       "      <th>Kilometer</th>\n",
       "      <td>0</td>\n",
       "      <td>0.00</td>\n",
       "    </tr>\n",
       "    <tr>\n",
       "      <th>FuelType</th>\n",
       "      <td>32895</td>\n",
       "      <td>9.28</td>\n",
       "    </tr>\n",
       "    <tr>\n",
       "      <th>Brand</th>\n",
       "      <td>0</td>\n",
       "      <td>0.00</td>\n",
       "    </tr>\n",
       "    <tr>\n",
       "      <th>NotRepaired</th>\n",
       "      <td>71154</td>\n",
       "      <td>20.08</td>\n",
       "    </tr>\n",
       "  </tbody>\n",
       "</table>\n",
       "</div>"
      ],
      "text/plain": [
       "                  Число пропусков  Процент от всех значений\n",
       "Price                           0                      0.00\n",
       "VehicleType                 37490                     10.58\n",
       "RegistrationYear                0                      0.00\n",
       "Gearbox                     19833                      5.60\n",
       "Power                           0                      0.00\n",
       "Model                       19705                      5.56\n",
       "Kilometer                       0                      0.00\n",
       "FuelType                    32895                      9.28\n",
       "Brand                           0                      0.00\n",
       "NotRepaired                 71154                     20.08"
      ]
     },
     "execution_count": 9,
     "metadata": {},
     "output_type": "execute_result"
    }
   ],
   "source": [
    "gaps = {'Число пропусков': autos_clean.isna().sum(),\n",
    "        'Процент от всех значений': round(autos_clean.isnull().sum() / len(autos_clean) * 100, 2)}\n",
    "\n",
    "gaps = pd.DataFrame(gaps)\n",
    "gaps"
   ]
  },
  {
   "cell_type": "markdown",
   "metadata": {},
   "source": [
    "Видно, что пропусков достаточно много, особенно в столбце `NotRepaired`. Но, что важнее, все пропуски находятся в категориальных переменных. Чтобы решить, как их заполнять, посмотрим на пропуски подробнее."
   ]
  },
  {
   "cell_type": "code",
   "execution_count": 10,
   "metadata": {},
   "outputs": [
    {
     "name": "stdout",
     "output_type": "stream",
     "text": [
      "\u001b[1mVehicleType\u001b[0m\n",
      "sedan          91457\n",
      "small          79831\n",
      "wagon          65166\n",
      "bus            28775\n",
      "convertible    20203\n",
      "coupe          16163\n",
      "suv            11996\n",
      "other           3288\n",
      "Name: VehicleType, dtype: int64\n",
      "\n",
      "\u001b[1mGearbox\u001b[0m\n",
      "manual    268251\n",
      "auto       66285\n",
      "Name: Gearbox, dtype: int64\n",
      "\n",
      "\u001b[1mModel\u001b[0m\n",
      "golf                  29232\n",
      "other                 24421\n",
      "3er                   19761\n",
      "polo                  13066\n",
      "corsa                 12570\n",
      "                      ...  \n",
      "i3                        8\n",
      "serie_3                   4\n",
      "rangerover                4\n",
      "range_rover_evoque        2\n",
      "serie_1                   2\n",
      "Name: Model, Length: 250, dtype: int64\n",
      "\n",
      "\u001b[1mFuelType\u001b[0m\n",
      "petrol      216352\n",
      "gasoline     98720\n",
      "lpg           5310\n",
      "cng            565\n",
      "hybrid         233\n",
      "other          204\n",
      "electric        90\n",
      "Name: FuelType, dtype: int64\n",
      "\n",
      "\u001b[1mNotRepaired\u001b[0m\n",
      "no     247161\n",
      "yes     36054\n",
      "Name: NotRepaired, dtype: int64\n",
      "\n"
     ]
    }
   ],
   "source": [
    "cat_cols_w_gaps = []\n",
    "\n",
    "for index, row in gaps.iterrows():\n",
    "    if row['Число пропусков'] > 0:\n",
    "        cat_cols_w_gaps.append(index)\n",
    "        print('\\033[1m' + index + '\\033[0m')\n",
    "        print(autos_clean[index].value_counts())\n",
    "        print()"
   ]
  },
  {
   "cell_type": "markdown",
   "metadata": {},
   "source": [
    "Категорий много, особенно моделей машин, поэтому заполним пропуски значением `unknown`."
   ]
  },
  {
   "cell_type": "code",
   "execution_count": 11,
   "metadata": {},
   "outputs": [],
   "source": [
    "autos_clean[cat_cols_w_gaps] = autos_clean[cat_cols_w_gaps].fillna('unknown')"
   ]
  },
  {
   "cell_type": "markdown",
   "metadata": {},
   "source": [
    "### Замена типа данных<a name=\"Замена-типа-данных\"></a>"
   ]
  },
  {
   "cell_type": "markdown",
   "metadata": {},
   "source": [
    "Теперь понизим размерность численных переменных и посмотрим на результат замен."
   ]
  },
  {
   "cell_type": "code",
   "execution_count": 12,
   "metadata": {
    "scrolled": true
   },
   "outputs": [],
   "source": [
    "num_cols = autos_clean.select_dtypes(include='int').columns\n",
    "for col in num_cols:\n",
    "    autos_clean[col] = pd.to_numeric(autos_clean[col], downcast='unsigned')"
   ]
  },
  {
   "cell_type": "code",
   "execution_count": 13,
   "metadata": {},
   "outputs": [
    {
     "name": "stdout",
     "output_type": "stream",
     "text": [
      "<class 'pandas.core.frame.DataFrame'>\n",
      "RangeIndex: 354369 entries, 0 to 354368\n",
      "Data columns (total 10 columns):\n",
      " #   Column            Non-Null Count   Dtype \n",
      "---  ------            --------------   ----- \n",
      " 0   Price             354369 non-null  uint16\n",
      " 1   VehicleType       354369 non-null  object\n",
      " 2   RegistrationYear  354369 non-null  uint16\n",
      " 3   Gearbox           354369 non-null  object\n",
      " 4   Power             354369 non-null  uint16\n",
      " 5   Model             354369 non-null  object\n",
      " 6   Kilometer         354369 non-null  uint32\n",
      " 7   FuelType          354369 non-null  object\n",
      " 8   Brand             354369 non-null  object\n",
      " 9   NotRepaired       354369 non-null  object\n",
      "dtypes: object(6), uint16(3), uint32(1)\n",
      "memory usage: 19.6+ MB\n"
     ]
    }
   ],
   "source": [
    "autos_clean.info()"
   ]
  },
  {
   "cell_type": "markdown",
   "metadata": {},
   "source": [
    "### Поиск дубликатов<a name=\"Поиск-дубликатов\"></a>"
   ]
  },
  {
   "cell_type": "markdown",
   "metadata": {},
   "source": [
    "Посмотрим, есть ли в данных дубликаты."
   ]
  },
  {
   "cell_type": "code",
   "execution_count": 14,
   "metadata": {},
   "outputs": [
    {
     "name": "stdout",
     "output_type": "stream",
     "text": [
      "\u001b[1mДубликаты\u001b[0m\n",
      "Количество: 45040\n",
      "Процент от всех записей: 12.71\n"
     ]
    }
   ],
   "source": [
    "print('\\033[1m' + 'Дубликаты' + '\\033[0m')\n",
    "print('Количество:', autos_clean.duplicated().sum())\n",
    "print('Процент от всех записей:',\n",
    "      round(autos_clean.duplicated().sum() / len(autos_clean) * 100, 2))"
   ]
  },
  {
   "cell_type": "code",
   "execution_count": 15,
   "metadata": {},
   "outputs": [
    {
     "data": {
      "text/plain": [
       "Index(['Price', 'VehicleType', 'RegistrationYear', 'Gearbox', 'Power', 'Model',\n",
       "       'Kilometer', 'FuelType', 'Brand', 'NotRepaired'],\n",
       "      dtype='object')"
      ]
     },
     "execution_count": 15,
     "metadata": {},
     "output_type": "execute_result"
    }
   ],
   "source": [
    "autos_clean.columns"
   ]
  },
  {
   "cell_type": "markdown",
   "metadata": {},
   "source": [
    "Дубликатов на удивление много. Возможно, проблемы не в текущих признаках объявлений, а в тех, что мы удалили.\n",
    "\n",
    "Например, объявление могло попасть в выборку несколько раз с разной датой добавления `DateCrawled`. Или сломалась запись времени последнего визита `LastSeen` пользователя и вместо одной записи в таблицу попало несколько. \n",
    "\n",
    "Разобраться, в чем проблема, — отдельная задача. Стоит рассказать о нашем открытии дата-инженерам, чтобы они узнали, что случилось."
   ]
  },
  {
   "cell_type": "markdown",
   "metadata": {},
   "source": [
    "Пока же просто избавимся от дубликатов."
   ]
  },
  {
   "cell_type": "code",
   "execution_count": 16,
   "metadata": {},
   "outputs": [],
   "source": [
    "autos_clean = autos_clean.drop_duplicates()"
   ]
  },
  {
   "cell_type": "code",
   "execution_count": 17,
   "metadata": {},
   "outputs": [
    {
     "name": "stdout",
     "output_type": "stream",
     "text": [
      "Количество дубликатов: 0\n"
     ]
    }
   ],
   "source": [
    "print('Количество дубликатов:', autos_clean.duplicated().sum())"
   ]
  },
  {
   "cell_type": "markdown",
   "metadata": {},
   "source": [
    "[К содержанию](#Содержание)"
   ]
  },
  {
   "cell_type": "markdown",
   "metadata": {},
   "source": [
    "## 3. Подготовка данных к обучению<a name=\"3.-Подготовка-данных-к-обучению\"></a>"
   ]
  },
  {
   "cell_type": "markdown",
   "metadata": {},
   "source": [
    "### Обработка выбросов<a name=\"Обработка-выбросов\"></a>"
   ]
  },
  {
   "cell_type": "markdown",
   "metadata": {},
   "source": [
    "Посмотрим еще раз на числовое описание данных."
   ]
  },
  {
   "cell_type": "code",
   "execution_count": 18,
   "metadata": {
    "scrolled": true
   },
   "outputs": [
    {
     "data": {
      "text/html": [
       "<div>\n",
       "<style scoped>\n",
       "    .dataframe tbody tr th:only-of-type {\n",
       "        vertical-align: middle;\n",
       "    }\n",
       "\n",
       "    .dataframe tbody tr th {\n",
       "        vertical-align: top;\n",
       "    }\n",
       "\n",
       "    .dataframe thead th {\n",
       "        text-align: right;\n",
       "    }\n",
       "</style>\n",
       "<table border=\"1\" class=\"dataframe\">\n",
       "  <thead>\n",
       "    <tr style=\"text-align: right;\">\n",
       "      <th></th>\n",
       "      <th>Price</th>\n",
       "      <th>RegistrationYear</th>\n",
       "      <th>Power</th>\n",
       "      <th>Kilometer</th>\n",
       "    </tr>\n",
       "  </thead>\n",
       "  <tbody>\n",
       "    <tr>\n",
       "      <th>count</th>\n",
       "      <td>309329.000000</td>\n",
       "      <td>309329.000000</td>\n",
       "      <td>309329.000000</td>\n",
       "      <td>309329.000000</td>\n",
       "    </tr>\n",
       "    <tr>\n",
       "      <th>mean</th>\n",
       "      <td>4486.937196</td>\n",
       "      <td>2004.360105</td>\n",
       "      <td>110.976908</td>\n",
       "      <td>127217.735809</td>\n",
       "    </tr>\n",
       "    <tr>\n",
       "      <th>std</th>\n",
       "      <td>4564.852796</td>\n",
       "      <td>92.541399</td>\n",
       "      <td>200.969473</td>\n",
       "      <td>38532.941010</td>\n",
       "    </tr>\n",
       "    <tr>\n",
       "      <th>min</th>\n",
       "      <td>0.000000</td>\n",
       "      <td>1000.000000</td>\n",
       "      <td>0.000000</td>\n",
       "      <td>5000.000000</td>\n",
       "    </tr>\n",
       "    <tr>\n",
       "      <th>25%</th>\n",
       "      <td>1100.000000</td>\n",
       "      <td>1999.000000</td>\n",
       "      <td>69.000000</td>\n",
       "      <td>125000.000000</td>\n",
       "    </tr>\n",
       "    <tr>\n",
       "      <th>50%</th>\n",
       "      <td>2800.000000</td>\n",
       "      <td>2003.000000</td>\n",
       "      <td>105.000000</td>\n",
       "      <td>150000.000000</td>\n",
       "    </tr>\n",
       "    <tr>\n",
       "      <th>75%</th>\n",
       "      <td>6500.000000</td>\n",
       "      <td>2008.000000</td>\n",
       "      <td>143.000000</td>\n",
       "      <td>150000.000000</td>\n",
       "    </tr>\n",
       "    <tr>\n",
       "      <th>max</th>\n",
       "      <td>20000.000000</td>\n",
       "      <td>9999.000000</td>\n",
       "      <td>20000.000000</td>\n",
       "      <td>150000.000000</td>\n",
       "    </tr>\n",
       "  </tbody>\n",
       "</table>\n",
       "</div>"
      ],
      "text/plain": [
       "               Price  RegistrationYear          Power      Kilometer\n",
       "count  309329.000000     309329.000000  309329.000000  309329.000000\n",
       "mean     4486.937196       2004.360105     110.976908  127217.735809\n",
       "std      4564.852796         92.541399     200.969473   38532.941010\n",
       "min         0.000000       1000.000000       0.000000    5000.000000\n",
       "25%      1100.000000       1999.000000      69.000000  125000.000000\n",
       "50%      2800.000000       2003.000000     105.000000  150000.000000\n",
       "75%      6500.000000       2008.000000     143.000000  150000.000000\n",
       "max     20000.000000       9999.000000   20000.000000  150000.000000"
      ]
     },
     "execution_count": 18,
     "metadata": {},
     "output_type": "execute_result"
    }
   ],
   "source": [
    "autos_clean.describe()"
   ]
  },
  {
   "cell_type": "markdown",
   "metadata": {},
   "source": [
    "#### Цена\n",
    "\n",
    "Мы не будем удалять выбросы из этого признака, потому что большой разброс цен не выглядит странно. Машина может стоить дорого, если это представительский класс или кастомная сборка. Низкой и даже нулевой цена может быть, если автомобиль в плохом состоянии или не на ходу и отдается на детали."
   ]
  },
  {
   "cell_type": "markdown",
   "metadata": {},
   "source": [
    "#### Год регистрации\n",
    "\n",
    "Здесь все просто: удалим все строки, в которых год меньше даты изобретения первого автомобиля ([1768](https://ru.wikipedia.org/wiki/%D0%98%D1%81%D1%82%D0%BE%D1%80%D0%B8%D1%8F_%D0%B0%D0%B2%D1%82%D0%BE%D0%BC%D0%BE%D0%B1%D0%B8%D0%BB%D1%8F#:~:text=%D0%90%D0%B2%D1%82%D0%BE%D0%BC%D0%BE%D0%B1%D0%B8%D0%BB%D1%8C%20%D0%91%D0%B5%D0%BD%D1%86%D0%B0%2C%201885%20%D0%B3%D0%BE%D0%B4.,%D0%B0%D0%B2%D1%82%D0%BE%D0%BC%D0%BE%D0%B1%D0%B8%D0%BB%D1%8C%20%D1%81%20%D0%B4%D0%B2%D0%B8%D0%B3%D0%B0%D1%82%D0%B5%D0%BB%D0%B5%D0%BC%20%D0%B2%D0%BD%D1%83%D1%82%D1%80%D0%B5%D0%BD%D0%BD%D0%B5%D0%B3%D0%BE%20%D1%81%D0%B3%D0%BE%D1%80%D0%B0%D0%BD%D0%B8%D1%8F)) и больше текущего 2021-го. Но сначала посмотрим, сколько их."
   ]
  },
  {
   "cell_type": "code",
   "execution_count": 19,
   "metadata": {},
   "outputs": [
    {
     "name": "stdout",
     "output_type": "stream",
     "text": [
      "Число автомобилей с аномальным годом регистрации: 158\n",
      "Процент автомобилей с аномальным годом регистрации от общего числа: 0.05\n"
     ]
    }
   ],
   "source": [
    "print('Число автомобилей с аномальным годом регистрации:',\n",
    "      len(autos_clean.query('RegistrationYear < 1768 or RegistrationYear > 2021')))\n",
    "\n",
    "print('Процент автомобилей с аномальным годом регистрации от общего числа:',\n",
    "      round(len(autos_clean.query('RegistrationYear < 1768 or RegistrationYear > 2021')) / len(autos_clean) * 100, 2))"
   ]
  },
  {
   "cell_type": "markdown",
   "metadata": {},
   "source": [
    "Таких машин сильно меньше одного процента. Отлично!"
   ]
  },
  {
   "cell_type": "code",
   "execution_count": 20,
   "metadata": {},
   "outputs": [],
   "source": [
    "autos_clean = autos_clean.query('RegistrationYear > 1768 and RegistrationYear < 2021')"
   ]
  },
  {
   "cell_type": "markdown",
   "metadata": {},
   "source": [
    "#### Мощность\n",
    "\n",
    "Здесь точно есть выбросы, от которых придется избавляться: максимальная мощность 20 тысяч лошадиных сил, в то время как у самого мощного серийного автомобиля только [2 тысячи](https://www.autonews.ru/news/5dcab2409a7947da1459c059).\n",
    "\n",
    "Чтобы определить граничные значения, посмотрим на диаграмму размаха."
   ]
  },
  {
   "cell_type": "code",
   "execution_count": 21,
   "metadata": {},
   "outputs": [
    {
     "data": {
      "text/plain": [
       "(0.0, 300.0)"
      ]
     },
     "execution_count": 21,
     "metadata": {},
     "output_type": "execute_result"
    },
    {
     "data": {
      "image/png": "[encoded data removed]",
      "text/plain": [
       "<Figure size 288x504 with 1 Axes>"
      ]
     },
     "metadata": {},
     "output_type": "display_data"
    }
   ],
   "source": [
    "plt.figure(figsize=(4, 7))\n",
    "autos_clean.boxplot('Power')\n",
    "\n",
    "plt.title('Диаграмма размаха мощностей двигателя', fontsize=15, y=1.03)\n",
    "plt.ylabel('Мощность двигателя, л. с.', fontsize=13)\n",
    "plt.ylim(0,300)"
   ]
  },
  {
   "cell_type": "markdown",
   "metadata": {},
   "source": [
    "Будем считать машину аномально мощной, если ее мощность больше 260 лошадиных сил. Посмотрим, сколько их."
   ]
  },
  {
   "cell_type": "code",
   "execution_count": 22,
   "metadata": {},
   "outputs": [
    {
     "name": "stdout",
     "output_type": "stream",
     "text": [
      "Число аномально мощных автомобилей: 6147\n",
      "Процент аномально мощных автомобилей автомобилей от общего числа: 1.99\n"
     ]
    }
   ],
   "source": [
    "print('Число аномально мощных автомобилей:',\n",
    "      len(autos_clean.query('Power > 260')))\n",
    "\n",
    "print('Процент аномально мощных автомобилей автомобилей от общего числа:',\n",
    "      round(len(autos_clean.query('Power > 260')) / len(autos_clean) * 100, 2))"
   ]
  },
  {
   "cell_type": "markdown",
   "metadata": {},
   "source": [
    "Двумя процентам данных при очистки мы можем пожертвовать, поэтому удалим слишком мощные машины."
   ]
  },
  {
   "cell_type": "code",
   "execution_count": 23,
   "metadata": {},
   "outputs": [],
   "source": [
    "autos_clean = autos_clean.query('Power <= 260')"
   ]
  },
  {
   "cell_type": "markdown",
   "metadata": {},
   "source": [
    "#### Пробег\n",
    "\n",
    "Здесь у аномалий особый вид: больше половины машин проехали одинаковое и одновременно максимальное расстояние. Скорее всего, это связано с техническим ограниченим анкеты на сайте. Стоит передать эту информацию разработчикам, чтобы они увеличили максимальное допустимое значение этого параметра."
   ]
  },
  {
   "cell_type": "markdown",
   "metadata": {},
   "source": [
    "[К содержанию](#Содержание)"
   ]
  },
  {
   "cell_type": "markdown",
   "metadata": {},
   "source": [
    "### Порядковое кодирование категориальных признаков<a name=\"Порядковое-кодирование-категориальных-признаков\"></a>"
   ]
  },
  {
   "cell_type": "markdown",
   "metadata": {},
   "source": [
    "Перекодируем категориальные признаки, чтобы их можно было подать в линейные модели.\n",
    "\n",
    "Мы будем использовать порядковое кодирование, потому что у нас большое количество категорий и прямое кодирование даст много признаков. Из-за этого увеличится время расчетов."
   ]
  },
  {
   "cell_type": "code",
   "execution_count": 24,
   "metadata": {},
   "outputs": [],
   "source": [
    "cat_cols = ['VehicleType', 'Gearbox', 'Model',\n",
    "            'FuelType', 'Brand', 'NotRepaired']"
   ]
  },
  {
   "cell_type": "code",
   "execution_count": 25,
   "metadata": {},
   "outputs": [
    {
     "data": {
      "text/html": [
       "<div>\n",
       "<style scoped>\n",
       "    .dataframe tbody tr th:only-of-type {\n",
       "        vertical-align: middle;\n",
       "    }\n",
       "\n",
       "    .dataframe tbody tr th {\n",
       "        vertical-align: top;\n",
       "    }\n",
       "\n",
       "    .dataframe thead th {\n",
       "        text-align: right;\n",
       "    }\n",
       "</style>\n",
       "<table border=\"1\" class=\"dataframe\">\n",
       "  <thead>\n",
       "    <tr style=\"text-align: right;\">\n",
       "      <th></th>\n",
       "      <th>Price</th>\n",
       "      <th>VehicleType</th>\n",
       "      <th>RegistrationYear</th>\n",
       "      <th>Gearbox</th>\n",
       "      <th>Power</th>\n",
       "      <th>Model</th>\n",
       "      <th>Kilometer</th>\n",
       "      <th>FuelType</th>\n",
       "      <th>Brand</th>\n",
       "      <th>NotRepaired</th>\n",
       "    </tr>\n",
       "  </thead>\n",
       "  <tbody>\n",
       "    <tr>\n",
       "      <th>51012</th>\n",
       "      <td>7200</td>\n",
       "      <td>4.0</td>\n",
       "      <td>2004</td>\n",
       "      <td>1.0</td>\n",
       "      <td>140</td>\n",
       "      <td>31.0</td>\n",
       "      <td>30000</td>\n",
       "      <td>2.0</td>\n",
       "      <td>1.0</td>\n",
       "      <td>0.0</td>\n",
       "    </tr>\n",
       "    <tr>\n",
       "      <th>253621</th>\n",
       "      <td>8950</td>\n",
       "      <td>8.0</td>\n",
       "      <td>2007</td>\n",
       "      <td>1.0</td>\n",
       "      <td>105</td>\n",
       "      <td>163.0</td>\n",
       "      <td>125000</td>\n",
       "      <td>2.0</td>\n",
       "      <td>31.0</td>\n",
       "      <td>0.0</td>\n",
       "    </tr>\n",
       "    <tr>\n",
       "      <th>306519</th>\n",
       "      <td>4000</td>\n",
       "      <td>5.0</td>\n",
       "      <td>2007</td>\n",
       "      <td>1.0</td>\n",
       "      <td>60</td>\n",
       "      <td>83.0</td>\n",
       "      <td>80000</td>\n",
       "      <td>6.0</td>\n",
       "      <td>24.0</td>\n",
       "      <td>0.0</td>\n",
       "    </tr>\n",
       "    <tr>\n",
       "      <th>235584</th>\n",
       "      <td>12500</td>\n",
       "      <td>2.0</td>\n",
       "      <td>2010</td>\n",
       "      <td>2.0</td>\n",
       "      <td>0</td>\n",
       "      <td>116.0</td>\n",
       "      <td>125000</td>\n",
       "      <td>7.0</td>\n",
       "      <td>38.0</td>\n",
       "      <td>0.0</td>\n",
       "    </tr>\n",
       "    <tr>\n",
       "      <th>117967</th>\n",
       "      <td>650</td>\n",
       "      <td>4.0</td>\n",
       "      <td>1999</td>\n",
       "      <td>1.0</td>\n",
       "      <td>86</td>\n",
       "      <td>82.0</td>\n",
       "      <td>150000</td>\n",
       "      <td>6.0</td>\n",
       "      <td>36.0</td>\n",
       "      <td>0.0</td>\n",
       "    </tr>\n",
       "  </tbody>\n",
       "</table>\n",
       "</div>"
      ],
      "text/plain": [
       "        Price  VehicleType  RegistrationYear  Gearbox  Power  Model  \\\n",
       "51012    7200          4.0              2004      1.0    140   31.0   \n",
       "253621   8950          8.0              2007      1.0    105  163.0   \n",
       "306519   4000          5.0              2007      1.0     60   83.0   \n",
       "235584  12500          2.0              2010      2.0      0  116.0   \n",
       "117967    650          4.0              1999      1.0     86   82.0   \n",
       "\n",
       "        Kilometer  FuelType  Brand  NotRepaired  \n",
       "51012       30000       2.0    1.0          0.0  \n",
       "253621     125000       2.0   31.0          0.0  \n",
       "306519      80000       6.0   24.0          0.0  \n",
       "235584     125000       7.0   38.0          0.0  \n",
       "117967     150000       6.0   36.0          0.0  "
      ]
     },
     "execution_count": 25,
     "metadata": {},
     "output_type": "execute_result"
    }
   ],
   "source": [
    "encoder = OrdinalEncoder() \n",
    "autos_clean[cat_cols] = pd.DataFrame(data=encoder.fit_transform(autos_clean[cat_cols]),\n",
    "                                     index=autos_clean.index,\n",
    "                                     columns=cat_cols)\n",
    "\n",
    "autos_clean.sample(5)"
   ]
  },
  {
   "cell_type": "markdown",
   "metadata": {},
   "source": [
    "### Разбиение данных на выборки<a name=\"Разбиение-данных-на-выборки\"></a>"
   ]
  },
  {
   "cell_type": "markdown",
   "metadata": {},
   "source": [
    "Выделим из данных целевой признак."
   ]
  },
  {
   "cell_type": "code",
   "execution_count": 26,
   "metadata": {},
   "outputs": [],
   "source": [
    "X = autos_clean.drop('Price', axis=1)\n",
    "y = autos_clean['Price']"
   ]
  },
  {
   "cell_type": "markdown",
   "metadata": {},
   "source": [
    "Поделим данные на тренировочную и тестовую выборки в соотношении 4:1. Для подбора гиперпараметров мы воспользуемся `GridSearchCV`, поэтому валидационную выделять не будем."
   ]
  },
  {
   "cell_type": "code",
   "execution_count": 27,
   "metadata": {},
   "outputs": [],
   "source": [
    "X_train, X_test, y_train, y_test = train_test_split(X, y, test_size=0.2, random_state=SEED)"
   ]
  },
  {
   "cell_type": "markdown",
   "metadata": {},
   "source": [
    "Проверим корректность разбиения."
   ]
  },
  {
   "cell_type": "code",
   "execution_count": 28,
   "metadata": {},
   "outputs": [],
   "source": [
    "def check_split(X, X_train, X_val):\n",
    "    \"\"\"Функция для проверки корректности разбиение данных по региону на выборки\"\"\"\n",
    "    samps = pd.Series(['Полная', 'Тренировочная', 'Тренировочная'])\n",
    "    samps_sizes = pd.Series([len(X), len(X_train), len(X_val)])\n",
    "    samps_shares = pd.Series([len(X)/len(X), len(X_train)/len(X), len(X_val)/len(X)])\n",
    "    \n",
    "    res = pd.concat([samps, samps_sizes, samps_shares], axis=1)\n",
    "    res.columns = ['Выборка', 'Размер', 'Доля от полной']\n",
    "    \n",
    "    return res"
   ]
  },
  {
   "cell_type": "code",
   "execution_count": 29,
   "metadata": {},
   "outputs": [
    {
     "data": {
      "text/html": [
       "<div>\n",
       "<style scoped>\n",
       "    .dataframe tbody tr th:only-of-type {\n",
       "        vertical-align: middle;\n",
       "    }\n",
       "\n",
       "    .dataframe tbody tr th {\n",
       "        vertical-align: top;\n",
       "    }\n",
       "\n",
       "    .dataframe thead th {\n",
       "        text-align: right;\n",
       "    }\n",
       "</style>\n",
       "<table border=\"1\" class=\"dataframe\">\n",
       "  <thead>\n",
       "    <tr style=\"text-align: right;\">\n",
       "      <th></th>\n",
       "      <th>Выборка</th>\n",
       "      <th>Размер</th>\n",
       "      <th>Доля от полной</th>\n",
       "    </tr>\n",
       "  </thead>\n",
       "  <tbody>\n",
       "    <tr>\n",
       "      <th>0</th>\n",
       "      <td>Полная</td>\n",
       "      <td>303024</td>\n",
       "      <td>1.000000</td>\n",
       "    </tr>\n",
       "    <tr>\n",
       "      <th>1</th>\n",
       "      <td>Тренировочная</td>\n",
       "      <td>242419</td>\n",
       "      <td>0.799999</td>\n",
       "    </tr>\n",
       "    <tr>\n",
       "      <th>2</th>\n",
       "      <td>Тренировочная</td>\n",
       "      <td>60605</td>\n",
       "      <td>0.200001</td>\n",
       "    </tr>\n",
       "  </tbody>\n",
       "</table>\n",
       "</div>"
      ],
      "text/plain": [
       "         Выборка  Размер  Доля от полной\n",
       "0         Полная  303024        1.000000\n",
       "1  Тренировочная  242419        0.799999\n",
       "2  Тренировочная   60605        0.200001"
      ]
     },
     "execution_count": 29,
     "metadata": {},
     "output_type": "execute_result"
    }
   ],
   "source": [
    "check_split(X, X_train, X_test)"
   ]
  },
  {
   "cell_type": "markdown",
   "metadata": {},
   "source": [
    "### Масштабирование численных признаков<a name=\"Масштабирование-численных-признаков\"></a>"
   ]
  },
  {
   "cell_type": "markdown",
   "metadata": {},
   "source": [
    "Масштабируем численные признаки, чтобы разброс значений признака не влиял на его значимость."
   ]
  },
  {
   "cell_type": "code",
   "execution_count": 30,
   "metadata": {},
   "outputs": [
    {
     "data": {
      "text/plain": [
       "StandardScaler()"
      ]
     },
     "execution_count": 30,
     "metadata": {},
     "output_type": "execute_result"
    }
   ],
   "source": [
    "scaler = StandardScaler()\n",
    "scaler.fit(X_train) "
   ]
  },
  {
   "cell_type": "code",
   "execution_count": 31,
   "metadata": {},
   "outputs": [],
   "source": [
    "X_train = pd.DataFrame(data=scaler.transform(X_train),\n",
    "                       columns=X_train.columns)\n",
    "X_test = pd.DataFrame(data=scaler.transform(X_test),\n",
    "                      columns=X_test.columns)"
   ]
  },
  {
   "cell_type": "code",
   "execution_count": 32,
   "metadata": {},
   "outputs": [
    {
     "data": {
      "text/html": [
       "<div>\n",
       "<style scoped>\n",
       "    .dataframe tbody tr th:only-of-type {\n",
       "        vertical-align: middle;\n",
       "    }\n",
       "\n",
       "    .dataframe tbody tr th {\n",
       "        vertical-align: top;\n",
       "    }\n",
       "\n",
       "    .dataframe thead th {\n",
       "        text-align: right;\n",
       "    }\n",
       "</style>\n",
       "<table border=\"1\" class=\"dataframe\">\n",
       "  <thead>\n",
       "    <tr style=\"text-align: right;\">\n",
       "      <th></th>\n",
       "      <th>VehicleType</th>\n",
       "      <th>RegistrationYear</th>\n",
       "      <th>Gearbox</th>\n",
       "      <th>Power</th>\n",
       "      <th>Model</th>\n",
       "      <th>Kilometer</th>\n",
       "      <th>FuelType</th>\n",
       "      <th>Brand</th>\n",
       "      <th>NotRepaired</th>\n",
       "    </tr>\n",
       "  </thead>\n",
       "  <tbody>\n",
       "    <tr>\n",
       "      <th>0</th>\n",
       "      <td>1.349629</td>\n",
       "      <td>0.109759</td>\n",
       "      <td>0.267482</td>\n",
       "      <td>0.815913</td>\n",
       "      <td>-1.426844</td>\n",
       "      <td>0.593020</td>\n",
       "      <td>-1.560571</td>\n",
       "      <td>-1.430323</td>\n",
       "      <td>-0.627747</td>\n",
       "    </tr>\n",
       "    <tr>\n",
       "      <th>1</th>\n",
       "      <td>0.107298</td>\n",
       "      <td>-0.149643</td>\n",
       "      <td>0.267482</td>\n",
       "      <td>0.989924</td>\n",
       "      <td>0.768563</td>\n",
       "      <td>0.593020</td>\n",
       "      <td>-1.560571</td>\n",
       "      <td>1.299170</td>\n",
       "      <td>0.841930</td>\n",
       "    </tr>\n",
       "    <tr>\n",
       "      <th>2</th>\n",
       "      <td>-0.720922</td>\n",
       "      <td>-1.057552</td>\n",
       "      <td>0.267482</td>\n",
       "      <td>-0.454367</td>\n",
       "      <td>1.446158</td>\n",
       "      <td>0.593020</td>\n",
       "      <td>-1.560571</td>\n",
       "      <td>1.299170</td>\n",
       "      <td>-0.627747</td>\n",
       "    </tr>\n",
       "    <tr>\n",
       "      <th>3</th>\n",
       "      <td>-0.306812</td>\n",
       "      <td>-0.798149</td>\n",
       "      <td>0.267482</td>\n",
       "      <td>-0.036741</td>\n",
       "      <td>0.727907</td>\n",
       "      <td>0.593020</td>\n",
       "      <td>0.558332</td>\n",
       "      <td>1.299170</td>\n",
       "      <td>0.841930</td>\n",
       "    </tr>\n",
       "    <tr>\n",
       "      <th>4</th>\n",
       "      <td>0.107298</td>\n",
       "      <td>-0.019942</td>\n",
       "      <td>0.267482</td>\n",
       "      <td>-0.767587</td>\n",
       "      <td>-0.451108</td>\n",
       "      <td>-0.964064</td>\n",
       "      <td>0.558332</td>\n",
       "      <td>0.237701</td>\n",
       "      <td>2.311608</td>\n",
       "    </tr>\n",
       "  </tbody>\n",
       "</table>\n",
       "</div>"
      ],
      "text/plain": [
       "   VehicleType  RegistrationYear   Gearbox     Power     Model  Kilometer  \\\n",
       "0     1.349629          0.109759  0.267482  0.815913 -1.426844   0.593020   \n",
       "1     0.107298         -0.149643  0.267482  0.989924  0.768563   0.593020   \n",
       "2    -0.720922         -1.057552  0.267482 -0.454367  1.446158   0.593020   \n",
       "3    -0.306812         -0.798149  0.267482 -0.036741  0.727907   0.593020   \n",
       "4     0.107298         -0.019942  0.267482 -0.767587 -0.451108  -0.964064   \n",
       "\n",
       "   FuelType     Brand  NotRepaired  \n",
       "0 -1.560571 -1.430323    -0.627747  \n",
       "1 -1.560571  1.299170     0.841930  \n",
       "2 -1.560571  1.299170    -0.627747  \n",
       "3  0.558332  1.299170     0.841930  \n",
       "4  0.558332  0.237701     2.311608  "
      ]
     },
     "execution_count": 32,
     "metadata": {},
     "output_type": "execute_result"
    }
   ],
   "source": [
    "X_train.head()"
   ]
  },
  {
   "cell_type": "markdown",
   "metadata": {},
   "source": [
    "### Вывод\n",
    "\n",
    "Мы познакомились с данными и:\n",
    "- удалили в них неинформативные признаки;\n",
    "- исследовали и заполнили пропуски;\n",
    "- понизили размерности численных признаков;\n",
    "- обнаружили выбросы и избавились от них, где надо.\n",
    "\n",
    "После этого мы подготовили данные для работы моделей. А именно:\n",
    "- закодировали категориальные переменные, чтобы с ними могли работать линейные модели;\n",
    "- разбили датасет на обучающую и тестовую выборки;\n",
    "- масштбировали численные признаки, разброс значений признака не влиял на его значимость.\n",
    "\n",
    "Теперь все готово для обучения и сравнения моделей."
   ]
  },
  {
   "cell_type": "markdown",
   "metadata": {},
   "source": [
    "[К содержанию](#Содержание)"
   ]
  },
  {
   "cell_type": "markdown",
   "metadata": {},
   "source": [
    "## 4. Обучение моделей<a name=\"4.-Обучение-моделей\"></a>"
   ]
  },
  {
   "cell_type": "markdown",
   "metadata": {},
   "source": [
    "Мы будем обучать модели четырьмя способами: линейной регрессией, случайным лесом, стохастическим градиентым спуском и градиентным бустингом на деревьях решений."
   ]
  },
  {
   "cell_type": "markdown",
   "metadata": {},
   "source": [
    "### Линейная регрессия<a name=\"Линейная-регрессия\"></a>"
   ]
  },
  {
   "cell_type": "markdown",
   "metadata": {},
   "source": [
    "Для линейной регрессии мы не будем подбирать гиперпараметры. Но все равно обучим ее с помощью GridSearch, потому что иначе придется отдельно выделять валидационный датасет для проверки качества."
   ]
  },
  {
   "cell_type": "markdown",
   "metadata": {},
   "source": [
    "Оценивать модели будем по RMSE — качество по этой метрике интересуют заказчика. Также будем указывать `refit=True`, чтобы после определения лучшей модели GridSearch переобучал ее на всем тренировочном датасете. Это должно повысить качество предсказаний на тесте."
   ]
  },
  {
   "cell_type": "code",
   "execution_count": 33,
   "metadata": {},
   "outputs": [],
   "source": [
    "linreg = LinearRegression()\n",
    "\n",
    "linreg_gs = GridSearchCV(\n",
    "    estimator=linreg,\n",
    "    param_grid={},\n",
    "    scoring='neg_root_mean_squared_error',\n",
    "    cv=4,\n",
    "    refit=True)"
   ]
  },
  {
   "cell_type": "code",
   "execution_count": 34,
   "metadata": {},
   "outputs": [
    {
     "name": "stdout",
     "output_type": "stream",
     "text": [
      "\u001b[1mВремя обучения\u001b[0m\n",
      "CPU times: user 715 ms, sys: 56.9 ms, total: 772 ms\n",
      "Wall time: 222 ms\n"
     ]
    }
   ],
   "source": [
    "%%time\n",
    "\n",
    "linreg_gs.fit(X_train, y_train)\n",
    "\n",
    "print('\\033[1m' + 'Время обучения' + '\\033[0m')"
   ]
  },
  {
   "cell_type": "markdown",
   "metadata": {},
   "source": [
    "Выведем среднеквадратическую ошибку модели на валидационной выборке."
   ]
  },
  {
   "cell_type": "code",
   "execution_count": 35,
   "metadata": {},
   "outputs": [
    {
     "name": "stdout",
     "output_type": "stream",
     "text": [
      "Минимальный RMSE: 3163.717688375418\n"
     ]
    }
   ],
   "source": [
    "print('Минимальный RMSE:', abs(linreg_gs.best_score_))"
   ]
  },
  {
   "cell_type": "markdown",
   "metadata": {},
   "source": [
    "Оценивать скорость предсказания будем на тестовой выборке, потому что ее модель не видела."
   ]
  },
  {
   "cell_type": "code",
   "execution_count": 36,
   "metadata": {},
   "outputs": [
    {
     "name": "stdout",
     "output_type": "stream",
     "text": [
      "\u001b[1mВремя предсказания\u001b[0m\n",
      "CPU times: user 11 ms, sys: 1.83 ms, total: 12.8 ms\n",
      "Wall time: 2.99 ms\n"
     ]
    }
   ],
   "source": [
    "%%time\n",
    "\n",
    "linreg_gs.predict(X_test)\n",
    "\n",
    "print('\\033[1m' + 'Время предсказания' + '\\033[0m')"
   ]
  },
  {
   "cell_type": "markdown",
   "metadata": {},
   "source": [
    "Проанализируем результаты после обучения всех моделей."
   ]
  },
  {
   "cell_type": "markdown",
   "metadata": {},
   "source": [
    "### Случайный лес<a name=\"Случайный-лес\"></a>"
   ]
  },
  {
   "cell_type": "markdown",
   "metadata": {},
   "source": [
    "Этот и следующие разделы с обученим моделей анлогичны линейной регрессии, поэтому не будем их подробно расписывать.\n",
    "\n",
    "Единственное различие — создание словаря с гиперпараметрами, которые надо перебрать, и вывод лучших гиперпараметров после работы GridSearch."
   ]
  },
  {
   "cell_type": "code",
   "execution_count": 37,
   "metadata": {},
   "outputs": [],
   "source": [
    "forest = RandomForestRegressor(random_state=SEED)\n",
    "\n",
    "forest_parametrs = {\n",
    "    'n_estimators': range(1, 23, 7),\n",
    "    'max_depth': range(1, 32, 10)\n",
    "}\n",
    "\n",
    "forest_gs = GridSearchCV(\n",
    "    estimator=forest,\n",
    "    param_grid=forest_parametrs,\n",
    "    scoring='neg_root_mean_squared_error',\n",
    "    cv=4,\n",
    "    refit=True)"
   ]
  },
  {
   "cell_type": "code",
   "execution_count": 38,
   "metadata": {},
   "outputs": [
    {
     "name": "stdout",
     "output_type": "stream",
     "text": [
      "\u001b[1mВремя обучения\u001b[0m\n",
      "CPU times: user 3min 8s, sys: 2.57 s, total: 3min 10s\n",
      "Wall time: 3min 11s\n"
     ]
    }
   ],
   "source": [
    "%%time\n",
    "\n",
    "forest_gs.fit(X_train, y_train)\n",
    "\n",
    "print('\\033[1m' + 'Время обучения' + '\\033[0m')"
   ]
  },
  {
   "cell_type": "code",
   "execution_count": 39,
   "metadata": {},
   "outputs": [
    {
     "name": "stdout",
     "output_type": "stream",
     "text": [
      "Лучшие гиперпараметры: {'max_depth': 21, 'n_estimators': 22}\n",
      "Минимальный RMSE: 1837.768280888119\n"
     ]
    }
   ],
   "source": [
    "print('Лучшие гиперпараметры:', forest_gs.best_params_)\n",
    "print('Минимальный RMSE:', abs(forest_gs.best_score_))"
   ]
  },
  {
   "cell_type": "code",
   "execution_count": 40,
   "metadata": {},
   "outputs": [
    {
     "name": "stdout",
     "output_type": "stream",
     "text": [
      "\u001b[1mВремя предсказания\u001b[0m\n",
      "CPU times: user 401 ms, sys: 8.64 ms, total: 410 ms\n",
      "Wall time: 408 ms\n"
     ]
    }
   ],
   "source": [
    "%%time\n",
    "\n",
    "forest_gs.predict(X_test)\n",
    "\n",
    "print('\\033[1m' + 'Время предсказания' + '\\033[0m')"
   ]
  },
  {
   "cell_type": "markdown",
   "metadata": {},
   "source": [
    "### Стохастический градиентный спуск<a name=\"Стохастический-градиентный-спуск\"></a>"
   ]
  },
  {
   "cell_type": "code",
   "execution_count": 41,
   "metadata": {},
   "outputs": [],
   "source": [
    "sgd = SGDRegressor(random_state=SEED)\n",
    "\n",
    "sgd_params = {\n",
    "    'max_iter': [1e4, 1e5],\n",
    "    'learning_rate': ['constant', 'invscaling'],\n",
    "    'eta0': [1e-2, 1e-3, 1e-4]\n",
    "}\n",
    "\n",
    "sgd_gs = GridSearchCV(\n",
    "    estimator=sgd,\n",
    "    param_grid=sgd_params,\n",
    "    scoring='neg_root_mean_squared_error',\n",
    "    cv=4,\n",
    "    refit=True)"
   ]
  },
  {
   "cell_type": "code",
   "execution_count": 42,
   "metadata": {},
   "outputs": [
    {
     "name": "stdout",
     "output_type": "stream",
     "text": [
      "\u001b[1mВремя обучения\u001b[0m\n",
      "CPU times: user 53 s, sys: 615 ms, total: 53.6 s\n",
      "Wall time: 25 s\n"
     ]
    }
   ],
   "source": [
    "%%time\n",
    "\n",
    "sgd_gs.fit(X_train, y_train)\n",
    "\n",
    "print('\\033[1m' + 'Время обучения' + '\\033[0m')"
   ]
  },
  {
   "cell_type": "code",
   "execution_count": 43,
   "metadata": {},
   "outputs": [
    {
     "name": "stdout",
     "output_type": "stream",
     "text": [
      "Минимальный RMSE: 3163.7172824660056\n",
      "Лучшие гиперпараметры: {'eta0': 0.0001, 'learning_rate': 'invscaling', 'max_iter': 10000.0}\n"
     ]
    }
   ],
   "source": [
    "print('Минимальный RMSE:', abs(sgd_gs.best_score_))\n",
    "print('Лучшие гиперпараметры:', sgd_gs.best_params_)"
   ]
  },
  {
   "cell_type": "code",
   "execution_count": 44,
   "metadata": {},
   "outputs": [
    {
     "name": "stdout",
     "output_type": "stream",
     "text": [
      "\u001b[1mВремя предсказания\u001b[0m\n",
      "CPU times: user 4.7 ms, sys: 969 µs, total: 5.67 ms\n",
      "Wall time: 2.35 ms\n"
     ]
    }
   ],
   "source": [
    "%%time\n",
    "\n",
    "sgd_gs.predict(X_test)\n",
    "\n",
    "print('\\033[1m' + 'Время предсказания' + '\\033[0m')"
   ]
  },
  {
   "cell_type": "markdown",
   "metadata": {},
   "source": [
    "### Градиентный бустинг<a name=\"Градиентный-бустинг\"></a>"
   ]
  },
  {
   "cell_type": "code",
   "execution_count": 45,
   "metadata": {},
   "outputs": [],
   "source": [
    "lgbm = LGBMRegressor(random_state=SEED)\n",
    "\n",
    "lgbm_parameters = {\n",
    "    'n_estimators': [50, 100],\n",
    "    'boosting_type': ['gbdt', 'dart'],\n",
    "    'learning_rate': [0.01, 0.1, 0.5]\n",
    "}\n",
    "\n",
    "lgbm_gs = GridSearchCV(\n",
    "    estimator=lgbm,\n",
    "    param_grid=lgbm_parameters,\n",
    "    scoring='neg_root_mean_squared_error',\n",
    "    cv=4,\n",
    "    refit=True)"
   ]
  },
  {
   "cell_type": "code",
   "execution_count": 46,
   "metadata": {},
   "outputs": [
    {
     "name": "stdout",
     "output_type": "stream",
     "text": [
      "\u001b[1mВремя обучения\u001b[0m\n",
      "CPU times: user 4min 45s, sys: 3.15 s, total: 4min 48s\n",
      "Wall time: 36.7 s\n"
     ]
    }
   ],
   "source": [
    "%%time\n",
    "\n",
    "lgbm_gs.fit(X_train, y_train)\n",
    "\n",
    "print('\\033[1m' + 'Время обучения' + '\\033[0m')"
   ]
  },
  {
   "cell_type": "code",
   "execution_count": 47,
   "metadata": {},
   "outputs": [
    {
     "name": "stdout",
     "output_type": "stream",
     "text": [
      "Лучшие гиперпараметры: {'boosting_type': 'gbdt', 'learning_rate': 0.5, 'n_estimators': 100}\n",
      "Минимальный RMSE: 1780.0336370833002\n"
     ]
    }
   ],
   "source": [
    "print('Лучшие гиперпараметры:', lgbm_gs.best_params_)\n",
    "print('Минимальный RMSE:', abs(lgbm_gs.best_score_))"
   ]
  },
  {
   "cell_type": "code",
   "execution_count": 48,
   "metadata": {},
   "outputs": [
    {
     "name": "stdout",
     "output_type": "stream",
     "text": [
      "\u001b[1mВремя предсказания\u001b[0m\n",
      "CPU times: user 408 ms, sys: 13.7 ms, total: 422 ms\n",
      "Wall time: 72.7 ms\n"
     ]
    }
   ],
   "source": [
    "%%time\n",
    "\n",
    "lgbm_gs.predict(X_test)\n",
    "\n",
    "print('\\033[1m' + 'Время предсказания' + '\\033[0m')"
   ]
  },
  {
   "cell_type": "markdown",
   "metadata": {},
   "source": [
    "[К содержанию](#Содержание)"
   ]
  },
  {
   "cell_type": "markdown",
   "metadata": {},
   "source": [
    "## 5. Сравнение моделей<a name=\"5.-Сравнение-моделей\"></a>"
   ]
  },
  {
   "cell_type": "markdown",
   "metadata": {},
   "source": [
    "Сведем результаты моделей в одну таблицу, чтобы их было удобнее сравнивать."
   ]
  },
  {
   "cell_type": "code",
   "execution_count": 49,
   "metadata": {},
   "outputs": [
    {
     "data": {
      "text/html": [
       "<div>\n",
       "<style scoped>\n",
       "    .dataframe tbody tr th:only-of-type {\n",
       "        vertical-align: middle;\n",
       "    }\n",
       "\n",
       "    .dataframe tbody tr th {\n",
       "        vertical-align: top;\n",
       "    }\n",
       "\n",
       "    .dataframe thead th {\n",
       "        text-align: right;\n",
       "    }\n",
       "</style>\n",
       "<table border=\"1\" class=\"dataframe\">\n",
       "  <thead>\n",
       "    <tr style=\"text-align: right;\">\n",
       "      <th></th>\n",
       "      <th>Модель</th>\n",
       "      <th>Время обучения</th>\n",
       "      <th>Время предсказания (60 тысяч объектов)</th>\n",
       "      <th>RMSE при валидации</th>\n",
       "    </tr>\n",
       "  </thead>\n",
       "  <tbody>\n",
       "    <tr>\n",
       "      <th>0</th>\n",
       "      <td>Линейная регрессия</td>\n",
       "      <td>222 миллисекунды</td>\n",
       "      <td>3 миллисекунды</td>\n",
       "      <td>3164 евро</td>\n",
       "    </tr>\n",
       "    <tr>\n",
       "      <th>1</th>\n",
       "      <td>Случайный лес</td>\n",
       "      <td>3 минуты 11 секунд</td>\n",
       "      <td>408 миллисекунд</td>\n",
       "      <td>1838 евро</td>\n",
       "    </tr>\n",
       "    <tr>\n",
       "      <th>2</th>\n",
       "      <td>Стохастический градиентный спуск</td>\n",
       "      <td>25 секунд</td>\n",
       "      <td>2,35 миллисекунды</td>\n",
       "      <td>3164 евро</td>\n",
       "    </tr>\n",
       "    <tr>\n",
       "      <th>3</th>\n",
       "      <td>Градиентный бустинг</td>\n",
       "      <td>36,7 секунды</td>\n",
       "      <td>72,7 миллисекунды</td>\n",
       "      <td>1780 евро</td>\n",
       "    </tr>\n",
       "  </tbody>\n",
       "</table>\n",
       "</div>"
      ],
      "text/plain": [
       "                             Модель      Время обучения  \\\n",
       "0                Линейная регрессия    222 миллисекунды   \n",
       "1                     Случайный лес  3 минуты 11 секунд   \n",
       "2  Стохастический градиентный спуск           25 секунд   \n",
       "3               Градиентный бустинг        36,7 секунды   \n",
       "\n",
       "  Время предсказания (60 тысяч объектов) RMSE при валидации  \n",
       "0                         3 миллисекунды          3164 евро  \n",
       "1                        408 миллисекунд          1838 евро  \n",
       "2                      2,35 миллисекунды          3164 евро  \n",
       "3                      72,7 миллисекунды          1780 евро  "
      ]
     },
     "execution_count": 49,
     "metadata": {},
     "output_type": "execute_result"
    }
   ],
   "source": [
    "exp_columns = ['Модель', 'Время обучения',\n",
    "               'Время предсказания (60 тысяч объектов)',\n",
    "               'RMSE при валидации']\n",
    "\n",
    "exp_results = [\n",
    "    ['Линейная регрессия', '222 миллисекунды', '3 миллисекунды', '3164 евро'],\n",
    "    ['Случайный лес', '3 минуты 11 секунд', '408 миллисекунд', '1838 евро'],\n",
    "    ['Стохастический градиентный спуск', '25 секунд', '2,35 миллисекунды', '3164 евро'],\n",
    "    ['Градиентный бустинг', '36,7 секунды', '72,7 миллисекунды', '1780 евро'],\n",
    "]\n",
    "\n",
    "exp_results = pd.DataFrame(data=exp_results, columns=exp_columns)\n",
    "exp_results"
   ]
  },
  {
   "cell_type": "markdown",
   "metadata": {},
   "source": [
    "Для всех моделей, кроме линейной регрессии, при обучении мы подбирали параметры с помощью GridSearch. Во всех случаях сетка параметров образовывала 12 комбинаций."
   ]
  },
  {
   "cell_type": "markdown",
   "metadata": {},
   "source": [
    "### Градиентный бустинг и линейные модели<a name=\"Градиентный-бустинг-и-линейные-модели\"></a>"
   ]
  },
  {
   "cell_type": "markdown",
   "metadata": {},
   "source": [
    "Лидером исследования по качеству стал градиентный бустинг. RMSE лучшей модели при валидации — 1780 евро. Несмотря на то, что бустинг лишь третий по скорости обучения, он все равно быстро обучился — всего за 36,7 секунды.\n",
    "\n",
    "По скорости бустинг обгоняют только линейные модели, у которых гораздо хуже качество: RMSE и линейной регрессии, и градиентного спуска больше 3000 евро. При этом градиентный спуск обучился всего на 12 секунд быстрее. Такое небольшое уменьшение времени обучения не может компенсировать плохое качество. "
   ]
  },
  {
   "cell_type": "markdown",
   "metadata": {},
   "source": [
    "### Случайный лес и время предсказаний<a name=\"Случайный-лес-и-время-предсказаний\"></a>"
   ]
  },
  {
   "cell_type": "markdown",
   "metadata": {},
   "source": [
    "Дольше всех обучался случайный лес — больше трех минут. Зато у него высокое качество предсказаний: RMSE на валидации лишь немного уступает бустингу (1838 и 1780 евро соответственно)."
   ]
  },
  {
   "cell_type": "markdown",
   "metadata": {},
   "source": [
    "Также случайный лес дольше всех делает предсказания. Хотя этот параметр, мне кажется, некритичным, потому что даже случайный лес оценил 60 тысяч машин всего за 408 миллисекунд."
   ]
  },
  {
   "cell_type": "markdown",
   "metadata": {},
   "source": [
    "### Вывод<a name=\"Вывод\"></a>"
   ]
  },
  {
   "cell_type": "markdown",
   "metadata": {},
   "source": [
    "Учитывая результаты эксперимента, я рекомендую заказчику использовать градиентный бустинг как лучший вариант по соотношению «скокорость обучения / качество».\n",
    "\n",
    "Однако хочу отметить, что даже у него среднеквадратическая ошибка довольно большая. Медианная стоимость машин в тестовой выборке — 2700 евро. Ошибка в 1780 евро составляет 66% от нее, что очень много."
   ]
  },
  {
   "cell_type": "markdown",
   "metadata": {},
   "source": [
    "[К содержанию](#Содержание)"
   ]
  },
  {
   "cell_type": "markdown",
   "metadata": {},
   "source": [
    "## 6. Предсказание для тестовой выборки<a name=\"6.-Предсказание-для-тестовой-выборки\"></a>"
   ]
  },
  {
   "cell_type": "code",
   "execution_count": 50,
   "metadata": {},
   "outputs": [],
   "source": [
    "def RMSE(y, preds):\n",
    "    RMSE = round(mean_squared_error(y, preds, squared=False), 2)\n",
    "    return RMSE"
   ]
  },
  {
   "cell_type": "code",
   "execution_count": 51,
   "metadata": {},
   "outputs": [
    {
     "name": "stdout",
     "output_type": "stream",
     "text": [
      "RMSE на тесте: 1781.01\n"
     ]
    }
   ],
   "source": [
    "preds = lgbm_gs.predict(X_test)\n",
    "\n",
    "print('RMSE на тесте:', RMSE(y_test, preds))"
   ]
  },
  {
   "cell_type": "markdown",
   "metadata": {},
   "source": [
    "Среднеквадратическая ошибка на тестовой выборке на 30% ниже удовлетворительного значения в 2500 евро."
   ]
  },
  {
   "cell_type": "markdown",
   "metadata": {},
   "source": [
    "[К содержанию](#Содержание)"
   ]
  }
 ],
 "metadata": {
  "kernelspec": {
   "display_name": "Python 3 (ipykernel)",
   "language": "python",
   "name": "python3"
  },
  "language_info": {
   "codemirror_mode": {
    "name": "ipython",
    "version": 3
   },
   "file_extension": ".py",
   "mimetype": "text/x-python",
   "name": "python",
   "nbconvert_exporter": "python",
   "pygments_lexer": "ipython3",
   "version": "3.9.7"
  },
  "toc": {
   "base_numbering": 1,
   "nav_menu": {},
   "number_sections": false,
   "sideBar": true,
   "skip_h1_title": true,
   "title_cell": "Оглавление",
   "title_sidebar": "Содержание",
   "toc_cell": false,
   "toc_position": {
    "height": "calc(100% - 180px)",
    "left": "10px",
    "top": "150px",
    "width": "270.391px"
   },
   "toc_section_display": true,
   "toc_window_display": true
  }
 },
 "nbformat": 4,
 "nbformat_minor": 2
}
